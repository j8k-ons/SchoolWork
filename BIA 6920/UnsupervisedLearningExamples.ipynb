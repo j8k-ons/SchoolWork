{
 "cells": [
  {
   "cell_type": "markdown",
   "id": "97f1bfe4",
   "metadata": {},
   "source": [
    "# Simple K Means Convergence using Euclidean Distance"
   ]
  },
  {
   "cell_type": "markdown",
   "id": "3dba8592",
   "metadata": {},
   "source": [
    "## Calculating Euclidean Distance"
   ]
  },
  {
   "cell_type": "code",
   "execution_count": 1,
   "id": "ab81cd37",
   "metadata": {},
   "outputs": [],
   "source": [
    "#Import packages\n",
    "import math\n",
    "import numpy as np"
   ]
  },
  {
   "cell_type": "code",
   "execution_count": 2,
   "id": "873fe753",
   "metadata": {},
   "outputs": [],
   "source": [
    "# Naive Euclidean Distance algo \n",
    "# Only handles 2 dimensional \n",
    "def dist(a,b): \n",
    "    return math.sqrt(math.pow(a[0]-b[0],2) + math.pow(a[1]-b[1],2))"
   ]
  },
  {
   "cell_type": "code",
   "execution_count": 3,
   "id": "a1e93810",
   "metadata": {},
   "outputs": [],
   "source": [
    "# Centroid data point definitions\n",
    "centroids = [ (2,5), (8,3), (4,5)]\n",
    "\n",
    "# Point Definitions\n",
    "points = [(0,8),(10,5),(33,2),(2,4),(6,7),(11,1)]\n"
   ]
  },
  {
   "cell_type": "code",
   "execution_count": 4,
   "id": "f70d4f1c",
   "metadata": {},
   "outputs": [],
   "source": [
    "# Create cluster point dictionary \n",
    "clusters = {f\"cluster_{i}_points\": [] for i in range(0, len(centroids))}\n"
   ]
  },
  {
   "cell_type": "code",
   "execution_count": 5,
   "id": "dc974556",
   "metadata": {
    "scrolled": true
   },
   "outputs": [],
   "source": [
    "# Calculate Euclidean distance between x and centroid\n",
    "\n",
    "def realign(clusters, points, centroids): \n",
    "    # reset clusters, as they may change during recalculation of means in follow up function\n",
    "    clusters = {f\"cluster_{i}_points\": [] for i in range(0, len(centroids))}\n",
    "    \n",
    "    # Calculate Euclidean distance between each point and centroid\n",
    "    for point in points: \n",
    "        centroid_distances = []\n",
    "        closest = []\n",
    "        for centroid in centroids: \n",
    "            distance = dist(point,centroid) # Distance from point to centroid\n",
    "            \n",
    "            # if closest point not identified, set as closest\n",
    "            if len(closest) == 0:  \n",
    "                closest.append(centroid) \n",
    "                \n",
    "            #if closest point is greater than distance, set centroid as closest to point.\n",
    "            elif min(centroid_distances) > distance: \n",
    "                closest = []\n",
    "                closest.append(centroid)\n",
    "            #add to list of distances, to make sure that it is still minimum on next check\n",
    "            centroid_distances.append(distance)\n",
    "    \n",
    "        '''For the index, and element in centroids, if element is the element saved to closest var, \\\n",
    "            append the point to cluster associated index of the element in centroids'''\n",
    "        for i, p in enumerate(centroids): \n",
    "            if p == closest[0]: \n",
    "                clusters[f\"cluster_{i}_points\"].append(point) \n",
    "               \n",
    "\n",
    "        '''r i in range(0,len(centroids)): \n",
    "            print(clusters[f\"cluster_{i}_points\"])'''\n",
    "    \n",
    "    return clusters\n"
   ]
  },
  {
   "cell_type": "markdown",
   "id": "5fead150",
   "metadata": {},
   "source": [
    "## Exercise 1.03: Forming Clusters with Notion of Distance"
   ]
  },
  {
   "cell_type": "code",
   "execution_count": 6,
   "id": "91d1fcc0",
   "metadata": {},
   "outputs": [],
   "source": [
    "# Create a list of points\n",
    "clusters = realign(clusters,points,centroids)"
   ]
  },
  {
   "cell_type": "code",
   "execution_count": 7,
   "id": "5c47428a",
   "metadata": {},
   "outputs": [
    {
     "name": "stdout",
     "output_type": "stream",
     "text": [
      "Original Centroids: [(2, 5), (8, 3), (4, 5)]\n",
      "New Centroids: [(1.0, 6.0), (18.0, 2.6666666666666665), (6.0, 7.0)]\n",
      "Original Centroids: [(1.0, 6.0), (18.0, 2.6666666666666665), (6.0, 7.0)]\n",
      "New Centroids: [(1.0, 6.0), (22.0, 1.5), (8.0, 6.0)]\n",
      "Original Centroids: [(1.0, 6.0), (22.0, 1.5), (8.0, 6.0)]\n",
      "New Centroids: [(1.0, 6.0), (33.0, 2.0), (9.0, 4.333333333333333)]\n",
      "Original Centroids: [(1.0, 6.0), (33.0, 2.0), (9.0, 4.333333333333333)]\n",
      "New Centroids: [(1.0, 6.0), (33.0, 2.0), (9.0, 4.333333333333333)]\n",
      "Convergence\n"
     ]
    }
   ],
   "source": [
    "# Calculate the mean point between all points in a cluster\n",
    "# Number of Points is the denominator, and n count of numerator\n",
    "\n",
    "\n",
    "while True: \n",
    "    org_centroids = centroids.copy()\n",
    "    for i in range(0,len(centroids)): \n",
    "        clust_number = len(clusters[f\"cluster_{i}_points\"])\n",
    "        nCount = len(clusters[f\"cluster_{i}_points\"][0])\n",
    "        # Mean calculation \n",
    "        mean = []\n",
    "        for j in range(nCount):\n",
    "            elem = []\n",
    "            for k in range(clust_number): \n",
    "                elem.append(clusters[f\"cluster_{i}_points\"][k][j])\n",
    "            mean.append(sum(elem)/clust_number)\n",
    "        updated_centroid = (mean[0],mean[1])\n",
    "        # Set closest centroid to mean number and repeat\n",
    "        for l, p in enumerate(centroids): \n",
    "            if p == centroids[i]: \n",
    "                centroids[l] = updated_centroid\n",
    "                break\n",
    "    print('Original Centroids: {}'.format(org_centroids))\n",
    "    print('New Centroids: {}'.format(centroids))\n",
    "\n",
    "    if org_centroids != centroids: \n",
    "        clusters = realign(clusters, points, centroids)\n",
    "    else: \n",
    "        print('Convergence')\n",
    "        break\n",
    "\n"
   ]
  },
  {
   "cell_type": "code",
   "execution_count": null,
   "id": "4be061ae",
   "metadata": {},
   "outputs": [],
   "source": [
    "# Come back to this point and generate graphs for each iteration using matplotlib (1/16/24)"
   ]
  }
 ],
 "metadata": {
  "kernelspec": {
   "display_name": "Python 3 (ipykernel)",
   "language": "python",
   "name": "python3"
  },
  "language_info": {
   "codemirror_mode": {
    "name": "ipython",
    "version": 3
   },
   "file_extension": ".py",
   "mimetype": "text/x-python",
   "name": "python",
   "nbconvert_exporter": "python",
   "pygments_lexer": "ipython3",
   "version": "3.11.5"
  }
 },
 "nbformat": 4,
 "nbformat_minor": 5
}
