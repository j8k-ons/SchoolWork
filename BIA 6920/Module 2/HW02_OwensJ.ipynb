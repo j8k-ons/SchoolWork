{
 "cells": [
  {
   "cell_type": "markdown",
   "id": "2be9b475",
   "metadata": {},
   "source": [
    "## HW02 - SF Bike Share Data\n",
    "This assignment looks at the bike share data from the San Francisco Metro Transit Authority. "
   ]
  },
  {
   "cell_type": "markdown",
   "id": "d4ee613b",
   "metadata": {},
   "source": [
    "## Section 1: Importing Libraries"
   ]
  },
  {
   "cell_type": "markdown",
   "id": "1d5c0a16",
   "metadata": {},
   "source": [
    "### Description\n",
    "--- \n",
    "- This section imports various libraries and options that will be needed thoughout this code. \n",
    "  - numpy as np\n",
    "  - pandas as pd\n",
    "  - matplotlib as plt\n",
    "  - seaborn as sns\n",
    "  - datetime as dt\n",
    "\n",
    "- This section also adds options to be used throughout the code\n",
    "    - %matplotlib inline (allows matplotlib to display directly in the jupyter notebook)\n",
    "    - pd.set_option('display.max_columns',500). Sets the maximum columns displayed to 500. \n",
    "    - plt.style.use('seaborn-v0_8') Sets a preference of seaborn as the style for matplotlib. "
   ]
  },
  {
   "cell_type": "code",
   "execution_count": 1,
   "id": "df702ea1",
   "metadata": {},
   "outputs": [],
   "source": [
    "# Imports the necessary libraries and sets various options\n",
    "\n",
    "import numpy as np\n",
    "import pandas as pd\n",
    "import matplotlib as plt\n",
    "import seaborn as sns\n",
    "import datetime as dt\n",
    "\n",
    "%matplotlib inline\n",
    "pd.set_option('display.max_columns',500)\n",
    "plt.style.use('seaborn-v0_8') "
   ]
  },
  {
   "cell_type": "markdown",
   "id": "8f433dc1",
   "metadata": {},
   "source": [
    "## Summary\n",
    "---\n",
    "- All of the libraries imported without issue. \n",
    "- The plt.style.use('seaborn') instruction was deprecated, but 'seaborn-v0_8' is the new instruction that delivers the seaborn style. "
   ]
  },
  {
   "cell_type": "markdown",
   "id": "38af5580",
   "metadata": {},
   "source": [
    "## Section 2: Import Data"
   ]
  },
  {
   "cell_type": "markdown",
   "id": "1f97b218",
   "metadata": {},
   "source": [
    "### Description\n",
    "--- \n",
    "- This section uses pandas .read_csv method to import four files into Dataframes.\n",
    "- The files:\n",
    "  - status.csv - records of bike and dock availability by minute\n",
    "  - station.csv - records of station ID, name, latitude, longitude, dockcount, city, installation date\n",
    "  - trip.csv - records of individal trips\n",
    "  - weather.csv - Records of daily weather by city. \n",
    "- The code then reduces the columns of df_station and df_weather. "
   ]
  },
  {
   "cell_type": "code",
   "execution_count": 2,
   "id": "8fc0e40c",
   "metadata": {},
   "outputs": [],
   "source": [
    "# reads the csv files in the data directory to four new dataframes \n",
    "df_station = pd.read_csv('data/station.csv',index_col=0, header=0)\n",
    "df_weather = pd.read_csv('data/weather.csv',index_col=None, header=0)\n",
    "df_status = pd.read_csv('data/status.csv', index_col=None, header=0)\n",
    "df_trip = pd.read_csv('data/trip.csv', index_col=0, header=0)"
   ]
  },
  {
   "cell_type": "code",
   "execution_count": 3,
   "id": "34175c85",
   "metadata": {},
   "outputs": [],
   "source": [
    "# redefines the df_station dataframe to include only the needed columns listed here.\n",
    "df_station = df_station[['zip_code','name','city','dock_count']]"
   ]
  },
  {
   "cell_type": "code",
   "execution_count": 4,
   "id": "32928efb",
   "metadata": {},
   "outputs": [],
   "source": [
    "# redefines the df_weather dataframe to include only the needed columns listed here.\n",
    "df_weather = df_weather[['date','zip_code','max_temperature_f','mean_temperature_f','min_temperature_f','mean_dew_point_f','mean_humidity','max_wind_Speed_mph','mean_wind_speed_mph','max_gust_speed_mph','precipitation_inches','cloud_cover','events','wind_dir_degrees']]"
   ]
  },
  {
   "cell_type": "markdown",
   "id": "0e4e1215",
   "metadata": {},
   "source": [
    "### Summary\n",
    "---\n",
    "This code succesfully pulled data from each of the csv files, and then redefined the df_station and df_weather dataframes to only include the columns needed. "
   ]
  },
  {
   "cell_type": "markdown",
   "id": "86dc1815",
   "metadata": {},
   "source": [
    "## Section 3: Change Objects to Dates"
   ]
  },
  {
   "cell_type": "markdown",
   "id": "64e52c00",
   "metadata": {},
   "source": [
    "### Description\n",
    "--- \n",
    "This section uses the pd.to_datetime function to convert objects to dates. \n",
    "- df_status['time']\n",
    "- df_trip['start_date']\n",
    "- df_trip['end_date']\n",
    "- df_weather['date']\n"
   ]
  },
  {
   "cell_type": "code",
   "execution_count": 5,
   "id": "86b16ae2",
   "metadata": {},
   "outputs": [],
   "source": [
    "# reformats the df_status['time'] column to MM/DD/YY HH:MM\n",
    "df_status['time'] = pd.to_datetime(df_status['time'],format='%m/%d/%y %H:%M')"
   ]
  },
  {
   "cell_type": "code",
   "execution_count": 6,
   "id": "ddd73232",
   "metadata": {},
   "outputs": [],
   "source": [
    "# reformats the df_trip['start_date'] column to MM/DD/YY HH:MM\n",
    "df_trip['start_date'] = pd.to_datetime(df_trip['start_date'], format='%m/%d/%y %H:%M')"
   ]
  },
  {
   "cell_type": "code",
   "execution_count": 7,
   "id": "f7213934",
   "metadata": {},
   "outputs": [],
   "source": [
    "# reformats the df_trip['end_date'] column to MM/DD/YY HH:MM\n",
    "df_trip['end_date'] = pd.to_datetime(df_trip['end_date'], format='%m/%d/%y %H:%M')"
   ]
  },
  {
   "cell_type": "code",
   "execution_count": 8,
   "id": "ee1162f1",
   "metadata": {},
   "outputs": [],
   "source": [
    "# reformats the df_weather['date'] column to MM/DD/YYYY\n",
    "df_weather['date'] = pd.to_datetime(df_weather['date'], format='%m/%d/%Y')"
   ]
  },
  {
   "cell_type": "markdown",
   "id": "2623f8a3",
   "metadata": {},
   "source": [
    "### Summary\n",
    "---\n",
    "- This code converted the columns to date data types. \n",
    "- The to_datetime method requests a format parameter so that it does not have to depend upon the dateutil method to infer the structure of the date from the object. "
   ]
  },
  {
   "cell_type": "markdown",
   "id": "44af6b2c",
   "metadata": {},
   "source": [
    "## Section 4: Create additional Date Features"
   ]
  },
  {
   "cell_type": "markdown",
   "id": "49ffb844",
   "metadata": {},
   "source": [
    "### Description\n",
    "--- \n",
    "This section creates additional columns using the datetime functions and adds them to their respective Dataframes. \n",
    "\n",
    "- In df_weather from the df_weather['date'] column: \n",
    "    - df_weather['day'] as a number for dayofweek\n",
    "    - df_weather['month'] number for month \n",
    "    - df_weather['year']\n",
    "- In the df_trip DataFrame from the df_trip['start_date'] column, \n",
    "    - df_trip['date'] \n",
    "    - df_trip['day']\n",
    "    - df_trip['month']\n",
    "    - df_trip['day_of_week']\n",
    "    - df_trip['trip_time']\n",
    "    - df_trip['trip_time_m'] (this is created by casting to dtype timedelta64[s] and then divided by 60 and cast to int64\n",
    "    \n",
    "- In the df_status Dataframe, from the df_status['time'] column, \n",
    "    - df_status['date'] \n",
    "\n",
    "- Both df_trip['date'] and df_status['date'] are then cast to the correct date tye. "
   ]
  },
  {
   "cell_type": "code",
   "execution_count": 9,
   "id": "788cae4a",
   "metadata": {},
   "outputs": [],
   "source": [
    "# creates 3 new columns from the df_weather dataframe and various dt methods\n",
    "df_weather['day'] = df_weather['date'].dt.dayofweek\n",
    "df_weather['month'] = df_weather['date'].dt.month\n",
    "df_weather['year'] = df_weather['date'].dt.year"
   ]
  },
  {
   "cell_type": "code",
   "execution_count": 10,
   "id": "9dca4a95",
   "metadata": {},
   "outputs": [],
   "source": [
    "# creates 7 new columns using the df_trip dataframe and various dt methods\n",
    "df_trip['date'] = df_trip['start_date'].dt.date\n",
    "df_trip['day'] = df_trip['start_date'].dt.dayofweek.astype('int64')\n",
    "df_trip['month'] = df_trip['start_date'].dt.month.astype('int64')\n",
    "df_trip['year'] = df_trip['start_date'].dt.year.astype('int64')\n",
    "df_trip['day_of_week'] = df_trip['start_date'].dt.day_name()\n",
    "df_trip['trip_time'] = df_trip['end_date'] - df_trip['start_date']\n",
    "df_trip['trip_time_m'] = pd.to_timedelta(df_trip['trip_time']).astype('timedelta64[s]').astype('int64')\n",
    "df_trip['trip_time_m'] = (df_trip['trip_time_m']/60).astype('int64')"
   ]
  },
  {
   "cell_type": "code",
   "execution_count": 11,
   "id": "1bfc387e",
   "metadata": {},
   "outputs": [],
   "source": [
    "# reformats the ['date'] column to month/day/year format in df_trip\n",
    "df_trip['date'] = pd.to_datetime(df_trip['date'], format='%m/%d/%y')"
   ]
  },
  {
   "cell_type": "code",
   "execution_count": 12,
   "id": "1daf9c09",
   "metadata": {},
   "outputs": [],
   "source": [
    "# creates the ['date']  column in df_status using the ['time'] column and the dt.date method\n",
    "df_status['date'] = df_status['time'].dt.date"
   ]
  },
  {
   "cell_type": "code",
   "execution_count": 13,
   "id": "db0862c5",
   "metadata": {},
   "outputs": [],
   "source": [
    "# reformats the ['date'] column to a month/day/year format in df_status\n",
    "df_status['date'] = pd.to_datetime(df_status['date'], format='%m/%d/%y')"
   ]
  },
  {
   "cell_type": "markdown",
   "id": "17b04845",
   "metadata": {},
   "source": [
    "### Summary\n",
    "---\n",
    "This code created 11 new columns: \n",
    "- 3 in the df_weather Dataframe\n",
    "- 7 in the df_trip Dataframe\n",
    "- 1 in the df_status Dataframe \n"
   ]
  },
  {
   "cell_type": "markdown",
   "id": "05a7d4a8",
   "metadata": {},
   "source": [
    "## Section 5: Explore and Visualize Weather (df_weather)"
   ]
  },
  {
   "cell_type": "markdown",
   "id": "32777769",
   "metadata": {},
   "source": [
    "### Description\n",
    "--- \n",
    "This code creates a table of mean values from the df_weather dataframe, and then displays them in tabular and graphical formats. \n",
    "\n",
    "- First, the monthly mean stats are calclated using the groupby function, which found the mean of each of the numerical columns that were not zip_codes, days, months, or years. \n",
    "- Next, the mean temperature of the years and months are calculated and displayed using the groupby method. \n",
    "- Then, the month mean temperatures are displayed in a barchart using matplotlib. "
   ]
  },
  {
   "cell_type": "code",
   "execution_count": 14,
   "id": "e7c3a402",
   "metadata": {},
   "outputs": [],
   "source": [
    "# Create an index of the numeric columns from the df_weather dataframe to save in the monthly_stats dataframe later. \n",
    "# Source: https://pandas.pydata.org/pandas-docs/stable/reference/api/pandas.DataFrame.select_dtypes.html\n",
    "numeric_columns = df_weather.select_dtypes(include='number').columns"
   ]
  },
  {
   "cell_type": "code",
   "execution_count": 15,
   "id": "5b95cac5",
   "metadata": {},
   "outputs": [],
   "source": [
    "# the numeric columns index then drops the values that don't make sense having their mean value stored\n",
    "numeric_columns = numeric_columns.drop(['zip_code','day','month','year'])"
   ]
  },
  {
   "cell_type": "code",
   "execution_count": 16,
   "id": "e1449c8c",
   "metadata": {},
   "outputs": [],
   "source": [
    "# Creates teh monthly_stats dataframe using groupby on df_weather. \n",
    "# The groupby is performed by month, and stores the mean of the numeric_columns not excluded in the previous instruction.\n",
    "monthly_stats = df_weather.groupby(by=\"month\", as_index=False)[numeric_columns].mean()"
   ]
  },
  {
   "cell_type": "code",
   "execution_count": 17,
   "id": "cb14ae87",
   "metadata": {},
   "outputs": [
    {
     "data": {
      "text/html": [
       "<div>\n",
       "<style scoped>\n",
       "    .dataframe tbody tr th:only-of-type {\n",
       "        vertical-align: middle;\n",
       "    }\n",
       "\n",
       "    .dataframe tbody tr th {\n",
       "        vertical-align: top;\n",
       "    }\n",
       "\n",
       "    .dataframe thead th {\n",
       "        text-align: right;\n",
       "    }\n",
       "</style>\n",
       "<table border=\"1\" class=\"dataframe\">\n",
       "  <thead>\n",
       "    <tr style=\"text-align: right;\">\n",
       "      <th></th>\n",
       "      <th>month</th>\n",
       "      <th>max_temperature_f</th>\n",
       "      <th>mean_temperature_f</th>\n",
       "      <th>min_temperature_f</th>\n",
       "      <th>mean_dew_point_f</th>\n",
       "      <th>mean_humidity</th>\n",
       "      <th>max_wind_Speed_mph</th>\n",
       "      <th>mean_wind_speed_mph</th>\n",
       "      <th>max_gust_speed_mph</th>\n",
       "      <th>cloud_cover</th>\n",
       "      <th>wind_dir_degrees</th>\n",
       "    </tr>\n",
       "  </thead>\n",
       "  <tbody>\n",
       "    <tr>\n",
       "      <th>0</th>\n",
       "      <td>1</td>\n",
       "      <td>63.174194</td>\n",
       "      <td>52.809677</td>\n",
       "      <td>42.538710</td>\n",
       "      <td>41.090323</td>\n",
       "      <td>68.200000</td>\n",
       "      <td>11.312903</td>\n",
       "      <td>2.858065</td>\n",
       "      <td>16.133641</td>\n",
       "      <td>2.187097</td>\n",
       "      <td>256.261290</td>\n",
       "    </tr>\n",
       "    <tr>\n",
       "      <th>1</th>\n",
       "      <td>2</td>\n",
       "      <td>64.482143</td>\n",
       "      <td>56.135714</td>\n",
       "      <td>47.635714</td>\n",
       "      <td>46.575000</td>\n",
       "      <td>72.835714</td>\n",
       "      <td>16.410714</td>\n",
       "      <td>5.503571</td>\n",
       "      <td>24.372727</td>\n",
       "      <td>3.660714</td>\n",
       "      <td>248.942857</td>\n",
       "    </tr>\n",
       "    <tr>\n",
       "      <th>2</th>\n",
       "      <td>3</td>\n",
       "      <td>69.541935</td>\n",
       "      <td>59.719355</td>\n",
       "      <td>49.577419</td>\n",
       "      <td>46.783172</td>\n",
       "      <td>65.614887</td>\n",
       "      <td>15.987097</td>\n",
       "      <td>5.883871</td>\n",
       "      <td>22.197044</td>\n",
       "      <td>2.903226</td>\n",
       "      <td>253.587097</td>\n",
       "    </tr>\n",
       "    <tr>\n",
       "      <th>3</th>\n",
       "      <td>4</td>\n",
       "      <td>69.570000</td>\n",
       "      <td>59.913333</td>\n",
       "      <td>49.976667</td>\n",
       "      <td>45.663333</td>\n",
       "      <td>63.050000</td>\n",
       "      <td>18.506667</td>\n",
       "      <td>7.276667</td>\n",
       "      <td>23.924779</td>\n",
       "      <td>2.730000</td>\n",
       "      <td>283.053333</td>\n",
       "    </tr>\n",
       "    <tr>\n",
       "      <th>4</th>\n",
       "      <td>5</td>\n",
       "      <td>70.550489</td>\n",
       "      <td>62.244300</td>\n",
       "      <td>53.628664</td>\n",
       "      <td>47.859935</td>\n",
       "      <td>63.589577</td>\n",
       "      <td>19.506452</td>\n",
       "      <td>8.148387</td>\n",
       "      <td>24.641434</td>\n",
       "      <td>3.516129</td>\n",
       "      <td>278.883871</td>\n",
       "    </tr>\n",
       "    <tr>\n",
       "      <th>5</th>\n",
       "      <td>6</td>\n",
       "      <td>75.806667</td>\n",
       "      <td>66.346667</td>\n",
       "      <td>56.633333</td>\n",
       "      <td>53.227425</td>\n",
       "      <td>66.384615</td>\n",
       "      <td>18.163333</td>\n",
       "      <td>7.600000</td>\n",
       "      <td>23.283105</td>\n",
       "      <td>2.340000</td>\n",
       "      <td>282.770000</td>\n",
       "    </tr>\n",
       "    <tr>\n",
       "      <th>6</th>\n",
       "      <td>7</td>\n",
       "      <td>77.651613</td>\n",
       "      <td>69.238710</td>\n",
       "      <td>60.500000</td>\n",
       "      <td>56.861290</td>\n",
       "      <td>68.809677</td>\n",
       "      <td>18.758065</td>\n",
       "      <td>7.883871</td>\n",
       "      <td>23.354167</td>\n",
       "      <td>2.977419</td>\n",
       "      <td>277.309677</td>\n",
       "    </tr>\n",
       "    <tr>\n",
       "      <th>7</th>\n",
       "      <td>8</td>\n",
       "      <td>77.969136</td>\n",
       "      <td>69.561728</td>\n",
       "      <td>60.873457</td>\n",
       "      <td>57.024845</td>\n",
       "      <td>68.552795</td>\n",
       "      <td>17.941358</td>\n",
       "      <td>7.314815</td>\n",
       "      <td>22.979839</td>\n",
       "      <td>3.040123</td>\n",
       "      <td>277.061728</td>\n",
       "    </tr>\n",
       "    <tr>\n",
       "      <th>8</th>\n",
       "      <td>9</td>\n",
       "      <td>77.006667</td>\n",
       "      <td>67.730000</td>\n",
       "      <td>58.330000</td>\n",
       "      <td>55.216216</td>\n",
       "      <td>68.253378</td>\n",
       "      <td>17.863333</td>\n",
       "      <td>6.383333</td>\n",
       "      <td>23.542510</td>\n",
       "      <td>2.486667</td>\n",
       "      <td>300.456667</td>\n",
       "    </tr>\n",
       "    <tr>\n",
       "      <th>9</th>\n",
       "      <td>10</td>\n",
       "      <td>74.193548</td>\n",
       "      <td>63.229032</td>\n",
       "      <td>52.203226</td>\n",
       "      <td>48.181818</td>\n",
       "      <td>63.366883</td>\n",
       "      <td>15.106452</td>\n",
       "      <td>4.635484</td>\n",
       "      <td>22.589520</td>\n",
       "      <td>1.961290</td>\n",
       "      <td>284.596774</td>\n",
       "    </tr>\n",
       "    <tr>\n",
       "      <th>10</th>\n",
       "      <td>11</td>\n",
       "      <td>66.246667</td>\n",
       "      <td>56.940000</td>\n",
       "      <td>47.640000</td>\n",
       "      <td>45.705882</td>\n",
       "      <td>69.204152</td>\n",
       "      <td>13.106667</td>\n",
       "      <td>3.636667</td>\n",
       "      <td>18.737557</td>\n",
       "      <td>2.673333</td>\n",
       "      <td>243.753333</td>\n",
       "    </tr>\n",
       "    <tr>\n",
       "      <th>11</th>\n",
       "      <td>12</td>\n",
       "      <td>60.058065</td>\n",
       "      <td>51.629032</td>\n",
       "      <td>43.180645</td>\n",
       "      <td>40.120996</td>\n",
       "      <td>69.903915</td>\n",
       "      <td>14.116129</td>\n",
       "      <td>4.348387</td>\n",
       "      <td>21.171429</td>\n",
       "      <td>2.980645</td>\n",
       "      <td>211.819355</td>\n",
       "    </tr>\n",
       "  </tbody>\n",
       "</table>\n",
       "</div>"
      ],
      "text/plain": [
       "    month  max_temperature_f  mean_temperature_f  min_temperature_f  \\\n",
       "0       1          63.174194           52.809677          42.538710   \n",
       "1       2          64.482143           56.135714          47.635714   \n",
       "2       3          69.541935           59.719355          49.577419   \n",
       "3       4          69.570000           59.913333          49.976667   \n",
       "4       5          70.550489           62.244300          53.628664   \n",
       "5       6          75.806667           66.346667          56.633333   \n",
       "6       7          77.651613           69.238710          60.500000   \n",
       "7       8          77.969136           69.561728          60.873457   \n",
       "8       9          77.006667           67.730000          58.330000   \n",
       "9      10          74.193548           63.229032          52.203226   \n",
       "10     11          66.246667           56.940000          47.640000   \n",
       "11     12          60.058065           51.629032          43.180645   \n",
       "\n",
       "    mean_dew_point_f  mean_humidity  max_wind_Speed_mph  mean_wind_speed_mph  \\\n",
       "0          41.090323      68.200000           11.312903             2.858065   \n",
       "1          46.575000      72.835714           16.410714             5.503571   \n",
       "2          46.783172      65.614887           15.987097             5.883871   \n",
       "3          45.663333      63.050000           18.506667             7.276667   \n",
       "4          47.859935      63.589577           19.506452             8.148387   \n",
       "5          53.227425      66.384615           18.163333             7.600000   \n",
       "6          56.861290      68.809677           18.758065             7.883871   \n",
       "7          57.024845      68.552795           17.941358             7.314815   \n",
       "8          55.216216      68.253378           17.863333             6.383333   \n",
       "9          48.181818      63.366883           15.106452             4.635484   \n",
       "10         45.705882      69.204152           13.106667             3.636667   \n",
       "11         40.120996      69.903915           14.116129             4.348387   \n",
       "\n",
       "    max_gust_speed_mph  cloud_cover  wind_dir_degrees  \n",
       "0            16.133641     2.187097        256.261290  \n",
       "1            24.372727     3.660714        248.942857  \n",
       "2            22.197044     2.903226        253.587097  \n",
       "3            23.924779     2.730000        283.053333  \n",
       "4            24.641434     3.516129        278.883871  \n",
       "5            23.283105     2.340000        282.770000  \n",
       "6            23.354167     2.977419        277.309677  \n",
       "7            22.979839     3.040123        277.061728  \n",
       "8            23.542510     2.486667        300.456667  \n",
       "9            22.589520     1.961290        284.596774  \n",
       "10           18.737557     2.673333        243.753333  \n",
       "11           21.171429     2.980645        211.819355  "
      ]
     },
     "execution_count": 17,
     "metadata": {},
     "output_type": "execute_result"
    }
   ],
   "source": [
    "# Displays the monthly_stats dataframe \n",
    "monthly_stats"
   ]
  },
  {
   "cell_type": "code",
   "execution_count": 18,
   "id": "9506e01b",
   "metadata": {},
   "outputs": [],
   "source": [
    "# Creates two dataframes, year_mean_temp and month_mean_temp by using groupby on df_weather\n",
    "# then saving the mean temperature for year and month. \n",
    "year_mean_temp = df_weather.groupby(by = 'year', as_index=False)['mean_temperature_f'].mean()\n",
    "month_mean_temp = df_weather.groupby(by = \"month\", as_index=False)['mean_temperature_f'].mean()"
   ]
  },
  {
   "cell_type": "code",
   "execution_count": 19,
   "id": "778ba8c9",
   "metadata": {},
   "outputs": [
    {
     "data": {
      "text/html": [
       "<div>\n",
       "<style scoped>\n",
       "    .dataframe tbody tr th:only-of-type {\n",
       "        vertical-align: middle;\n",
       "    }\n",
       "\n",
       "    .dataframe tbody tr th {\n",
       "        vertical-align: top;\n",
       "    }\n",
       "\n",
       "    .dataframe thead th {\n",
       "        text-align: right;\n",
       "    }\n",
       "</style>\n",
       "<table border=\"1\" class=\"dataframe\">\n",
       "  <thead>\n",
       "    <tr style=\"text-align: right;\">\n",
       "      <th></th>\n",
       "      <th>year</th>\n",
       "      <th>mean_temperature_f</th>\n",
       "    </tr>\n",
       "  </thead>\n",
       "  <tbody>\n",
       "    <tr>\n",
       "      <th>0</th>\n",
       "      <td>2013</td>\n",
       "      <td>58.275200</td>\n",
       "    </tr>\n",
       "    <tr>\n",
       "      <th>1</th>\n",
       "      <td>2014</td>\n",
       "      <td>62.033973</td>\n",
       "    </tr>\n",
       "    <tr>\n",
       "      <th>2</th>\n",
       "      <td>2015</td>\n",
       "      <td>61.902560</td>\n",
       "    </tr>\n",
       "  </tbody>\n",
       "</table>\n",
       "</div>"
      ],
      "text/plain": [
       "   year  mean_temperature_f\n",
       "0  2013           58.275200\n",
       "1  2014           62.033973\n",
       "2  2015           61.902560"
      ]
     },
     "execution_count": 19,
     "metadata": {},
     "output_type": "execute_result"
    }
   ],
   "source": [
    "# Displays the year_mean_temp dataframe.\n",
    "year_mean_temp"
   ]
  },
  {
   "cell_type": "code",
   "execution_count": 20,
   "id": "f10ebf1d",
   "metadata": {},
   "outputs": [
    {
     "data": {
      "text/html": [
       "<div>\n",
       "<style scoped>\n",
       "    .dataframe tbody tr th:only-of-type {\n",
       "        vertical-align: middle;\n",
       "    }\n",
       "\n",
       "    .dataframe tbody tr th {\n",
       "        vertical-align: top;\n",
       "    }\n",
       "\n",
       "    .dataframe thead th {\n",
       "        text-align: right;\n",
       "    }\n",
       "</style>\n",
       "<table border=\"1\" class=\"dataframe\">\n",
       "  <thead>\n",
       "    <tr style=\"text-align: right;\">\n",
       "      <th></th>\n",
       "      <th>month</th>\n",
       "      <th>mean_temperature_f</th>\n",
       "    </tr>\n",
       "  </thead>\n",
       "  <tbody>\n",
       "    <tr>\n",
       "      <th>0</th>\n",
       "      <td>1</td>\n",
       "      <td>52.809677</td>\n",
       "    </tr>\n",
       "    <tr>\n",
       "      <th>1</th>\n",
       "      <td>2</td>\n",
       "      <td>56.135714</td>\n",
       "    </tr>\n",
       "    <tr>\n",
       "      <th>2</th>\n",
       "      <td>3</td>\n",
       "      <td>59.719355</td>\n",
       "    </tr>\n",
       "    <tr>\n",
       "      <th>3</th>\n",
       "      <td>4</td>\n",
       "      <td>59.913333</td>\n",
       "    </tr>\n",
       "    <tr>\n",
       "      <th>4</th>\n",
       "      <td>5</td>\n",
       "      <td>62.244300</td>\n",
       "    </tr>\n",
       "    <tr>\n",
       "      <th>5</th>\n",
       "      <td>6</td>\n",
       "      <td>66.346667</td>\n",
       "    </tr>\n",
       "    <tr>\n",
       "      <th>6</th>\n",
       "      <td>7</td>\n",
       "      <td>69.238710</td>\n",
       "    </tr>\n",
       "    <tr>\n",
       "      <th>7</th>\n",
       "      <td>8</td>\n",
       "      <td>69.561728</td>\n",
       "    </tr>\n",
       "    <tr>\n",
       "      <th>8</th>\n",
       "      <td>9</td>\n",
       "      <td>67.730000</td>\n",
       "    </tr>\n",
       "    <tr>\n",
       "      <th>9</th>\n",
       "      <td>10</td>\n",
       "      <td>63.229032</td>\n",
       "    </tr>\n",
       "    <tr>\n",
       "      <th>10</th>\n",
       "      <td>11</td>\n",
       "      <td>56.940000</td>\n",
       "    </tr>\n",
       "    <tr>\n",
       "      <th>11</th>\n",
       "      <td>12</td>\n",
       "      <td>51.629032</td>\n",
       "    </tr>\n",
       "  </tbody>\n",
       "</table>\n",
       "</div>"
      ],
      "text/plain": [
       "    month  mean_temperature_f\n",
       "0       1           52.809677\n",
       "1       2           56.135714\n",
       "2       3           59.719355\n",
       "3       4           59.913333\n",
       "4       5           62.244300\n",
       "5       6           66.346667\n",
       "6       7           69.238710\n",
       "7       8           69.561728\n",
       "8       9           67.730000\n",
       "9      10           63.229032\n",
       "10     11           56.940000\n",
       "11     12           51.629032"
      ]
     },
     "execution_count": 20,
     "metadata": {},
     "output_type": "execute_result"
    }
   ],
   "source": [
    "# Displays the month_mean_temp dataframe.\n",
    "month_mean_temp"
   ]
  },
  {
   "cell_type": "code",
   "execution_count": 21,
   "id": "6b4dc55d",
   "metadata": {},
   "outputs": [
    {
     "data": {
      "text/plain": [
       "<Axes: xlabel='month'>"
      ]
     },
     "execution_count": 21,
     "metadata": {},
     "output_type": "execute_result"
    },
    {
     "data": {
      "image/png": "[encoded data removed]",
      "text/plain": [
       "<Figure size 800x550 with 1 Axes>"
      ]
     },
     "metadata": {},
     "output_type": "display_data"
    }
   ],
   "source": [
    "# Creates a bar plot displaying the mean temperature for each month from the month_mean_temp dataframe. \n",
    "month_mean_temp.plot.bar(x=\"month\", y=\"mean_temperature_f\")"
   ]
  },
  {
   "cell_type": "markdown",
   "id": "0061bf0b",
   "metadata": {},
   "source": [
    "### Summary\n",
    "---\n",
    "\n",
    "This code calculated mean values from the monthly and yearly temperatures included in the df_weather dataframe, and then displayed them in tabular and graphical formats. "
   ]
  },
  {
   "cell_type": "markdown",
   "id": "ae543ffc",
   "metadata": {},
   "source": [
    "\n"
   ]
  },
  {
   "cell_type": "markdown",
   "id": "c53f0aaf",
   "metadata": {},
   "source": [
    "## Section 6: Explore and Visualize Trips"
   ]
  },
  {
   "cell_type": "markdown",
   "id": "24de1214",
   "metadata": {},
   "source": [
    "### Description\n",
    "--- \n",
    "\n",
    "This code creates a new dataframe, df_trip_day, that summarizes the numbers of trips in a day.\n",
    "It then calculates the sum of all of the time spent on trips each day, and adds them to a column, ['trip_time_m']. \n",
    "The trip_day['date'] values are then reformatted as date values, and then used to add the day name, month, and year to the df_trip_day dataframe. \n",
    "The df_trip_day dataframe is then displayed, using the order shown in the guidelines of Thursday through Wednesday, and displayed in a seaborne subplot of 1 row and 2 columns. The first graph shows the number of trips taken on average each day, and the second graph shows the amount of time spent on average each day.  "
   ]
  },
  {
   "cell_type": "code",
   "execution_count": 22,
   "id": "4a0b755a",
   "metadata": {},
   "outputs": [],
   "source": [
    "# Creates a dataframe, df_trip_day, that counts the number of bike trips by each date using the groupby method on df_trip\n",
    "df_trip_day = df_trip.groupby(['date'])['bike_id'].count()"
   ]
  },
  {
   "cell_type": "code",
   "execution_count": 23,
   "id": "9ac93a4a",
   "metadata": {},
   "outputs": [],
   "source": [
    "# resets the index\n",
    "df_trip_day = df_trip_day.reset_index()\n",
    "# renames the bike_id column to trip_count.\n",
    "df_trip_day = df_trip_day.rename(columns = {'bike_id':'trip_count'})"
   ]
  },
  {
   "cell_type": "code",
   "execution_count": 24,
   "id": "28873de2",
   "metadata": {},
   "outputs": [],
   "source": [
    "# Creates a second dataframe, df_trip_m, that shows the sum of trip time in minutes for each date using groupby on df_trip\n",
    "df_trip_m = pd.DataFrame(df_trip.groupby(['date'])['trip_time_m'].sum())\n",
    "# resets the index\n",
    "df_trip_m = df_trip_m.reset_index()"
   ]
  },
  {
   "cell_type": "code",
   "execution_count": 25,
   "id": "002bab61",
   "metadata": {
    "scrolled": true
   },
   "outputs": [],
   "source": [
    "# recasts the trip_time_m value as an integer\n",
    "df_trip_m['trip_time_m'] = df_trip_m['trip_time_m'].astype(int)"
   ]
  },
  {
   "cell_type": "code",
   "execution_count": 26,
   "id": "cd6d4732",
   "metadata": {},
   "outputs": [],
   "source": [
    "# Merges the df_trip_day and df_trip_m values on the date column. \n",
    "df_trip_day = pd.merge(df_trip_day, df_trip_m, how='inner',on='date')"
   ]
  },
  {
   "cell_type": "code",
   "execution_count": 27,
   "id": "4ad35998",
   "metadata": {},
   "outputs": [],
   "source": [
    "#Add a day_name, month, and year feature to df_trip_day\n",
    "df_trip_day['date'] = pd.to_datetime(df_trip_day['date'], format=\"%Y/%m/%d\")"
   ]
  },
  {
   "cell_type": "code",
   "execution_count": 28,
   "id": "2a5de0c0",
   "metadata": {},
   "outputs": [],
   "source": [
    "# Creates new columns in the df_trip_day dataframe for day_name, month, and year. \n",
    "df_trip_day['day_name'] = df_trip_day['date'].dt.day_name()\n",
    "df_trip_day['month'] = df_trip_day['date'].dt.month.astype('int64')\n",
    "df_trip_day['year'] = df_trip_day['date'].dt.year.astype('int64')"
   ]
  },
  {
   "cell_type": "code",
   "execution_count": 29,
   "id": "d3757f65",
   "metadata": {},
   "outputs": [],
   "source": [
    "# Establishes an order for displaying the data in the subplots. This was decided in the guidelines.\n",
    "order = ['Thursday','Friday','Saturday','Sunday','Monday','Tuesday','Wednesday']"
   ]
  },
  {
   "cell_type": "code",
   "execution_count": 30,
   "id": "02773fbf",
   "metadata": {},
   "outputs": [
    {
     "data": {
      "text/plain": [
       "<Axes: xlabel='day_name', ylabel='trip_time_m'>"
      ]
     },
     "execution_count": 30,
     "metadata": {},
     "output_type": "execute_result"
    },
    {
     "data": {
      "image/png": "[encoded data removed]",
      "text/plain": [
       "<Figure size 1600x800 with 2 Axes>"
      ]
     },
     "metadata": {},
     "output_type": "display_data"
    }
   ],
   "source": [
    "import matplotlib.pyplot as plt\n",
    "# Set up the subplot structure of 1 row with 2 columns, and the figure at a size of 16 by 8 (inches?)\n",
    "fig, axes = plt.subplots(1,2, figsize = (16,8))\n",
    "# Create a boxplot for trip_count for each day of the week. \n",
    "sns.boxplot(x='day_name', y=\"trip_count\", data = df_trip_day, ax=axes[0], order=order)\n",
    "# Create a boxplot for trip_time_m for each day of the week. Using [order] to display according to guidelines. \n",
    "sns.boxplot(x='day_name', y=\"trip_time_m\", data = df_trip_day, ax=axes[1], order=order)"
   ]
  },
  {
   "cell_type": "markdown",
   "id": "10560707",
   "metadata": {},
   "source": [
    "### Summary\n",
    "---\n",
    "The process for calculating and displaying the data was straight forward, but the contents of the graphs reveal that there is an obvious outlier in trip_time_m on Saturday. The outlier on Tuesday in trip_count is not abnormal, as it is within the normal bounds of surrounding days, and likely is the result of some explainable circumstances. "
   ]
  },
  {
   "cell_type": "markdown",
   "id": "b0f25d46",
   "metadata": {},
   "source": [
    "## Section 7: Find the outlier and recreate visualization"
   ]
  },
  {
   "cell_type": "markdown",
   "id": "1583e472",
   "metadata": {},
   "source": [
    "### Description\n",
    "--- \n",
    "This code finds and removes the outlier from the previous section in figure 2, and then replots the df_trip_day dataframe without the outlier. "
   ]
  },
  {
   "cell_type": "code",
   "execution_count": 31,
   "id": "3d36a3ab",
   "metadata": {},
   "outputs": [],
   "source": [
    "# Identifies the outlier using an extremely high value and drops it using the .drop method. \n",
    "# The .index method identifies which index to drop. \n",
    "df_trip_day = df_trip_day.drop(df_trip_day[df_trip_day['trip_time_m'] > 100000].index)"
   ]
  },
  {
   "cell_type": "code",
   "execution_count": 32,
   "id": "cfa7b984",
   "metadata": {},
   "outputs": [
    {
     "data": {
      "text/plain": [
       "<Axes: xlabel='day_name', ylabel='trip_time_m'>"
      ]
     },
     "execution_count": 32,
     "metadata": {},
     "output_type": "execute_result"
    },
    {
     "data": {
      "image/png": "[encoded data removed]",
      "text/plain": [
       "<Figure size 1600x800 with 2 Axes>"
      ]
     },
     "metadata": {},
     "output_type": "display_data"
    }
   ],
   "source": [
    "# Set up the subplot structure of 1 row with 2 columns, and the figure at a size of 16 by 8 (inches?)\n",
    "fig2, axes2 = plt.subplots(1,2, figsize = (16,8))\n",
    "# Create a boxplot for trip_count for each day of the week in order indicated in guidelines. Sets the plot to position 0. \n",
    "sns.boxplot(x='day_name', y=\"trip_count\", data = df_trip_day, ax=axes2[0],order=order)\n",
    "# Create a boxplot for trip_time_m for each day of the week in order indicated in guidelines. Sets the plot to position 1. \n",
    "sns.boxplot(x='day_name', y=\"trip_time_m\", data = df_trip_day, ax=axes2[1], order=order)"
   ]
  },
  {
   "cell_type": "markdown",
   "id": "178ac8ee",
   "metadata": {},
   "source": [
    "### Summary\n",
    "---\n",
    "The process for identifying the outlier was arbitrarily set at a value that was three times higher than the upper bounds of the next highest value. Removing the value and replotting the df_trip_day dataframe now shows a normal looking graph that is more useful. "
   ]
  },
  {
   "cell_type": "markdown",
   "id": "079de405",
   "metadata": {},
   "source": [
    "## Section 8: Merge datasets together into one main Dataframe"
   ]
  },
  {
   "cell_type": "markdown",
   "id": "f066bfc2",
   "metadata": {},
   "source": [
    "### Description\n",
    "--- \n",
    "This section creates two new dataframes, df_status_day and df_bike. \n",
    "\n",
    "- df_status_day is created by grouping the df_status values on date and station id, and then calculates the median value of ['bikes available']. The df_status_day column then has it's index reset, and its date column converted into a datetime format. \n",
    "\n",
    "- In order for the ['id'] column to appear in the resulting df_bike dataframe, the index for df_station is reset. \n",
    "\n",
    "- df_bike is then created by a series of inner merges of: \n",
    "     - df_trip to df_station to create df_bike. \n",
    "     - df_weather into df_bike\n",
    "     - the new df_status_day into df_bike. \n",
    "     \n",
    " - The duplicate values are then removed and the remaining values are renamed to their original name. \n",
    " \n",
    " - The resulting df_bike dataframe contains a merged set of data to work with going forward. "
   ]
  },
  {
   "cell_type": "code",
   "execution_count": 33,
   "id": "76f1188c",
   "metadata": {},
   "outputs": [],
   "source": [
    "# Create a new Dataframe from df_status named df_status_day \n",
    "df_status_day = df_status.groupby(['date','station_id'])['bikes_available'].median()"
   ]
  },
  {
   "cell_type": "code",
   "execution_count": 34,
   "id": "446440eb",
   "metadata": {},
   "outputs": [],
   "source": [
    "# Resetting the df_status_day index \n",
    "df_status_day = df_status_day.reset_index()"
   ]
  },
  {
   "cell_type": "code",
   "execution_count": 35,
   "id": "f62e9937",
   "metadata": {
    "scrolled": true
   },
   "outputs": [],
   "source": [
    "#Setting the date column of df_status_day to a date value with Year/Month/Day format\n",
    "df_status_day['date'] = pd.to_datetime(df_status_day['date'], format=\"%Y/%m/%d\")"
   ]
  },
  {
   "cell_type": "code",
   "execution_count": 36,
   "id": "17110f8b",
   "metadata": {
    "scrolled": true
   },
   "outputs": [],
   "source": [
    "# Resetting the df_station dataframe's index to allow for the ['id'] column to appear in the merged dataframe\n",
    "df_station = df_station.reset_index()"
   ]
  },
  {
   "cell_type": "markdown",
   "id": "b4fde808",
   "metadata": {},
   "source": [
    "### Merge 1: df_trip to df_station"
   ]
  },
  {
   "cell_type": "code",
   "execution_count": 37,
   "id": "8b2cacb0",
   "metadata": {},
   "outputs": [],
   "source": [
    "# df_trip > df_station > df_weather > df_status_day\n",
    "df_bike = pd.merge(df_trip, df_station, how=\"inner\", left_on='start_station_id', right_on='id')"
   ]
  },
  {
   "cell_type": "markdown",
   "id": "aba2cd06",
   "metadata": {},
   "source": [
    "### Merge 2: df_bike to df_weather"
   ]
  },
  {
   "cell_type": "code",
   "execution_count": 38,
   "id": "e3d6d138",
   "metadata": {},
   "outputs": [],
   "source": [
    "df_bike = pd.merge(df_bike, df_weather,how=\"inner\",on=['date','zip_code'])"
   ]
  },
  {
   "cell_type": "markdown",
   "id": "1f0e5ae5",
   "metadata": {},
   "source": [
    "### Merge 3: df_bike to df_status_day"
   ]
  },
  {
   "cell_type": "code",
   "execution_count": 39,
   "id": "519e7505",
   "metadata": {},
   "outputs": [],
   "source": [
    "# Using the left_on and right_on parameters allows for two or more columns to serve as the keys \n",
    "df_bike = pd.merge(df_bike, df_status_day,how = \"inner\",left_on=['date','start_station_id'], right_on=['date','station_id'])"
   ]
  },
  {
   "cell_type": "markdown",
   "id": "1e2d5728",
   "metadata": {},
   "source": [
    "### Drop and rename the duplicates"
   ]
  },
  {
   "cell_type": "code",
   "execution_count": 40,
   "id": "0cfc00c2",
   "metadata": {},
   "outputs": [],
   "source": [
    "df_bike=df_bike.drop(columns = ['day_y','month_y','year_y'])\n",
    "df_bike=df_bike.rename(columns = {'day_x':'day','month_x':'month','year_x':'year'})"
   ]
  },
  {
   "cell_type": "markdown",
   "id": "6b38790f",
   "metadata": {},
   "source": [
    "### Summary\n",
    "---\n",
    "\n",
    "This code creates dataframes and then merges them together using the .merge() method. \n",
    "In order to merge on multiple factors, the left_on and right_on parameters must be set correctly, and the ordering of the dataframes in the merge method is important for the resulting dataframe structure. \n",
    "The resulting dataset contains null values, and will need to be addressed in the next sections. "
   ]
  },
  {
   "cell_type": "markdown",
   "id": "5d8063fd",
   "metadata": {},
   "source": [
    "## Section 9: Fill in NaN values"
   ]
  },
  {
   "cell_type": "markdown",
   "id": "9c35e0dc",
   "metadata": {},
   "source": [
    "### Description\n",
    "--- \n",
    "\n",
    "In this section, the null values in the ['events'], ['precipitation_inches'], ['max_temperatures_f'], ['mean_temperature_f'], ['min_temperature_f'] columns are set to non-null values using the .fillna method. "
   ]
  },
  {
   "cell_type": "code",
   "execution_count": 41,
   "id": "0098d362",
   "metadata": {},
   "outputs": [],
   "source": [
    "# For events, fill all NaN values with the word 'None'\n",
    "df_bike['events'] = df_bike['events'].fillna('None')\n",
    "\n",
    "# for precipitation_inches, replace all 'T' values with .001. \n",
    "df_bike['precipitation_inches'] = df_bike['precipitation_inches'].replace('T',0.001)\n",
    "\n",
    "# For ['max_temperature_f'] fill in NaN values with mean() \n",
    "df_bike['max_temperature_f'] = df_bike['max_temperature_f'].fillna(df_bike['max_temperature_f'].mean())\n",
    "\n",
    "# For ['mean_temperature_f'] fill in NaN values with mean() \n",
    "df_bike['mean_temperature_f'] = df_bike['mean_temperature_f'].fillna(df_bike['mean_temperature_f'].mean())\n",
    "\n",
    "# For ['min_temperature_f'] fill in NaN values with mean() \n",
    "df_bike['min_temperature_f'] = df_bike['min_temperature_f'].fillna(df_bike['min_temperature_f'].mean())"
   ]
  },
  {
   "cell_type": "markdown",
   "id": "4f239fb9",
   "metadata": {},
   "source": [
    "### Summary\n",
    "---\n",
    "\n",
    "The resulting dataframe contains no null values, and can now be used to create useful tables and graphs. "
   ]
  },
  {
   "cell_type": "markdown",
   "id": "7b74f807",
   "metadata": {},
   "source": [
    "## Section 10: Create a new column"
   ]
  },
  {
   "cell_type": "markdown",
   "id": "7b5c08cd",
   "metadata": {},
   "source": [
    "### Description\n",
    "--- \n",
    "In this section, a new column ['docks_avail'] is created in order to show the number of docks that are available for bikes at each station. This is done by subtracting the ['bikes_available'] column form the ['dock_count'] column. "
   ]
  },
  {
   "cell_type": "code",
   "execution_count": 42,
   "id": "4ba5464b",
   "metadata": {},
   "outputs": [],
   "source": [
    "df_bike['docks_avail'] = df_bike['dock_count'] - df_bike['bikes_available']"
   ]
  },
  {
   "cell_type": "markdown",
   "id": "cc1db652",
   "metadata": {},
   "source": [
    "### Summary\n",
    "---\n",
    "The df_bike dataframe now has all of the data needed to create a visual in the next section. "
   ]
  },
  {
   "cell_type": "markdown",
   "id": "70b73319",
   "metadata": {},
   "source": [
    "## Section 11: Create your own visual"
   ]
  },
  {
   "cell_type": "markdown",
   "id": "39cb7ae5",
   "metadata": {},
   "source": [
    "### Description\n",
    "--- \n",
    "This section contains code that displays data from the df_bike dataframe. \n",
    "\n",
    "The barplot uses the plt.subplots to design a 2 row, 1 columns data plot with: \n",
    "- The average number of bikes available at each station. \n",
    "- The average number of docks available at each station. \n",
    "\n"
   ]
  },
  {
   "cell_type": "code",
   "execution_count": 43,
   "id": "5166fc74",
   "metadata": {
    "scrolled": false
   },
   "outputs": [
    {
     "data": {
      "text/plain": [
       "<Axes: xlabel='station_id', ylabel='docks_avail'>"
      ]
     },
     "execution_count": 43,
     "metadata": {},
     "output_type": "execute_result"
    },
    {
     "data": {
      "image/png": "[encoded data removed]",
      "text/plain": [
       "<Figure size 1600x1200 with 2 Axes>"
      ]
     },
     "metadata": {},
     "output_type": "display_data"
    }
   ],
   "source": [
    "# sets the subplots to 2 rows of 1 column at size 16x12\n",
    "fig3, axes3 = plt.subplots(2,1, figsize = (16,12))\n",
    "\n",
    "# Create a boxplot for trip_time_m for each day of the week. The errorbar shows the standard deviation.  \n",
    "sns.barplot(df_bike, x='station_id',y='bikes_available', errorbar='sd', ax=axes3[0])\n",
    "sns.barplot(df_bike, x='station_id',y='docks_avail',errorbar='sd', ax=axes3[1])"
   ]
  },
  {
   "cell_type": "markdown",
   "id": "0382e642",
   "metadata": {},
   "source": [
    "### Summary\n",
    "---\n",
    "This section shows how the df_bike dataframe built in the previous section can be used to create informative data visualizations. Exploring this data shows the number of bikes and open docks available at each station. This could be helpful for someone who is interested in the best place to go to pick up a bike or to drop one off at an open dock."
   ]
  }
 ],
 "metadata": {
  "kernelspec": {
   "display_name": "Python 3 (ipykernel)",
   "language": "python",
   "name": "python3"
  },
  "language_info": {
   "codemirror_mode": {
    "name": "ipython",
    "version": 3
   },
   "file_extension": ".py",
   "mimetype": "text/x-python",
   "name": "python",
   "nbconvert_exporter": "python",
   "pygments_lexer": "ipython3",
   "version": "3.11.5"
  }
 },
 "nbformat": 4,
 "nbformat_minor": 5
}
