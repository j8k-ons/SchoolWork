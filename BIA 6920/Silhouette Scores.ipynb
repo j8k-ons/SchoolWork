{
 "cells": [
  {
   "cell_type": "markdown",
   "id": "5b1695a9",
   "metadata": {},
   "source": [
    "# Calculate the Silhouette Score of a Dataset"
   ]
  },
  {
   "cell_type": "code",
   "execution_count": 11,
   "id": "97381507",
   "metadata": {},
   "outputs": [],
   "source": [
    "import pandas as pd\n",
    "import numpy as np\n",
    "import matplotlib.pyplot as plt\n",
    "from sklearn.metrics import silhouette_score\n",
    "from scipy.spatial.distance import cdist\n",
    "np.random.seed(0)"
   ]
  },
  {
   "cell_type": "code",
   "execution_count": 12,
   "id": "7a5504e5",
   "metadata": {},
   "outputs": [],
   "source": [
    "# Import seed data\n",
    "seeds = pd.read_csv('Seed_Data.csv')"
   ]
  },
  {
   "cell_type": "code",
   "execution_count": 13,
   "id": "7f1d6b6b",
   "metadata": {},
   "outputs": [],
   "source": [
    "# Seperate X features\n",
    "X = seeds[['A','P','C','LK','WK','A_Coef','LKG']]"
   ]
  },
  {
   "cell_type": "code",
   "execution_count": 14,
   "id": "ccd10aac",
   "metadata": {},
   "outputs": [],
   "source": [
    "# K-means function\n",
    "def k_means(X,K): \n",
    "    # Keep track of history so you can see K-Means in action \n",
    "    centroids_history = []\n",
    "    labels_history = []\n",
    "    rand_index = np.random.choice(X.shape[0], K) # Randomly selects K elements from the number of rows in X. \n",
    "    print(f\"rand_index: {rand_index}\")\n",
    "    centroids = X[rand_index] # Creates an array of K rows randomly selected from X determined by rand_index \n",
    "    print(f\"centroids: {centroids}\")\n",
    "    centroids_history.append(centroids) # Adds the new array to the history of centroids. \n",
    "    \n",
    "    while True: \n",
    "        # Euclidean distance calculated for each point relative to centroids, then np.argmin returns \n",
    "        # index location of min distance = which cluster a point is assigned to\n",
    "        # labels is an array where each element is the index of the nearest centroid for point in X\n",
    "        labels = np.argmin(cdist(X,centroids), axis=1)\n",
    "        print(f\"labels: {labels}\")\n",
    "        labels_history.append(labels)\n",
    "        # Take mean of points within clusters to find new centroids\n",
    "        new_centroids = np.array([X[labels == i].mean(axis=0)\n",
    "                                 for i in range(K)])\n",
    "        print(f\"new centroids: {new_centroids}\")\n",
    "        centroids_history.append(new_centroids)\n",
    "        \n",
    "        # If old centroids and new centroids no longer change, K-Means is complete and ends. \n",
    "        # Otherwise, continue\n",
    "        if np.all(centroids == new_centroids):\n",
    "            break\n",
    "        centroids = new_centroids\n",
    "    return centroids, labels, centroids_history, labels_history"
   ]
  },
  {
   "cell_type": "code",
   "execution_count": 15,
   "id": "ef474b6b",
   "metadata": {},
   "outputs": [],
   "source": [
    "# Convert seeds X feature into a numpy matrix\n",
    "X_mat = X.values"
   ]
  },
  {
   "cell_type": "code",
   "execution_count": 27,
   "id": "04cca724",
   "metadata": {},
   "outputs": [
    {
     "name": "stdout",
     "output_type": "stream",
     "text": [
      "rand_index: [115 208 197]\n",
      "centroids: [[19.06   16.45    0.8854  6.416   3.719   2.248   6.163 ]\n",
      " [11.84   13.21    0.8521  5.175   2.836   3.598   5.044 ]\n",
      " [13.37   13.78    0.8849  5.32    3.128   4.67    5.091 ]]\n",
      "labels: [2 2 2 2 0 2 2 2 0 0 2 2 2 2 2 2 2 2 2 2 2 2 0 1 2 0 1 1 2 2 1 2 2 2 2 0 0\n",
      " 0 2 2 2 1 1 2 2 1 2 2 2 2 2 2 2 2 2 2 2 2 2 1 1 1 1 2 1 1 2 2 2 1 0 0 0 0\n",
      " 0 0 0 0 0 0 2 0 0 0 0 0 0 0 0 0 0 0 0 0 0 0 0 0 0 0 2 0 0 0 0 0 0 0 0 0 0\n",
      " 0 0 0 0 0 0 0 0 0 0 0 2 0 2 0 0 0 0 0 0 0 2 2 2 2 0 2 2 2 2 2 2 2 1 1 1 2\n",
      " 1 1 1 2 2 1 1 1 1 2 1 1 1 1 1 2 1 1 2 1 1 1 2 2 1 1 1 1 1 1 1 1 1 2 2 1 2\n",
      " 1 1 1 2 1 1 1 1 1 1 2 2 2 1 1 2 1 1 2 1 1 1 2 1 2]\n",
      "new centroids: [[18.49402985 16.19149254  0.8855403   6.17091045  3.70186567  3.37928507\n",
      "   6.00156716]\n",
      " [11.82672131 13.2057377   0.85139016  5.20234426  2.84908197  3.80832951\n",
      "   5.03580328]\n",
      " [14.1152439  14.23256098  0.87370366  5.50241463  3.20107317  3.88197561\n",
      "   5.20007317]]\n",
      "labels: [2 2 2 2 2 2 2 2 0 0 2 2 2 2 2 2 2 2 2 1 2 2 2 1 2 0 2 1 2 2 2 2 2 2 2 2 0\n",
      " 0 2 2 2 2 2 2 2 2 2 2 2 2 2 2 2 2 2 2 2 2 2 1 1 1 1 2 1 1 2 2 2 1 0 0 0 0\n",
      " 0 0 0 0 0 0 0 0 0 0 0 0 0 0 0 0 0 0 0 0 0 0 0 0 0 0 0 0 0 0 0 0 0 0 0 0 0\n",
      " 0 0 0 0 0 0 0 0 0 0 0 2 0 2 0 0 0 0 0 0 0 2 2 2 2 0 2 2 2 2 2 2 1 1 1 1 1\n",
      " 1 1 1 1 1 1 1 1 1 1 1 1 1 1 1 1 1 1 1 1 1 1 1 1 1 1 1 1 1 1 1 1 1 1 1 1 2\n",
      " 1 1 1 1 1 1 1 1 1 1 1 1 2 1 1 1 1 1 1 1 1 1 2 1 1]\n",
      "new centroids: [[18.54393939 16.22015152  0.88481667  6.18271212  3.70398485  3.51168182\n",
      "   6.02869697]\n",
      " [11.82472973 13.21310811  0.8505473   5.20663514  2.85145946  4.35752703\n",
      "   5.05644595]\n",
      " [14.55785714 14.41642857  0.87959     5.55202857  3.26908571  3.18306\n",
      "   5.19462857]]\n",
      "labels: [2 2 2 2 2 2 2 2 0 2 2 2 2 2 2 2 2 2 2 1 2 2 2 1 2 2 1 2 2 2 2 2 2 2 2 2 2\n",
      " 0 2 2 2 2 2 2 2 2 2 2 2 2 2 2 2 2 2 2 2 2 2 1 1 1 1 1 2 2 2 2 2 1 0 0 0 0\n",
      " 0 0 0 0 0 0 0 0 0 0 0 0 0 0 0 0 0 0 0 0 0 0 0 0 0 0 2 0 0 0 0 0 0 0 0 0 0\n",
      " 0 0 0 0 0 0 0 0 0 0 0 2 0 2 0 0 0 0 0 0 0 2 2 2 2 0 2 2 2 1 1 1 1 1 1 1 1\n",
      " 1 1 1 1 1 1 1 1 1 1 1 1 1 1 1 1 1 1 1 1 1 1 1 1 1 1 1 1 1 1 1 1 1 1 1 1 1\n",
      " 1 1 1 1 1 1 1 1 1 1 1 1 1 1 1 1 1 1 1 1 1 1 1 1 1]\n",
      "new centroids: [[18.68806452 16.28387097  0.88491935  6.20641935  3.71851613  3.57837097\n",
      "   6.06304839]\n",
      " [11.92481013 13.26139241  0.85133291  5.22453165  2.86746835  4.57543038\n",
      "   5.08148101]\n",
      " [14.74289855 14.49565217  0.8810058   5.57182609  3.29317391  2.8075971\n",
      "   5.19346377]]\n",
      "labels: [2 2 2 2 2 2 2 2 2 2 2 2 2 2 2 2 1 2 2 1 2 2 2 1 2 2 1 2 2 2 2 2 2 2 2 2 2\n",
      " 0 2 1 2 2 2 2 2 2 2 2 2 2 2 2 2 2 2 2 2 2 2 1 1 1 1 1 2 2 2 2 2 1 0 0 0 0\n",
      " 0 0 0 0 0 0 0 0 0 0 0 0 0 0 0 0 0 0 0 0 0 0 0 0 0 0 2 0 0 0 0 0 0 0 0 0 0\n",
      " 0 0 0 0 0 0 0 0 0 0 0 2 0 2 0 0 0 0 0 0 0 2 2 2 2 0 2 2 2 1 1 1 1 1 1 1 1\n",
      " 1 1 1 1 1 1 1 1 1 1 1 1 1 1 1 1 1 1 1 1 1 1 1 1 1 1 1 1 1 1 1 1 1 1 1 1 1\n",
      " 1 1 1 1 1 1 1 1 1 1 1 1 1 1 1 1 1 1 1 1 1 1 1 1 1]\n",
      "new centroids: [[18.72180328 16.29737705  0.88508689  6.20893443  3.72267213  3.60359016\n",
      "   6.06609836]\n",
      " [11.97938272 13.27962963  0.85269136  5.22535802  2.87914815  4.60960494\n",
      "   5.07677778]\n",
      " [14.78852941 14.52441176  0.88016765  5.58813235  3.29430882  2.70360588\n",
      "   5.21241176]]\n",
      "labels: [2 2 2 2 2 2 2 2 2 2 2 2 2 2 2 2 1 2 2 1 2 2 2 1 2 2 1 2 2 2 2 2 2 2 2 2 2\n",
      " 0 2 1 2 2 2 2 2 2 2 2 2 2 2 2 2 2 2 2 2 2 2 1 1 1 1 1 2 2 2 2 2 1 0 0 0 0\n",
      " 0 0 0 0 0 0 0 0 0 0 0 0 0 0 0 0 0 0 0 0 0 0 0 0 0 0 2 0 0 0 0 0 0 0 0 0 0\n",
      " 0 0 0 0 0 0 0 0 0 0 0 2 0 2 0 0 0 0 0 0 0 2 2 2 2 0 2 2 2 1 1 1 1 1 1 1 1\n",
      " 1 1 1 1 1 1 1 1 1 1 1 1 1 1 1 1 1 1 1 1 1 1 1 1 1 1 1 1 1 1 1 1 1 1 1 1 1\n",
      " 1 1 1 1 1 1 1 1 1 1 1 1 1 1 1 1 1 1 1 1 1 1 1 1 1]\n",
      "new centroids: [[18.72180328 16.29737705  0.88508689  6.20893443  3.72267213  3.60359016\n",
      "   6.06609836]\n",
      " [11.97938272 13.27962963  0.85269136  5.22535802  2.87914815  4.60960494\n",
      "   5.07677778]\n",
      " [14.78852941 14.52441176  0.88016765  5.58813235  3.29430882  2.70360588\n",
      "   5.21241176]]\n"
     ]
    }
   ],
   "source": [
    "# Run k-means function on seeds matrix\n",
    "centroids, labels, centroids_history, labels_hitory = k_means(X_mat, 3)"
   ]
  },
  {
   "cell_type": "code",
   "execution_count": 28,
   "id": "8b18053c",
   "metadata": {},
   "outputs": [
    {
     "data": {
      "text/plain": [
       "0.5807182569954473"
      ]
     },
     "execution_count": 28,
     "metadata": {},
     "output_type": "execute_result"
    }
   ],
   "source": [
    "# Calculate the Silhouette Score for the Area and Length of the Kernel\n",
    "silhouette_score(X[['A','LK']], labels)"
   ]
  },
  {
   "cell_type": "markdown",
   "id": "c18a146e",
   "metadata": {},
   "source": [
    "## Finding the appropriate K"
   ]
  },
  {
   "cell_type": "markdown",
   "id": "407f54cc",
   "metadata": {},
   "source": [
    "## Elbow Method"
   ]
  },
  {
   "cell_type": "code",
   "execution_count": null,
   "id": "20ed9137",
   "metadata": {},
   "outputs": [],
   "source": [
    "# Pick a range of candidate values (e.g. 1 - 10)\n",
    "\n",
    "# Calculate the average distance from centroids for each value\n",
    "\n",
    "# Plot and find the \"elbow\", the point where there is a sharp drop in the graph. "
   ]
  },
  {
   "cell_type": "markdown",
   "id": "e8aaefb1",
   "metadata": {},
   "source": [
    "## Silhouette Method\n",
    "### How well the clustering algorithm performed"
   ]
  },
  {
   "cell_type": "code",
   "execution_count": null,
   "id": "c5e2b5c4",
   "metadata": {},
   "outputs": [],
   "source": [
    "# Pick a range of candidate values (e.g. 1 - 10)\n",
    "\n",
    "# Plot silhouettes for each value of K\n",
    "\n",
    "# Ideal value for Silhouette is 1, Worst value is -1 \n",
    "\n",
    "# For any point i, calculate silhouette coefficient\n",
    "\n",
    "# Find a(i) and b(i). Ideally a(i) < b(i). If a(i) > b(i), it is misclassified. \n",
    "\n",
    "# For any point i\n",
    "\n",
    "# s(i) = b(i) - a(i) / max(b(i), a(i))"
   ]
  }
 ],
 "metadata": {
  "kernelspec": {
   "display_name": "Python 3 (ipykernel)",
   "language": "python",
   "name": "python3"
  },
  "language_info": {
   "codemirror_mode": {
    "name": "ipython",
    "version": 3
   },
   "file_extension": ".py",
   "mimetype": "text/x-python",
   "name": "python",
   "nbconvert_exporter": "python",
   "pygments_lexer": "ipython3",
   "version": "3.11.5"
  }
 },
 "nbformat": 4,
 "nbformat_minor": 5
}
