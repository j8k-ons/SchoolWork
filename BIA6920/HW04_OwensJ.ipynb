{
 "cells": [
  {
   "cell_type": "markdown",
   "id": "c89a357a",
   "metadata": {},
   "source": [
    "# Homework 04: Regression for Bike Sharing"
   ]
  },
  {
   "cell_type": "markdown",
   "id": "fce8644e",
   "metadata": {},
   "source": [
    "## Section 1.0: Importing Libraries"
   ]
  },
  {
   "cell_type": "markdown",
   "id": "2b3825c2",
   "metadata": {},
   "source": [
    "### Description\n",
    "This code imports the needed libraries for the project. \n",
    "- #### [statsmodels][statsmodelsid] is a Python module that provides classes and functions for the estimation of many different statistical models, as well as for conducting statistical tests, and statistical data exploration. \n",
    "- #### [sklearn][sklearnid] is the machine learning Python library for doing predictive data analysis. \n",
    "[sklearnid]: https://scikit-learn.org/stable/index.html \"sklearn docs\"\n",
    "[statsmodelsid]: https://www.statsmodels.org/stable/index.html \"statsmodels docs\"\n",
    "\n"
   ]
  },
  {
   "cell_type": "code",
   "execution_count": 1,
   "id": "cc495bfc",
   "metadata": {},
   "outputs": [],
   "source": [
    "import pandas as pd\n",
    "import matplotlib.pyplot as plt\n",
    "import statsmodels.api as sm\n",
    "import statsmodels.formula.api as smf\n",
    "\n",
    "from sklearn.model_selection import train_test_split\n",
    "from sklearn.linear_model import Lasso, Ridge\n",
    "from sklearn.preprocessing import StandardScaler\n",
    "from sklearn.linear_model import LinearRegression\n",
    "from sklearn.metrics import mean_squared_error, r2_score\n",
    "\n",
    "\n",
    "plt.style.use('ggplot')\n",
    "%matplotlib inline"
   ]
  },
  {
   "cell_type": "markdown",
   "id": "8a2ee3c4",
   "metadata": {},
   "source": [
    "### Summary\n",
    "- All of the libraries imported without issue.\n",
    "- I made the decision to import all necessary libraries needed for the code here, as it is easier to reference this document later to see if I used the library in this code. \n",
    "- 'ggplot' is Grammar of Graphics plotting style, chosen for its aesthetic "
   ]
  },
  {
   "cell_type": "markdown",
   "id": "866af58a",
   "metadata": {},
   "source": [
    "## Section 1.1: Data Preparation"
   ]
  },
  {
   "cell_type": "markdown",
   "id": "50474b77",
   "metadata": {},
   "source": [
    "### Description\n",
    "- In this section, the df_bike dataframe is created from the bikeday.csv file. \n",
    "- Some of the df_bike dataframe's columns are transformed to discrete sets of values, such as 0 and 1 or 1,2,3,4. \n",
    "- Some columns are converted into dummy variable columns, which enumerate the various entries into their own columns. For example, the day_of_week columns includes values for each day, and when converted to a dummy variable, each day gets a column. \n",
    "- The columns converted to dummy variables are then dropped. "
   ]
  },
  {
   "cell_type": "code",
   "execution_count": 2,
   "id": "094d65da",
   "metadata": {},
   "outputs": [],
   "source": [
    "df_bike = pd.read_csv('data/bikeday.csv', index_col=None, header=0)"
   ]
  },
  {
   "cell_type": "code",
   "execution_count": 3,
   "id": "c9866a18",
   "metadata": {},
   "outputs": [],
   "source": [
    "# Transform the bikes_avail_min column to 1 or 0 in new columns \"bikes_out\"\n",
    "def bike_out(d): \n",
    "    if d['bikes_avail_min'] == 0: \n",
    "        return 1\n",
    "    else: \n",
    "        return 0\n",
    "\n",
    "df_bike['bikes_out'] = df_bike.apply(bike_out, axis = 1); #applies the function to the column"
   ]
  },
  {
   "cell_type": "code",
   "execution_count": 4,
   "id": "8fb3dc26",
   "metadata": {},
   "outputs": [],
   "source": [
    "# Events column (Rain -Thunderstorm 4, Rain - Fog 3, Rain - 2, Fog - 1, None - 0)\n",
    "def weather(d): \n",
    "\n",
    "    if d['events'] == 'Rain-Thunderstorm': \n",
    "        return 4\n",
    "    elif d['events'] == 'Fog-Rain': \n",
    "        return 3\n",
    "    elif d['events'] == 'Rain':\n",
    "        return 2\n",
    "    elif d['events'] == 'Fog': \n",
    "        return 1\n",
    "    else: \n",
    "        return 0\n",
    "\n",
    "df_bike['events'] = df_bike.apply(weather, axis = 1); #applies the function to the column\n",
    "df_bike['events'] = pd.DataFrame(df_bike['events']) #saves the series as a dataframe. "
   ]
  },
  {
   "cell_type": "code",
   "execution_count": 5,
   "id": "9670cd67",
   "metadata": {},
   "outputs": [],
   "source": [
    "# day_of_week (Dummy variables)\n",
    "dummies_dow = pd.get_dummies(df_bike['day_of_week'], drop_first = False)\n",
    "df_bike = pd.concat([df_bike, dummies_dow], axis=1)"
   ]
  },
  {
   "cell_type": "code",
   "execution_count": 6,
   "id": "e5b34521",
   "metadata": {},
   "outputs": [],
   "source": [
    "# zip_code (dummy variables)\n",
    "dummies_zip = pd.get_dummies(df_bike['zip_code'], drop_first = False)\n",
    "df_bike = pd.concat([df_bike, dummies_zip], axis=1) #concatenate together"
   ]
  },
  {
   "cell_type": "code",
   "execution_count": 7,
   "id": "2318445c",
   "metadata": {
    "scrolled": true
   },
   "outputs": [],
   "source": [
    "# Drop zip_code, day_of_week. \n",
    "df_bike = df_bike.drop(['day_of_week','zip_code'], axis = 1)"
   ]
  },
  {
   "cell_type": "markdown",
   "id": "82bbe07c",
   "metadata": {},
   "source": [
    "### Summary\n",
    "- This code prepares the data to be analyzed via regression. \n",
    "- The act of converting some columns from an infinite number of values to a standard set of values was a new technique for me, and is incredibly useful for analysis. \n",
    "- Using functions to convert column values, as well as the creation of dummy variable columns was also interesting. \n",
    "- The ouput of this section is a df_bike dataset that has removed null values and includes quantifiable columns in the place of non-quantifiable values. "
   ]
  },
  {
   "cell_type": "markdown",
   "id": "80f7b9ae",
   "metadata": {},
   "source": [
    "## Section 1.2: Simple Linear Regression with Scikit-Learn\n",
    "#### Predicting the trip_time_sum based on the mean temperature"
   ]
  },
  {
   "cell_type": "markdown",
   "id": "19978d88",
   "metadata": {},
   "source": [
    "### Description\n",
    "- In this section, a simple linear regression model is created to compare mean temperature to trip times. \n",
    "- Using the sklearn LinearRegression function, and the .fit() .predict() methods, the relationship between the two values is meassured and plotted. \n",
    "-  the mean_squared_error comparing y to predictions shows the average squared difference between the outcome and the ones predicted by the model. \n",
    "- the r2 score shows the proportion of the variance in trip_time_sum values that is explained by the mean temperature. "
   ]
  },
  {
   "cell_type": "code",
   "execution_count": 8,
   "id": "c46035a3",
   "metadata": {},
   "outputs": [],
   "source": [
    "# create df_bike_reg from df_bike\n",
    "df_bike_reg = df_bike.drop(['date','start_station_id','bikes_out'], axis=1)\n",
    "# drop the date, start_station_id, and bikes_out columns from df_bike_reg"
   ]
  },
  {
   "cell_type": "code",
   "execution_count": 9,
   "id": "eeb9bfda",
   "metadata": {},
   "outputs": [],
   "source": [
    "# Create a new X variable from df_bike_reg['mean_temperature_f']\n",
    "X = df_bike_reg[['mean_temperature_f']]\n"
   ]
  },
  {
   "cell_type": "code",
   "execution_count": 10,
   "id": "6bf492ef",
   "metadata": {},
   "outputs": [],
   "source": [
    "# Create a new y variable from df_bike_reg['trip_time_sum'] (Be sure to reshape using y= y.values.reshape(-1,1))\n",
    "y = df_bike_reg[['trip_time_sum']]\n"
   ]
  },
  {
   "cell_type": "code",
   "execution_count": 11,
   "id": "07368484",
   "metadata": {},
   "outputs": [],
   "source": [
    "X = X.values.reshape(-1,1) #reshape to a range of -1 to 1\n",
    "y = y.values.reshape(-1,1) #reshape to a range of -1 to 1"
   ]
  },
  {
   "cell_type": "code",
   "execution_count": 12,
   "id": "efefd845",
   "metadata": {},
   "outputs": [],
   "source": [
    "reg = LinearRegression() #create a linear regression model"
   ]
  },
  {
   "cell_type": "code",
   "execution_count": 13,
   "id": "0efc2dde",
   "metadata": {},
   "outputs": [
    {
     "data": {
      "text/html": [
       "<style>#sk-container-id-1 {color: black;}#sk-container-id-1 pre{padding: 0;}#sk-container-id-1 div.sk-toggleable {background-color: white;}#sk-container-id-1 label.sk-toggleable__label {cursor: pointer;display: block;width: 100%;margin-bottom: 0;padding: 0.3em;box-sizing: border-box;text-align: center;}#sk-container-id-1 label.sk-toggleable__label-arrow:before {content: \"▸\";float: left;margin-right: 0.25em;color: #696969;}#sk-container-id-1 label.sk-toggleable__label-arrow:hover:before {color: black;}#sk-container-id-1 div.sk-estimator:hover label.sk-toggleable__label-arrow:before {color: black;}#sk-container-id-1 div.sk-toggleable__content {max-height: 0;max-width: 0;overflow: hidden;text-align: left;background-color: #f0f8ff;}#sk-container-id-1 div.sk-toggleable__content pre {margin: 0.2em;color: black;border-radius: 0.25em;background-color: #f0f8ff;}#sk-container-id-1 input.sk-toggleable__control:checked~div.sk-toggleable__content {max-height: 200px;max-width: 100%;overflow: auto;}#sk-container-id-1 input.sk-toggleable__control:checked~label.sk-toggleable__label-arrow:before {content: \"▾\";}#sk-container-id-1 div.sk-estimator input.sk-toggleable__control:checked~label.sk-toggleable__label {background-color: #d4ebff;}#sk-container-id-1 div.sk-label input.sk-toggleable__control:checked~label.sk-toggleable__label {background-color: #d4ebff;}#sk-container-id-1 input.sk-hidden--visually {border: 0;clip: rect(1px 1px 1px 1px);clip: rect(1px, 1px, 1px, 1px);height: 1px;margin: -1px;overflow: hidden;padding: 0;position: absolute;width: 1px;}#sk-container-id-1 div.sk-estimator {font-family: monospace;background-color: #f0f8ff;border: 1px dotted black;border-radius: 0.25em;box-sizing: border-box;margin-bottom: 0.5em;}#sk-container-id-1 div.sk-estimator:hover {background-color: #d4ebff;}#sk-container-id-1 div.sk-parallel-item::after {content: \"\";width: 100%;border-bottom: 1px solid gray;flex-grow: 1;}#sk-container-id-1 div.sk-label:hover label.sk-toggleable__label {background-color: #d4ebff;}#sk-container-id-1 div.sk-serial::before {content: \"\";position: absolute;border-left: 1px solid gray;box-sizing: border-box;top: 0;bottom: 0;left: 50%;z-index: 0;}#sk-container-id-1 div.sk-serial {display: flex;flex-direction: column;align-items: center;background-color: white;padding-right: 0.2em;padding-left: 0.2em;position: relative;}#sk-container-id-1 div.sk-item {position: relative;z-index: 1;}#sk-container-id-1 div.sk-parallel {display: flex;align-items: stretch;justify-content: center;background-color: white;position: relative;}#sk-container-id-1 div.sk-item::before, #sk-container-id-1 div.sk-parallel-item::before {content: \"\";position: absolute;border-left: 1px solid gray;box-sizing: border-box;top: 0;bottom: 0;left: 50%;z-index: -1;}#sk-container-id-1 div.sk-parallel-item {display: flex;flex-direction: column;z-index: 1;position: relative;background-color: white;}#sk-container-id-1 div.sk-parallel-item:first-child::after {align-self: flex-end;width: 50%;}#sk-container-id-1 div.sk-parallel-item:last-child::after {align-self: flex-start;width: 50%;}#sk-container-id-1 div.sk-parallel-item:only-child::after {width: 0;}#sk-container-id-1 div.sk-dashed-wrapped {border: 1px dashed gray;margin: 0 0.4em 0.5em 0.4em;box-sizing: border-box;padding-bottom: 0.4em;background-color: white;}#sk-container-id-1 div.sk-label label {font-family: monospace;font-weight: bold;display: inline-block;line-height: 1.2em;}#sk-container-id-1 div.sk-label-container {text-align: center;}#sk-container-id-1 div.sk-container {/* jupyter's `normalize.less` sets `[hidden] { display: none; }` but bootstrap.min.css set `[hidden] { display: none !important; }` so we also need the `!important` here to be able to override the default hidden behavior on the sphinx rendered scikit-learn.org. See: https://github.com/scikit-learn/scikit-learn/issues/21755 */display: inline-block !important;position: relative;}#sk-container-id-1 div.sk-text-repr-fallback {display: none;}</style><div id=\"sk-container-id-1\" class=\"sk-top-container\"><div class=\"sk-text-repr-fallback\"><pre>LinearRegression()</pre><b>In a Jupyter environment, please rerun this cell to show the HTML representation or trust the notebook. <br />On GitHub, the HTML representation is unable to render, please try loading this page with nbviewer.org.</b></div><div class=\"sk-container\" hidden><div class=\"sk-item\"><div class=\"sk-estimator sk-toggleable\"><input class=\"sk-toggleable__control sk-hidden--visually\" id=\"sk-estimator-id-1\" type=\"checkbox\" checked><label for=\"sk-estimator-id-1\" class=\"sk-toggleable__label sk-toggleable__label-arrow\">LinearRegression</label><div class=\"sk-toggleable__content\"><pre>LinearRegression()</pre></div></div></div></div></div>"
      ],
      "text/plain": [
       "LinearRegression()"
      ]
     },
     "execution_count": 13,
     "metadata": {},
     "output_type": "execute_result"
    }
   ],
   "source": [
    "reg.fit(X,y) #fit the model"
   ]
  },
  {
   "cell_type": "code",
   "execution_count": 14,
   "id": "26b14d89",
   "metadata": {},
   "outputs": [],
   "source": [
    "predictions = reg.predict(X) #generates predictions"
   ]
  },
  {
   "cell_type": "code",
   "execution_count": 15,
   "id": "14e13032",
   "metadata": {},
   "outputs": [
    {
     "data": {
      "text/plain": [
       "327566.3145176107"
      ]
     },
     "execution_count": 15,
     "metadata": {},
     "output_type": "execute_result"
    }
   ],
   "source": [
    "# mean_squared_error showing the amount of error between the predictions and the y values\n",
    "mean_squared_error(y,predictions)"
   ]
  },
  {
   "cell_type": "code",
   "execution_count": 16,
   "id": "7d9df769",
   "metadata": {},
   "outputs": [
    {
     "data": {
      "text/plain": [
       "0.0006129431291654885"
      ]
     },
     "execution_count": 16,
     "metadata": {},
     "output_type": "execute_result"
    }
   ],
   "source": [
    "# The r^2 score shows the variability explained by the relationship\n",
    "r2_score(y,predictions)"
   ]
  },
  {
   "cell_type": "code",
   "execution_count": 17,
   "id": "c1ee4839",
   "metadata": {},
   "outputs": [
    {
     "data": {
      "text/plain": [
       "<matplotlib.collections.PathCollection at 0x1e44af20c10>"
      ]
     },
     "execution_count": 17,
     "metadata": {},
     "output_type": "execute_result"
    },
    {
     "data": {
      "image/png": "[encoded data removed]",
      "text/plain": [
       "<Figure size 640x480 with 1 Axes>"
      ]
     },
     "metadata": {},
     "output_type": "display_data"
    }
   ],
   "source": [
    "# Run a scatter plot with X as x, y as y. \n",
    "plt.scatter(X,y,color=\"blue\")\n"
   ]
  },
  {
   "cell_type": "code",
   "execution_count": 18,
   "id": "d403efba",
   "metadata": {},
   "outputs": [
    {
     "data": {
      "text/plain": [
       "[<matplotlib.lines.Line2D at 0x1e44d0a93d0>]"
      ]
     },
     "execution_count": 18,
     "metadata": {},
     "output_type": "execute_result"
    },
    {
     "data": {
      "image/png": "[encoded data removed]",
      "text/plain": [
       "<Figure size 640x480 with 1 Axes>"
      ]
     },
     "metadata": {},
     "output_type": "display_data"
    }
   ],
   "source": [
    "# Plot the relationship between the X value and the predictions. Should be linear. \n",
    "plt.plot(X, predictions, color=\"black\")"
   ]
  },
  {
   "cell_type": "markdown",
   "id": "5fb5fd7a",
   "metadata": {},
   "source": [
    "### Summary\n",
    "\n",
    "- This code showed how to perform and display simple linear regression models. \n",
    "\n",
    "- The mean squared error value indicates the amount of error between the linear regression model and the test data. The closer to 0, the better, so it is likely that this model is not very good at predicting values. \n",
    "\n",
    "- For R^2, the .0006 value is much lower than an ideal of >.6. Therefore, the mean temperature explains almost none of the variability in the data. \n",
    "\n",
    "- The scatter plot shows a somewhat normally distributed set, with some outlier values. Therefore, as the temperatures are at lower and higher extremes, people appear to be spending less time on their bikes. This could simply be due to the date range, or the normal range of temperatures in this location. This may be why the model is not finding a strong relationship between the values. \n",
    "\n",
    "- The plot of X and predictions is linear and is actually composed of many dots. I believe that this is useful for analyzing the relationship between the independent variable and the predictions, and if it is not done correctly, it does not portray a perfect linear relationship. In this case it does. \n"
   ]
  },
  {
   "cell_type": "markdown",
   "id": "8112140f",
   "metadata": {},
   "source": [
    "## Section 1.3: Multiple Regression and Backward Elimination"
   ]
  },
  {
   "cell_type": "markdown",
   "id": "04829681",
   "metadata": {},
   "source": [
    "### Description\n",
    "- This section performs mulitple regression, comparing ten features and then producing summary statistics to determine if any of them are unneccessary. \n",
    "- This section uses statsmodels, which performs oridinary least squares and creates the multiple regression model from it. \n",
    "- The unneccessary features are removed from the model, and the remaining features are used to provide an ideal sized model for performing multiple regression. "
   ]
  },
  {
   "cell_type": "code",
   "execution_count": 19,
   "id": "61e88bfe",
   "metadata": {},
   "outputs": [
    {
     "name": "stdout",
     "output_type": "stream",
     "text": [
      "<class 'pandas.core.frame.DataFrame'>\n",
      "RangeIndex: 40844 entries, 0 to 40843\n",
      "Data columns (total 33 columns):\n",
      " #   Column                Non-Null Count  Dtype  \n",
      "---  ------                --------------  -----  \n",
      " 0   trip_time_sum         40844 non-null  int64  \n",
      " 1   trip_count            40844 non-null  int64  \n",
      " 2   subscribe_%           40844 non-null  float64\n",
      " 3   station_id            40844 non-null  int64  \n",
      " 4   bikes_avail_median    40844 non-null  float64\n",
      " 5   docks_avail_median    40844 non-null  float64\n",
      " 6   bikes_avail_min       40844 non-null  int64  \n",
      " 7   dock_count            40844 non-null  int64  \n",
      " 8   docks_avail_min       40844 non-null  int64  \n",
      " 9   max_temperature_f     40844 non-null  int64  \n",
      " 10  mean_temperature_f    40844 non-null  int64  \n",
      " 11  min_temperature_f     40844 non-null  int64  \n",
      " 12  mean_dew_point_f      40844 non-null  int64  \n",
      " 13  mean_humidity         40844 non-null  int64  \n",
      " 14  max_wind_Speed_mph    40844 non-null  int64  \n",
      " 15  mean_wind_speed_mph   40844 non-null  int64  \n",
      " 16  max_gust_speed_mph    40844 non-null  int64  \n",
      " 17  precipitation_inches  40844 non-null  float64\n",
      " 18  cloud_cover           40844 non-null  int64  \n",
      " 19  events                40844 non-null  int64  \n",
      " 20  wind_dir_degrees      40844 non-null  int64  \n",
      " 21  Friday                40844 non-null  bool   \n",
      " 22  Monday                40844 non-null  bool   \n",
      " 23  Saturday              40844 non-null  bool   \n",
      " 24  Sunday                40844 non-null  bool   \n",
      " 25  Thursday              40844 non-null  bool   \n",
      " 26  Tuesday               40844 non-null  bool   \n",
      " 27  Wednesday             40844 non-null  bool   \n",
      " 28  94041                 40844 non-null  bool   \n",
      " 29  94063                 40844 non-null  bool   \n",
      " 30  94107                 40844 non-null  bool   \n",
      " 31  94301                 40844 non-null  bool   \n",
      " 32  95113                 40844 non-null  bool   \n",
      "dtypes: bool(12), float64(4), int64(17)\n",
      "memory usage: 7.0 MB\n"
     ]
    }
   ],
   "source": [
    "df_bike_reg.info()"
   ]
  },
  {
   "cell_type": "code",
   "execution_count": 20,
   "id": "27d9e1d3",
   "metadata": {},
   "outputs": [],
   "source": [
    "# Run a multiple regression named 'est'\n",
    "est = smf.ols(formula='trip_time_sum ~ trip_count + bikes_avail_median + dock_count + docks_avail_median + mean_temperature_f + mean_humidity + mean_wind_speed_mph + precipitation_inches + cloud_cover + events', data = df_bike_reg).fit()"
   ]
  },
  {
   "cell_type": "code",
   "execution_count": 21,
   "id": "9e7a1a23",
   "metadata": {},
   "outputs": [
    {
     "data": {
      "text/html": [
       "<table class=\"simpletable\">\n",
       "<caption>OLS Regression Results</caption>\n",
       "<tr>\n",
       "  <th>Dep. Variable:</th>      <td>trip_time_sum</td>  <th>  R-squared:         </th>  <td>   0.158</td>  \n",
       "</tr>\n",
       "<tr>\n",
       "  <th>Model:</th>                   <td>OLS</td>       <th>  Adj. R-squared:    </th>  <td>   0.158</td>  \n",
       "</tr>\n",
       "<tr>\n",
       "  <th>Method:</th>             <td>Least Squares</td>  <th>  F-statistic:       </th>  <td>   852.7</td>  \n",
       "</tr>\n",
       "<tr>\n",
       "  <th>Date:</th>             <td>Wed, 14 Feb 2024</td> <th>  Prob (F-statistic):</th>   <td>  0.00</td>   \n",
       "</tr>\n",
       "<tr>\n",
       "  <th>Time:</th>                 <td>18:00:12</td>     <th>  Log-Likelihood:    </th> <td>-3.1380e+05</td>\n",
       "</tr>\n",
       "<tr>\n",
       "  <th>No. Observations:</th>      <td> 40844</td>      <th>  AIC:               </th>  <td>6.276e+05</td> \n",
       "</tr>\n",
       "<tr>\n",
       "  <th>Df Residuals:</th>          <td> 40834</td>      <th>  BIC:               </th>  <td>6.277e+05</td> \n",
       "</tr>\n",
       "<tr>\n",
       "  <th>Df Model:</th>              <td>     9</td>      <th>                     </th>      <td> </td>     \n",
       "</tr>\n",
       "<tr>\n",
       "  <th>Covariance Type:</th>      <td>nonrobust</td>    <th>                     </th>      <td> </td>     \n",
       "</tr>\n",
       "</table>\n",
       "<table class=\"simpletable\">\n",
       "<tr>\n",
       "            <td></td>              <th>coef</th>     <th>std err</th>      <th>t</th>      <th>P>|t|</th>  <th>[0.025</th>    <th>0.975]</th>  \n",
       "</tr>\n",
       "<tr>\n",
       "  <th>Intercept</th>            <td> -137.6198</td> <td>   35.397</td> <td>   -3.888</td> <td> 0.000</td> <td> -206.998</td> <td>  -68.241</td>\n",
       "</tr>\n",
       "<tr>\n",
       "  <th>trip_count</th>           <td>   12.1793</td> <td>    0.158</td> <td>   76.994</td> <td> 0.000</td> <td>   11.869</td> <td>   12.489</td>\n",
       "</tr>\n",
       "<tr>\n",
       "  <th>bikes_avail_median</th>   <td>    2.9675</td> <td>    0.505</td> <td>    5.871</td> <td> 0.000</td> <td>    1.977</td> <td>    3.958</td>\n",
       "</tr>\n",
       "<tr>\n",
       "  <th>dock_count</th>           <td>    2.1404</td> <td>    0.453</td> <td>    4.727</td> <td> 0.000</td> <td>    1.253</td> <td>    3.028</td>\n",
       "</tr>\n",
       "<tr>\n",
       "  <th>docks_avail_median</th>   <td>   -0.8270</td> <td>    0.480</td> <td>   -1.723</td> <td> 0.085</td> <td>   -1.768</td> <td>    0.114</td>\n",
       "</tr>\n",
       "<tr>\n",
       "  <th>mean_temperature_f</th>   <td>    1.1780</td> <td>    0.417</td> <td>    2.825</td> <td> 0.005</td> <td>    0.361</td> <td>    1.995</td>\n",
       "</tr>\n",
       "<tr>\n",
       "  <th>mean_humidity</th>        <td>    1.1886</td> <td>    0.316</td> <td>    3.764</td> <td> 0.000</td> <td>    0.570</td> <td>    1.807</td>\n",
       "</tr>\n",
       "<tr>\n",
       "  <th>mean_wind_speed_mph</th>  <td>    5.4627</td> <td>    0.836</td> <td>    6.536</td> <td> 0.000</td> <td>    3.825</td> <td>    7.101</td>\n",
       "</tr>\n",
       "<tr>\n",
       "  <th>precipitation_inches</th> <td>  -23.4031</td> <td>   18.887</td> <td>   -1.239</td> <td> 0.215</td> <td>  -60.422</td> <td>   13.616</td>\n",
       "</tr>\n",
       "<tr>\n",
       "  <th>cloud_cover</th>          <td>   -7.0998</td> <td>    1.531</td> <td>   -4.636</td> <td> 0.000</td> <td>  -10.101</td> <td>   -4.098</td>\n",
       "</tr>\n",
       "<tr>\n",
       "  <th>events</th>               <td>  -13.4755</td> <td>    4.348</td> <td>   -3.099</td> <td> 0.002</td> <td>  -21.997</td> <td>   -4.954</td>\n",
       "</tr>\n",
       "</table>\n",
       "<table class=\"simpletable\">\n",
       "<tr>\n",
       "  <th>Omnibus:</th>       <td>93945.739</td> <th>  Durbin-Watson:     </th>    <td>   1.949</td>   \n",
       "</tr>\n",
       "<tr>\n",
       "  <th>Prob(Omnibus):</th>  <td> 0.000</td>   <th>  Jarque-Bera (JB):  </th> <td>1765998948.967</td>\n",
       "</tr>\n",
       "<tr>\n",
       "  <th>Skew:</th>           <td>22.060</td>   <th>  Prob(JB):          </th>    <td>    0.00</td>   \n",
       "</tr>\n",
       "<tr>\n",
       "  <th>Kurtosis:</th>      <td>1020.722</td>  <th>  Cond. No.          </th>    <td>1.16e+16</td>   \n",
       "</tr>\n",
       "</table><br/><br/>Notes:<br/>[1] Standard Errors assume that the covariance matrix of the errors is correctly specified.<br/>[2] The smallest eigenvalue is 2.79e-24. This might indicate that there are<br/>strong multicollinearity problems or that the design matrix is singular."
      ],
      "text/latex": [
       "\\begin{center}\n",
       "\\begin{tabular}{lclc}\n",
       "\\toprule\n",
       "\\textbf{Dep. Variable:}         & trip\\_time\\_sum  & \\textbf{  R-squared:         } &       0.158     \\\\\n",
       "\\textbf{Model:}                 &       OLS        & \\textbf{  Adj. R-squared:    } &       0.158     \\\\\n",
       "\\textbf{Method:}                &  Least Squares   & \\textbf{  F-statistic:       } &       852.7     \\\\\n",
       "\\textbf{Date:}                  & Wed, 14 Feb 2024 & \\textbf{  Prob (F-statistic):} &       0.00      \\\\\n",
       "\\textbf{Time:}                  &     18:00:12     & \\textbf{  Log-Likelihood:    } &  -3.1380e+05    \\\\\n",
       "\\textbf{No. Observations:}      &       40844      & \\textbf{  AIC:               } &   6.276e+05     \\\\\n",
       "\\textbf{Df Residuals:}          &       40834      & \\textbf{  BIC:               } &   6.277e+05     \\\\\n",
       "\\textbf{Df Model:}              &           9      & \\textbf{                     } &                 \\\\\n",
       "\\textbf{Covariance Type:}       &    nonrobust     & \\textbf{                     } &                 \\\\\n",
       "\\bottomrule\n",
       "\\end{tabular}\n",
       "\\begin{tabular}{lcccccc}\n",
       "                                & \\textbf{coef} & \\textbf{std err} & \\textbf{t} & \\textbf{P$> |$t$|$} & \\textbf{[0.025} & \\textbf{0.975]}  \\\\\n",
       "\\midrule\n",
       "\\textbf{Intercept}              &    -137.6198  &       35.397     &    -3.888  &         0.000        &     -206.998    &      -68.241     \\\\\n",
       "\\textbf{trip\\_count}            &      12.1793  &        0.158     &    76.994  &         0.000        &       11.869    &       12.489     \\\\\n",
       "\\textbf{bikes\\_avail\\_median}   &       2.9675  &        0.505     &     5.871  &         0.000        &        1.977    &        3.958     \\\\\n",
       "\\textbf{dock\\_count}            &       2.1404  &        0.453     &     4.727  &         0.000        &        1.253    &        3.028     \\\\\n",
       "\\textbf{docks\\_avail\\_median}   &      -0.8270  &        0.480     &    -1.723  &         0.085        &       -1.768    &        0.114     \\\\\n",
       "\\textbf{mean\\_temperature\\_f}   &       1.1780  &        0.417     &     2.825  &         0.005        &        0.361    &        1.995     \\\\\n",
       "\\textbf{mean\\_humidity}         &       1.1886  &        0.316     &     3.764  &         0.000        &        0.570    &        1.807     \\\\\n",
       "\\textbf{mean\\_wind\\_speed\\_mph} &       5.4627  &        0.836     &     6.536  &         0.000        &        3.825    &        7.101     \\\\\n",
       "\\textbf{precipitation\\_inches}  &     -23.4031  &       18.887     &    -1.239  &         0.215        &      -60.422    &       13.616     \\\\\n",
       "\\textbf{cloud\\_cover}           &      -7.0998  &        1.531     &    -4.636  &         0.000        &      -10.101    &       -4.098     \\\\\n",
       "\\textbf{events}                 &     -13.4755  &        4.348     &    -3.099  &         0.002        &      -21.997    &       -4.954     \\\\\n",
       "\\bottomrule\n",
       "\\end{tabular}\n",
       "\\begin{tabular}{lclc}\n",
       "\\textbf{Omnibus:}       & 93945.739 & \\textbf{  Durbin-Watson:     } &       1.949     \\\\\n",
       "\\textbf{Prob(Omnibus):} &    0.000  & \\textbf{  Jarque-Bera (JB):  } & 1765998948.967  \\\\\n",
       "\\textbf{Skew:}          &   22.060  & \\textbf{  Prob(JB):          } &        0.00     \\\\\n",
       "\\textbf{Kurtosis:}      &  1020.722 & \\textbf{  Cond. No.          } &    1.16e+16     \\\\\n",
       "\\bottomrule\n",
       "\\end{tabular}\n",
       "%\\caption{OLS Regression Results}\n",
       "\\end{center}\n",
       "\n",
       "Notes: \\newline\n",
       " [1] Standard Errors assume that the covariance matrix of the errors is correctly specified. \\newline\n",
       " [2] The smallest eigenvalue is 2.79e-24. This might indicate that there are \\newline\n",
       " strong multicollinearity problems or that the design matrix is singular."
      ],
      "text/plain": [
       "<class 'statsmodels.iolib.summary.Summary'>\n",
       "\"\"\"\n",
       "                            OLS Regression Results                            \n",
       "==============================================================================\n",
       "Dep. Variable:          trip_time_sum   R-squared:                       0.158\n",
       "Model:                            OLS   Adj. R-squared:                  0.158\n",
       "Method:                 Least Squares   F-statistic:                     852.7\n",
       "Date:                Wed, 14 Feb 2024   Prob (F-statistic):               0.00\n",
       "Time:                        18:00:12   Log-Likelihood:            -3.1380e+05\n",
       "No. Observations:               40844   AIC:                         6.276e+05\n",
       "Df Residuals:                   40834   BIC:                         6.277e+05\n",
       "Df Model:                           9                                         \n",
       "Covariance Type:            nonrobust                                         \n",
       "========================================================================================\n",
       "                           coef    std err          t      P>|t|      [0.025      0.975]\n",
       "----------------------------------------------------------------------------------------\n",
       "Intercept             -137.6198     35.397     -3.888      0.000    -206.998     -68.241\n",
       "trip_count              12.1793      0.158     76.994      0.000      11.869      12.489\n",
       "bikes_avail_median       2.9675      0.505      5.871      0.000       1.977       3.958\n",
       "dock_count               2.1404      0.453      4.727      0.000       1.253       3.028\n",
       "docks_avail_median      -0.8270      0.480     -1.723      0.085      -1.768       0.114\n",
       "mean_temperature_f       1.1780      0.417      2.825      0.005       0.361       1.995\n",
       "mean_humidity            1.1886      0.316      3.764      0.000       0.570       1.807\n",
       "mean_wind_speed_mph      5.4627      0.836      6.536      0.000       3.825       7.101\n",
       "precipitation_inches   -23.4031     18.887     -1.239      0.215     -60.422      13.616\n",
       "cloud_cover             -7.0998      1.531     -4.636      0.000     -10.101      -4.098\n",
       "events                 -13.4755      4.348     -3.099      0.002     -21.997      -4.954\n",
       "==============================================================================\n",
       "Omnibus:                    93945.739   Durbin-Watson:                   1.949\n",
       "Prob(Omnibus):                  0.000   Jarque-Bera (JB):       1765998948.967\n",
       "Skew:                          22.060   Prob(JB):                         0.00\n",
       "Kurtosis:                    1020.722   Cond. No.                     1.16e+16\n",
       "==============================================================================\n",
       "\n",
       "Notes:\n",
       "[1] Standard Errors assume that the covariance matrix of the errors is correctly specified.\n",
       "[2] The smallest eigenvalue is 2.79e-24. This might indicate that there are\n",
       "strong multicollinearity problems or that the design matrix is singular.\n",
       "\"\"\""
      ]
     },
     "execution_count": 21,
     "metadata": {},
     "output_type": "execute_result"
    }
   ],
   "source": [
    "# Analyze the summar statistics and eliminate all non-significant models;\n",
    "est.summary()"
   ]
  },
  {
   "cell_type": "code",
   "execution_count": 22,
   "id": "807e2513",
   "metadata": {},
   "outputs": [],
   "source": [
    "est1 = smf.ols(formula='trip_time_sum ~ trip_count + bikes_avail_median + dock_count + mean_temperature_f + mean_humidity + mean_wind_speed_mph + cloud_cover + events', data = df_bike_reg).fit()"
   ]
  },
  {
   "cell_type": "code",
   "execution_count": 23,
   "id": "1f4a2fac",
   "metadata": {},
   "outputs": [
    {
     "data": {
      "text/html": [
       "<table class=\"simpletable\">\n",
       "<caption>OLS Regression Results</caption>\n",
       "<tr>\n",
       "  <th>Dep. Variable:</th>      <td>trip_time_sum</td>  <th>  R-squared:         </th>  <td>   0.158</td>  \n",
       "</tr>\n",
       "<tr>\n",
       "  <th>Model:</th>                   <td>OLS</td>       <th>  Adj. R-squared:    </th>  <td>   0.158</td>  \n",
       "</tr>\n",
       "<tr>\n",
       "  <th>Method:</th>             <td>Least Squares</td>  <th>  F-statistic:       </th>  <td>   959.1</td>  \n",
       "</tr>\n",
       "<tr>\n",
       "  <th>Date:</th>             <td>Wed, 14 Feb 2024</td> <th>  Prob (F-statistic):</th>   <td>  0.00</td>   \n",
       "</tr>\n",
       "<tr>\n",
       "  <th>Time:</th>                 <td>18:00:12</td>     <th>  Log-Likelihood:    </th> <td>-3.1380e+05</td>\n",
       "</tr>\n",
       "<tr>\n",
       "  <th>No. Observations:</th>      <td> 40844</td>      <th>  AIC:               </th>  <td>6.276e+05</td> \n",
       "</tr>\n",
       "<tr>\n",
       "  <th>Df Residuals:</th>          <td> 40835</td>      <th>  BIC:               </th>  <td>6.277e+05</td> \n",
       "</tr>\n",
       "<tr>\n",
       "  <th>Df Model:</th>              <td>     8</td>      <th>                     </th>      <td> </td>     \n",
       "</tr>\n",
       "<tr>\n",
       "  <th>Covariance Type:</th>      <td>nonrobust</td>    <th>                     </th>      <td> </td>     \n",
       "</tr>\n",
       "</table>\n",
       "<table class=\"simpletable\">\n",
       "<tr>\n",
       "           <td></td>              <th>coef</th>     <th>std err</th>      <th>t</th>      <th>P>|t|</th>  <th>[0.025</th>    <th>0.975]</th>  \n",
       "</tr>\n",
       "<tr>\n",
       "  <th>Intercept</th>           <td> -138.2430</td> <td>   35.393</td> <td>   -3.906</td> <td> 0.000</td> <td> -207.615</td> <td>  -68.871</td>\n",
       "</tr>\n",
       "<tr>\n",
       "  <th>trip_count</th>          <td>   12.1977</td> <td>    0.157</td> <td>   77.450</td> <td> 0.000</td> <td>   11.889</td> <td>   12.506</td>\n",
       "</tr>\n",
       "<tr>\n",
       "  <th>bikes_avail_median</th>  <td>    3.7700</td> <td>    0.875</td> <td>    4.307</td> <td> 0.000</td> <td>    2.054</td> <td>    5.486</td>\n",
       "</tr>\n",
       "<tr>\n",
       "  <th>dock_count</th>          <td>    1.3163</td> <td>    0.784</td> <td>    1.678</td> <td> 0.093</td> <td>   -0.221</td> <td>    2.854</td>\n",
       "</tr>\n",
       "<tr>\n",
       "  <th>mean_temperature_f</th>  <td>    1.2122</td> <td>    0.416</td> <td>    2.914</td> <td> 0.004</td> <td>    0.397</td> <td>    2.028</td>\n",
       "</tr>\n",
       "<tr>\n",
       "  <th>mean_humidity</th>       <td>    1.1845</td> <td>    0.316</td> <td>    3.751</td> <td> 0.000</td> <td>    0.566</td> <td>    1.803</td>\n",
       "</tr>\n",
       "<tr>\n",
       "  <th>mean_wind_speed_mph</th> <td>    5.3280</td> <td>    0.829</td> <td>    6.430</td> <td> 0.000</td> <td>    3.704</td> <td>    6.952</td>\n",
       "</tr>\n",
       "<tr>\n",
       "  <th>cloud_cover</th>         <td>   -7.2384</td> <td>    1.527</td> <td>   -4.740</td> <td> 0.000</td> <td>  -10.232</td> <td>   -4.245</td>\n",
       "</tr>\n",
       "<tr>\n",
       "  <th>events</th>              <td>  -15.1475</td> <td>    4.133</td> <td>   -3.665</td> <td> 0.000</td> <td>  -23.249</td> <td>   -7.046</td>\n",
       "</tr>\n",
       "</table>\n",
       "<table class=\"simpletable\">\n",
       "<tr>\n",
       "  <th>Omnibus:</th>       <td>93946.860</td> <th>  Durbin-Watson:     </th>    <td>   1.948</td>   \n",
       "</tr>\n",
       "<tr>\n",
       "  <th>Prob(Omnibus):</th>  <td> 0.000</td>   <th>  Jarque-Bera (JB):  </th> <td>1766195038.849</td>\n",
       "</tr>\n",
       "<tr>\n",
       "  <th>Skew:</th>           <td>22.061</td>   <th>  Prob(JB):          </th>    <td>    0.00</td>   \n",
       "</tr>\n",
       "<tr>\n",
       "  <th>Kurtosis:</th>      <td>1020.778</td>  <th>  Cond. No.          </th>    <td>1.30e+03</td>   \n",
       "</tr>\n",
       "</table><br/><br/>Notes:<br/>[1] Standard Errors assume that the covariance matrix of the errors is correctly specified.<br/>[2] The condition number is large, 1.3e+03. This might indicate that there are<br/>strong multicollinearity or other numerical problems."
      ],
      "text/latex": [
       "\\begin{center}\n",
       "\\begin{tabular}{lclc}\n",
       "\\toprule\n",
       "\\textbf{Dep. Variable:}         & trip\\_time\\_sum  & \\textbf{  R-squared:         } &       0.158     \\\\\n",
       "\\textbf{Model:}                 &       OLS        & \\textbf{  Adj. R-squared:    } &       0.158     \\\\\n",
       "\\textbf{Method:}                &  Least Squares   & \\textbf{  F-statistic:       } &       959.1     \\\\\n",
       "\\textbf{Date:}                  & Wed, 14 Feb 2024 & \\textbf{  Prob (F-statistic):} &       0.00      \\\\\n",
       "\\textbf{Time:}                  &     18:00:12     & \\textbf{  Log-Likelihood:    } &  -3.1380e+05    \\\\\n",
       "\\textbf{No. Observations:}      &       40844      & \\textbf{  AIC:               } &   6.276e+05     \\\\\n",
       "\\textbf{Df Residuals:}          &       40835      & \\textbf{  BIC:               } &   6.277e+05     \\\\\n",
       "\\textbf{Df Model:}              &           8      & \\textbf{                     } &                 \\\\\n",
       "\\textbf{Covariance Type:}       &    nonrobust     & \\textbf{                     } &                 \\\\\n",
       "\\bottomrule\n",
       "\\end{tabular}\n",
       "\\begin{tabular}{lcccccc}\n",
       "                                & \\textbf{coef} & \\textbf{std err} & \\textbf{t} & \\textbf{P$> |$t$|$} & \\textbf{[0.025} & \\textbf{0.975]}  \\\\\n",
       "\\midrule\n",
       "\\textbf{Intercept}              &    -138.2430  &       35.393     &    -3.906  &         0.000        &     -207.615    &      -68.871     \\\\\n",
       "\\textbf{trip\\_count}            &      12.1977  &        0.157     &    77.450  &         0.000        &       11.889    &       12.506     \\\\\n",
       "\\textbf{bikes\\_avail\\_median}   &       3.7700  &        0.875     &     4.307  &         0.000        &        2.054    &        5.486     \\\\\n",
       "\\textbf{dock\\_count}            &       1.3163  &        0.784     &     1.678  &         0.093        &       -0.221    &        2.854     \\\\\n",
       "\\textbf{mean\\_temperature\\_f}   &       1.2122  &        0.416     &     2.914  &         0.004        &        0.397    &        2.028     \\\\\n",
       "\\textbf{mean\\_humidity}         &       1.1845  &        0.316     &     3.751  &         0.000        &        0.566    &        1.803     \\\\\n",
       "\\textbf{mean\\_wind\\_speed\\_mph} &       5.3280  &        0.829     &     6.430  &         0.000        &        3.704    &        6.952     \\\\\n",
       "\\textbf{cloud\\_cover}           &      -7.2384  &        1.527     &    -4.740  &         0.000        &      -10.232    &       -4.245     \\\\\n",
       "\\textbf{events}                 &     -15.1475  &        4.133     &    -3.665  &         0.000        &      -23.249    &       -7.046     \\\\\n",
       "\\bottomrule\n",
       "\\end{tabular}\n",
       "\\begin{tabular}{lclc}\n",
       "\\textbf{Omnibus:}       & 93946.860 & \\textbf{  Durbin-Watson:     } &       1.948     \\\\\n",
       "\\textbf{Prob(Omnibus):} &    0.000  & \\textbf{  Jarque-Bera (JB):  } & 1766195038.849  \\\\\n",
       "\\textbf{Skew:}          &   22.061  & \\textbf{  Prob(JB):          } &        0.00     \\\\\n",
       "\\textbf{Kurtosis:}      &  1020.778 & \\textbf{  Cond. No.          } &    1.30e+03     \\\\\n",
       "\\bottomrule\n",
       "\\end{tabular}\n",
       "%\\caption{OLS Regression Results}\n",
       "\\end{center}\n",
       "\n",
       "Notes: \\newline\n",
       " [1] Standard Errors assume that the covariance matrix of the errors is correctly specified. \\newline\n",
       " [2] The condition number is large, 1.3e+03. This might indicate that there are \\newline\n",
       " strong multicollinearity or other numerical problems."
      ],
      "text/plain": [
       "<class 'statsmodels.iolib.summary.Summary'>\n",
       "\"\"\"\n",
       "                            OLS Regression Results                            \n",
       "==============================================================================\n",
       "Dep. Variable:          trip_time_sum   R-squared:                       0.158\n",
       "Model:                            OLS   Adj. R-squared:                  0.158\n",
       "Method:                 Least Squares   F-statistic:                     959.1\n",
       "Date:                Wed, 14 Feb 2024   Prob (F-statistic):               0.00\n",
       "Time:                        18:00:12   Log-Likelihood:            -3.1380e+05\n",
       "No. Observations:               40844   AIC:                         6.276e+05\n",
       "Df Residuals:                   40835   BIC:                         6.277e+05\n",
       "Df Model:                           8                                         \n",
       "Covariance Type:            nonrobust                                         \n",
       "=======================================================================================\n",
       "                          coef    std err          t      P>|t|      [0.025      0.975]\n",
       "---------------------------------------------------------------------------------------\n",
       "Intercept            -138.2430     35.393     -3.906      0.000    -207.615     -68.871\n",
       "trip_count             12.1977      0.157     77.450      0.000      11.889      12.506\n",
       "bikes_avail_median      3.7700      0.875      4.307      0.000       2.054       5.486\n",
       "dock_count              1.3163      0.784      1.678      0.093      -0.221       2.854\n",
       "mean_temperature_f      1.2122      0.416      2.914      0.004       0.397       2.028\n",
       "mean_humidity           1.1845      0.316      3.751      0.000       0.566       1.803\n",
       "mean_wind_speed_mph     5.3280      0.829      6.430      0.000       3.704       6.952\n",
       "cloud_cover            -7.2384      1.527     -4.740      0.000     -10.232      -4.245\n",
       "events                -15.1475      4.133     -3.665      0.000     -23.249      -7.046\n",
       "==============================================================================\n",
       "Omnibus:                    93946.860   Durbin-Watson:                   1.948\n",
       "Prob(Omnibus):                  0.000   Jarque-Bera (JB):       1766195038.849\n",
       "Skew:                          22.061   Prob(JB):                         0.00\n",
       "Kurtosis:                    1020.778   Cond. No.                     1.30e+03\n",
       "==============================================================================\n",
       "\n",
       "Notes:\n",
       "[1] Standard Errors assume that the covariance matrix of the errors is correctly specified.\n",
       "[2] The condition number is large, 1.3e+03. This might indicate that there are\n",
       "strong multicollinearity or other numerical problems.\n",
       "\"\"\""
      ]
     },
     "execution_count": 23,
     "metadata": {},
     "output_type": "execute_result"
    }
   ],
   "source": [
    "# Analyze the model without the values where p > .05\n",
    "est1.summary()"
   ]
  },
  {
   "cell_type": "code",
   "execution_count": 24,
   "id": "ac5d09d3",
   "metadata": {},
   "outputs": [],
   "source": [
    "# New model without the values where p > .05\n",
    "est2 = smf.ols(formula='trip_time_sum ~ trip_count + bikes_avail_median + mean_temperature_f + mean_humidity + mean_wind_speed_mph + cloud_cover + events', data = df_bike_reg).fit()"
   ]
  },
  {
   "cell_type": "code",
   "execution_count": 25,
   "id": "e98918bf",
   "metadata": {},
   "outputs": [
    {
     "data": {
      "text/html": [
       "<table class=\"simpletable\">\n",
       "<caption>OLS Regression Results</caption>\n",
       "<tr>\n",
       "  <th>Dep. Variable:</th>      <td>trip_time_sum</td>  <th>  R-squared:         </th>  <td>   0.158</td>  \n",
       "</tr>\n",
       "<tr>\n",
       "  <th>Model:</th>                   <td>OLS</td>       <th>  Adj. R-squared:    </th>  <td>   0.158</td>  \n",
       "</tr>\n",
       "<tr>\n",
       "  <th>Method:</th>             <td>Least Squares</td>  <th>  F-statistic:       </th>  <td>   1096.</td>  \n",
       "</tr>\n",
       "<tr>\n",
       "  <th>Date:</th>             <td>Wed, 14 Feb 2024</td> <th>  Prob (F-statistic):</th>   <td>  0.00</td>   \n",
       "</tr>\n",
       "<tr>\n",
       "  <th>Time:</th>                 <td>18:00:12</td>     <th>  Log-Likelihood:    </th> <td>-3.1380e+05</td>\n",
       "</tr>\n",
       "<tr>\n",
       "  <th>No. Observations:</th>      <td> 40844</td>      <th>  AIC:               </th>  <td>6.276e+05</td> \n",
       "</tr>\n",
       "<tr>\n",
       "  <th>Df Residuals:</th>          <td> 40836</td>      <th>  BIC:               </th>  <td>6.277e+05</td> \n",
       "</tr>\n",
       "<tr>\n",
       "  <th>Df Model:</th>              <td>     7</td>      <th>                     </th>      <td> </td>     \n",
       "</tr>\n",
       "<tr>\n",
       "  <th>Covariance Type:</th>      <td>nonrobust</td>    <th>                     </th>      <td> </td>     \n",
       "</tr>\n",
       "</table>\n",
       "<table class=\"simpletable\">\n",
       "<tr>\n",
       "           <td></td>              <th>coef</th>     <th>std err</th>      <th>t</th>      <th>P>|t|</th>  <th>[0.025</th>    <th>0.975]</th>  \n",
       "</tr>\n",
       "<tr>\n",
       "  <th>Intercept</th>           <td> -121.1776</td> <td>   33.902</td> <td>   -3.574</td> <td> 0.000</td> <td> -187.626</td> <td>  -54.729</td>\n",
       "</tr>\n",
       "<tr>\n",
       "  <th>trip_count</th>          <td>   12.2539</td> <td>    0.154</td> <td>   79.631</td> <td> 0.000</td> <td>   11.952</td> <td>   12.556</td>\n",
       "</tr>\n",
       "<tr>\n",
       "  <th>bikes_avail_median</th>  <td>    4.5090</td> <td>    0.756</td> <td>    5.960</td> <td> 0.000</td> <td>    3.026</td> <td>    5.992</td>\n",
       "</tr>\n",
       "<tr>\n",
       "  <th>mean_temperature_f</th>  <td>    1.1830</td> <td>    0.416</td> <td>    2.846</td> <td> 0.004</td> <td>    0.368</td> <td>    1.998</td>\n",
       "</tr>\n",
       "<tr>\n",
       "  <th>mean_humidity</th>       <td>    1.1985</td> <td>    0.316</td> <td>    3.797</td> <td> 0.000</td> <td>    0.580</td> <td>    1.817</td>\n",
       "</tr>\n",
       "<tr>\n",
       "  <th>mean_wind_speed_mph</th> <td>    5.3907</td> <td>    0.828</td> <td>    6.512</td> <td> 0.000</td> <td>    3.768</td> <td>    7.013</td>\n",
       "</tr>\n",
       "<tr>\n",
       "  <th>cloud_cover</th>         <td>   -7.2448</td> <td>    1.527</td> <td>   -4.744</td> <td> 0.000</td> <td>  -10.238</td> <td>   -4.251</td>\n",
       "</tr>\n",
       "<tr>\n",
       "  <th>events</th>              <td>  -15.1819</td> <td>    4.133</td> <td>   -3.673</td> <td> 0.000</td> <td>  -23.283</td> <td>   -7.081</td>\n",
       "</tr>\n",
       "</table>\n",
       "<table class=\"simpletable\">\n",
       "<tr>\n",
       "  <th>Omnibus:</th>       <td>93956.240</td> <th>  Durbin-Watson:     </th>    <td>   1.947</td>   \n",
       "</tr>\n",
       "<tr>\n",
       "  <th>Prob(Omnibus):</th>  <td> 0.000</td>   <th>  Jarque-Bera (JB):  </th> <td>1767759011.761</td>\n",
       "</tr>\n",
       "<tr>\n",
       "  <th>Skew:</th>           <td>22.066</td>   <th>  Prob(JB):          </th>    <td>    0.00</td>   \n",
       "</tr>\n",
       "<tr>\n",
       "  <th>Kurtosis:</th>      <td>1021.229</td>  <th>  Cond. No.          </th>    <td>1.22e+03</td>   \n",
       "</tr>\n",
       "</table><br/><br/>Notes:<br/>[1] Standard Errors assume that the covariance matrix of the errors is correctly specified.<br/>[2] The condition number is large, 1.22e+03. This might indicate that there are<br/>strong multicollinearity or other numerical problems."
      ],
      "text/latex": [
       "\\begin{center}\n",
       "\\begin{tabular}{lclc}\n",
       "\\toprule\n",
       "\\textbf{Dep. Variable:}         & trip\\_time\\_sum  & \\textbf{  R-squared:         } &       0.158     \\\\\n",
       "\\textbf{Model:}                 &       OLS        & \\textbf{  Adj. R-squared:    } &       0.158     \\\\\n",
       "\\textbf{Method:}                &  Least Squares   & \\textbf{  F-statistic:       } &       1096.     \\\\\n",
       "\\textbf{Date:}                  & Wed, 14 Feb 2024 & \\textbf{  Prob (F-statistic):} &       0.00      \\\\\n",
       "\\textbf{Time:}                  &     18:00:12     & \\textbf{  Log-Likelihood:    } &  -3.1380e+05    \\\\\n",
       "\\textbf{No. Observations:}      &       40844      & \\textbf{  AIC:               } &   6.276e+05     \\\\\n",
       "\\textbf{Df Residuals:}          &       40836      & \\textbf{  BIC:               } &   6.277e+05     \\\\\n",
       "\\textbf{Df Model:}              &           7      & \\textbf{                     } &                 \\\\\n",
       "\\textbf{Covariance Type:}       &    nonrobust     & \\textbf{                     } &                 \\\\\n",
       "\\bottomrule\n",
       "\\end{tabular}\n",
       "\\begin{tabular}{lcccccc}\n",
       "                                & \\textbf{coef} & \\textbf{std err} & \\textbf{t} & \\textbf{P$> |$t$|$} & \\textbf{[0.025} & \\textbf{0.975]}  \\\\\n",
       "\\midrule\n",
       "\\textbf{Intercept}              &    -121.1776  &       33.902     &    -3.574  &         0.000        &     -187.626    &      -54.729     \\\\\n",
       "\\textbf{trip\\_count}            &      12.2539  &        0.154     &    79.631  &         0.000        &       11.952    &       12.556     \\\\\n",
       "\\textbf{bikes\\_avail\\_median}   &       4.5090  &        0.756     &     5.960  &         0.000        &        3.026    &        5.992     \\\\\n",
       "\\textbf{mean\\_temperature\\_f}   &       1.1830  &        0.416     &     2.846  &         0.004        &        0.368    &        1.998     \\\\\n",
       "\\textbf{mean\\_humidity}         &       1.1985  &        0.316     &     3.797  &         0.000        &        0.580    &        1.817     \\\\\n",
       "\\textbf{mean\\_wind\\_speed\\_mph} &       5.3907  &        0.828     &     6.512  &         0.000        &        3.768    &        7.013     \\\\\n",
       "\\textbf{cloud\\_cover}           &      -7.2448  &        1.527     &    -4.744  &         0.000        &      -10.238    &       -4.251     \\\\\n",
       "\\textbf{events}                 &     -15.1819  &        4.133     &    -3.673  &         0.000        &      -23.283    &       -7.081     \\\\\n",
       "\\bottomrule\n",
       "\\end{tabular}\n",
       "\\begin{tabular}{lclc}\n",
       "\\textbf{Omnibus:}       & 93956.240 & \\textbf{  Durbin-Watson:     } &       1.947     \\\\\n",
       "\\textbf{Prob(Omnibus):} &    0.000  & \\textbf{  Jarque-Bera (JB):  } & 1767759011.761  \\\\\n",
       "\\textbf{Skew:}          &   22.066  & \\textbf{  Prob(JB):          } &        0.00     \\\\\n",
       "\\textbf{Kurtosis:}      &  1021.229 & \\textbf{  Cond. No.          } &    1.22e+03     \\\\\n",
       "\\bottomrule\n",
       "\\end{tabular}\n",
       "%\\caption{OLS Regression Results}\n",
       "\\end{center}\n",
       "\n",
       "Notes: \\newline\n",
       " [1] Standard Errors assume that the covariance matrix of the errors is correctly specified. \\newline\n",
       " [2] The condition number is large, 1.22e+03. This might indicate that there are \\newline\n",
       " strong multicollinearity or other numerical problems."
      ],
      "text/plain": [
       "<class 'statsmodels.iolib.summary.Summary'>\n",
       "\"\"\"\n",
       "                            OLS Regression Results                            \n",
       "==============================================================================\n",
       "Dep. Variable:          trip_time_sum   R-squared:                       0.158\n",
       "Model:                            OLS   Adj. R-squared:                  0.158\n",
       "Method:                 Least Squares   F-statistic:                     1096.\n",
       "Date:                Wed, 14 Feb 2024   Prob (F-statistic):               0.00\n",
       "Time:                        18:00:12   Log-Likelihood:            -3.1380e+05\n",
       "No. Observations:               40844   AIC:                         6.276e+05\n",
       "Df Residuals:                   40836   BIC:                         6.277e+05\n",
       "Df Model:                           7                                         \n",
       "Covariance Type:            nonrobust                                         \n",
       "=======================================================================================\n",
       "                          coef    std err          t      P>|t|      [0.025      0.975]\n",
       "---------------------------------------------------------------------------------------\n",
       "Intercept            -121.1776     33.902     -3.574      0.000    -187.626     -54.729\n",
       "trip_count             12.2539      0.154     79.631      0.000      11.952      12.556\n",
       "bikes_avail_median      4.5090      0.756      5.960      0.000       3.026       5.992\n",
       "mean_temperature_f      1.1830      0.416      2.846      0.004       0.368       1.998\n",
       "mean_humidity           1.1985      0.316      3.797      0.000       0.580       1.817\n",
       "mean_wind_speed_mph     5.3907      0.828      6.512      0.000       3.768       7.013\n",
       "cloud_cover            -7.2448      1.527     -4.744      0.000     -10.238      -4.251\n",
       "events                -15.1819      4.133     -3.673      0.000     -23.283      -7.081\n",
       "==============================================================================\n",
       "Omnibus:                    93956.240   Durbin-Watson:                   1.947\n",
       "Prob(Omnibus):                  0.000   Jarque-Bera (JB):       1767759011.761\n",
       "Skew:                          22.066   Prob(JB):                         0.00\n",
       "Kurtosis:                    1021.229   Cond. No.                     1.22e+03\n",
       "==============================================================================\n",
       "\n",
       "Notes:\n",
       "[1] Standard Errors assume that the covariance matrix of the errors is correctly specified.\n",
       "[2] The condition number is large, 1.22e+03. This might indicate that there are\n",
       "strong multicollinearity or other numerical problems.\n",
       "\"\"\""
      ]
     },
     "execution_count": 25,
     "metadata": {},
     "output_type": "execute_result"
    }
   ],
   "source": [
    "# Analyze the final model without all variables with p-value greater than .05\n",
    "est2.summary()"
   ]
  },
  {
   "cell_type": "markdown",
   "id": "cb653aad",
   "metadata": {},
   "source": [
    "### Summary\n",
    "- Multiple regression splits the set into X (ten features which are not trip_time_sum) and y (trip_time_sum) \n",
    "- The model is created via the smf.ols method, and provides statistical information about the nature of each feature. \n",
    "- The original model, est, shows that two features have p-values >.05, which indicates that the feature is not statistically significant in generating the model. These features are [docks_avail_median] and [preciptitation_inces]. They are removed from the new model, est1. \n",
    "- est1 shows an additional feature with a p-value >.05, dock_count. It is also removed. \n",
    "- est2 returns a model with no p-values >.05. This is the largest feature set that is statistically significant out of the features I originally chose. \n",
    "- The coef values provide the model's intercept and coefficient, if the value for trip_time_sum was to be mapped or calculated according to each of the values. \n",
    "- Ultimately, this code demonstrated how to perform multiple regression and the use statistical analysis to eliminate unnessary features from a model using p-values. "
   ]
  },
  {
   "cell_type": "markdown",
   "id": "9969f69e",
   "metadata": {},
   "source": [
    "## Section 1.4: Lasso Regression with Scikit-Learn"
   ]
  },
  {
   "cell_type": "markdown",
   "id": "bf2bfb3d",
   "metadata": {},
   "source": [
    "### Description\n",
    "- In this section, lasso regression is performed using Scikit-Learn's Lasso function. \n",
    "- The dataset is scaled, and then split into training and testing sets. \n",
    "- The optimal alpha value is calculated, and then used. \n",
    "- The lasso regression is performed on the training data and then used to predict the test data. \n",
    "- A score is provided for the lasso regression, and a dataframe is created showing the features and their coefficients. "
   ]
  },
  {
   "cell_type": "code",
   "execution_count": 26,
   "id": "50b70c14",
   "metadata": {},
   "outputs": [],
   "source": [
    "# Create X from df_bike_reg by dropping trip_time_sum and trip_count\n",
    "X = df_bike_reg.drop(['trip_time_sum','trip_count'], axis = 1)"
   ]
  },
  {
   "cell_type": "code",
   "execution_count": 27,
   "id": "542c9111",
   "metadata": {},
   "outputs": [],
   "source": [
    "# Create y from df_bike_reg['trip_time_sum']\n",
    "y = df_bike_reg['trip_time_sum']"
   ]
  },
  {
   "cell_type": "code",
   "execution_count": 28,
   "id": "cabfec24",
   "metadata": {},
   "outputs": [],
   "source": [
    "# Scale the X variable and name it X_reg_scaled\n",
    "scaler = StandardScaler()\n",
    "X.columns = X.columns.astype(str)\n",
    "X_reg_scaled = scaler.fit_transform(X)\n"
   ]
  },
  {
   "cell_type": "code",
   "execution_count": 29,
   "id": "0574d357",
   "metadata": {},
   "outputs": [],
   "source": [
    "# Split the data for test/train\n",
    "X_train, X_test, y_train, y_test = train_test_split(X,y, test_size=0.3, random_state=42)"
   ]
  },
  {
   "cell_type": "code",
   "execution_count": 30,
   "id": "735fd515",
   "metadata": {
    "scrolled": false
   },
   "outputs": [
    {
     "name": "stdout",
     "output_type": "stream",
     "text": [
      "iteration 1 done\n",
      "iteration 2 done\n",
      "iteration 3 done\n",
      "iteration 4 done\n",
      "iteration 5 done\n",
      "iteration 6 done\n",
      "iteration 7 done\n",
      "iteration 8 done\n",
      "iteration 9 done\n",
      "iteration 10 done\n"
     ]
    },
    {
     "data": {
      "image/png": "[encoded data removed]",
      "text/plain": [
       "<Figure size 640x480 with 1 Axes>"
      ]
     },
     "metadata": {},
     "output_type": "display_data"
    }
   ],
   "source": [
    "# Run a function to find the best alpha\n",
    "alphas = [1,2,3,4,5,6,7,8,9,10] #approximate the alpha value\n",
    "scores = []\n",
    "\n",
    "for a in alphas: \n",
    "    lasso = Lasso(alpha = a)\n",
    "    lasso.fit(X_train, y_train)\n",
    "    scores.append(lasso.score(X_test, y_test))\n",
    "    print(\"iteration {} done\".format(a))\n",
    "\n",
    "plt.plot(alphas, scores, '-o')\n",
    "plt.xlabel('alpha, a')\n",
    "plt.ylabel('scores')\n",
    "plt.xticks(alphas)\n",
    "plt.show()"
   ]
  },
  {
   "cell_type": "code",
   "execution_count": 31,
   "id": "aca34b73",
   "metadata": {},
   "outputs": [
    {
     "name": "stdout",
     "output_type": "stream",
     "text": [
      "iteration 1.5 done\n",
      "iteration 1.75 done\n",
      "iteration 2 done\n",
      "iteration 2.25 done\n",
      "iteration 2.5 done\n"
     ]
    },
    {
     "data": {
      "image/png": "[encoded data removed]",
      "text/plain": [
       "<Figure size 640x480 with 1 Axes>"
      ]
     },
     "metadata": {},
     "output_type": "display_data"
    }
   ],
   "source": [
    "# Run a function to find the best alpha\n",
    "alphas = [1.5,1.75,2,2.25,2.5] #find the optimal alpha from the previous graph\n",
    "scores = []\n",
    "\n",
    "for a in alphas: \n",
    "    lasso = Lasso(alpha = a)\n",
    "    lasso.fit(X_train, y_train)\n",
    "    scores.append(lasso.score(X_test, y_test))\n",
    "    print(\"iteration {} done\".format(a))\n",
    "\n",
    "plt.plot(alphas, scores, '-o')\n",
    "plt.xlabel('alpha, a')\n",
    "plt.ylabel('scores')\n",
    "plt.xticks(alphas)\n",
    "plt.show()"
   ]
  },
  {
   "cell_type": "code",
   "execution_count": 32,
   "id": "9e2f9d5c",
   "metadata": {},
   "outputs": [
    {
     "data": {
      "text/plain": [
       "0.23132439803264215"
      ]
     },
     "execution_count": 32,
     "metadata": {},
     "output_type": "execute_result"
    }
   ],
   "source": [
    "# Using lasso, conduct a regression\n",
    "lasso = Lasso(alpha=1.75) #set the alpha to 1.75, normalize is deprecated. \n",
    "lasso.fit(X_train, y_train)\n",
    "lasso_pred = lasso.predict(X_test)\n",
    "lasso.score(X_test,y_test)\n"
   ]
  },
  {
   "cell_type": "code",
   "execution_count": 33,
   "id": "dd5f2296",
   "metadata": {},
   "outputs": [],
   "source": [
    "# Create a dataframe that shows the name and coefficient of features\n",
    "names = X.columns\n",
    "lasso_coef = lasso.fit(X,y).coef_ # save the coefficients to a series"
   ]
  },
  {
   "cell_type": "code",
   "execution_count": 34,
   "id": "8c6d8b33",
   "metadata": {},
   "outputs": [],
   "source": [
    "df_lasso = pd.DataFrame([lasso_coef]) #place the coefficients in a dataframe"
   ]
  },
  {
   "cell_type": "code",
   "execution_count": 35,
   "id": "e7c8c2c4",
   "metadata": {},
   "outputs": [
    {
     "data": {
      "text/html": [
       "<div>\n",
       "<style scoped>\n",
       "    .dataframe tbody tr th:only-of-type {\n",
       "        vertical-align: middle;\n",
       "    }\n",
       "\n",
       "    .dataframe tbody tr th {\n",
       "        vertical-align: top;\n",
       "    }\n",
       "\n",
       "    .dataframe thead th {\n",
       "        text-align: right;\n",
       "    }\n",
       "</style>\n",
       "<table border=\"1\" class=\"dataframe\">\n",
       "  <thead>\n",
       "    <tr style=\"text-align: right;\">\n",
       "      <th></th>\n",
       "      <th>corr_coeff</th>\n",
       "    </tr>\n",
       "  </thead>\n",
       "  <tbody>\n",
       "    <tr>\n",
       "      <th>subscribe_%</th>\n",
       "      <td>-578.691626</td>\n",
       "    </tr>\n",
       "    <tr>\n",
       "      <th>station_id</th>\n",
       "      <td>0.740152</td>\n",
       "    </tr>\n",
       "    <tr>\n",
       "      <th>bikes_avail_median</th>\n",
       "      <td>19.531438</td>\n",
       "    </tr>\n",
       "    <tr>\n",
       "      <th>docks_avail_median</th>\n",
       "      <td>0.000000</td>\n",
       "    </tr>\n",
       "    <tr>\n",
       "      <th>bikes_avail_min</th>\n",
       "      <td>-42.052539</td>\n",
       "    </tr>\n",
       "    <tr>\n",
       "      <th>dock_count</th>\n",
       "      <td>24.229334</td>\n",
       "    </tr>\n",
       "    <tr>\n",
       "      <th>docks_avail_min</th>\n",
       "      <td>-22.200612</td>\n",
       "    </tr>\n",
       "    <tr>\n",
       "      <th>max_temperature_f</th>\n",
       "      <td>-0.220159</td>\n",
       "    </tr>\n",
       "    <tr>\n",
       "      <th>mean_temperature_f</th>\n",
       "      <td>-0.000000</td>\n",
       "    </tr>\n",
       "    <tr>\n",
       "      <th>min_temperature_f</th>\n",
       "      <td>0.933195</td>\n",
       "    </tr>\n",
       "    <tr>\n",
       "      <th>mean_dew_point_f</th>\n",
       "      <td>1.048387</td>\n",
       "    </tr>\n",
       "    <tr>\n",
       "      <th>mean_humidity</th>\n",
       "      <td>-0.041723</td>\n",
       "    </tr>\n",
       "    <tr>\n",
       "      <th>max_wind_Speed_mph</th>\n",
       "      <td>-0.494238</td>\n",
       "    </tr>\n",
       "    <tr>\n",
       "      <th>mean_wind_speed_mph</th>\n",
       "      <td>0.000000</td>\n",
       "    </tr>\n",
       "    <tr>\n",
       "      <th>max_gust_speed_mph</th>\n",
       "      <td>-0.038518</td>\n",
       "    </tr>\n",
       "    <tr>\n",
       "      <th>precipitation_inches</th>\n",
       "      <td>-0.000000</td>\n",
       "    </tr>\n",
       "    <tr>\n",
       "      <th>cloud_cover</th>\n",
       "      <td>-3.435329</td>\n",
       "    </tr>\n",
       "    <tr>\n",
       "      <th>events</th>\n",
       "      <td>-1.787088</td>\n",
       "    </tr>\n",
       "    <tr>\n",
       "      <th>wind_dir_degrees</th>\n",
       "      <td>0.038549</td>\n",
       "    </tr>\n",
       "    <tr>\n",
       "      <th>Friday</th>\n",
       "      <td>16.472236</td>\n",
       "    </tr>\n",
       "    <tr>\n",
       "      <th>Monday</th>\n",
       "      <td>-0.000000</td>\n",
       "    </tr>\n",
       "    <tr>\n",
       "      <th>Saturday</th>\n",
       "      <td>0.000000</td>\n",
       "    </tr>\n",
       "    <tr>\n",
       "      <th>Sunday</th>\n",
       "      <td>-1.552669</td>\n",
       "    </tr>\n",
       "    <tr>\n",
       "      <th>Thursday</th>\n",
       "      <td>0.000000</td>\n",
       "    </tr>\n",
       "    <tr>\n",
       "      <th>Tuesday</th>\n",
       "      <td>-0.000000</td>\n",
       "    </tr>\n",
       "    <tr>\n",
       "      <th>Wednesday</th>\n",
       "      <td>-0.000000</td>\n",
       "    </tr>\n",
       "    <tr>\n",
       "      <th>94041</th>\n",
       "      <td>0.000000</td>\n",
       "    </tr>\n",
       "    <tr>\n",
       "      <th>94063</th>\n",
       "      <td>0.000000</td>\n",
       "    </tr>\n",
       "    <tr>\n",
       "      <th>94107</th>\n",
       "      <td>-0.000000</td>\n",
       "    </tr>\n",
       "    <tr>\n",
       "      <th>94301</th>\n",
       "      <td>0.000000</td>\n",
       "    </tr>\n",
       "    <tr>\n",
       "      <th>95113</th>\n",
       "      <td>-0.000000</td>\n",
       "    </tr>\n",
       "  </tbody>\n",
       "</table>\n",
       "</div>"
      ],
      "text/plain": [
       "                      corr_coeff\n",
       "subscribe_%          -578.691626\n",
       "station_id              0.740152\n",
       "bikes_avail_median     19.531438\n",
       "docks_avail_median      0.000000\n",
       "bikes_avail_min       -42.052539\n",
       "dock_count             24.229334\n",
       "docks_avail_min       -22.200612\n",
       "max_temperature_f      -0.220159\n",
       "mean_temperature_f     -0.000000\n",
       "min_temperature_f       0.933195\n",
       "mean_dew_point_f        1.048387\n",
       "mean_humidity          -0.041723\n",
       "max_wind_Speed_mph     -0.494238\n",
       "mean_wind_speed_mph     0.000000\n",
       "max_gust_speed_mph     -0.038518\n",
       "precipitation_inches   -0.000000\n",
       "cloud_cover            -3.435329\n",
       "events                 -1.787088\n",
       "wind_dir_degrees        0.038549\n",
       "Friday                 16.472236\n",
       "Monday                 -0.000000\n",
       "Saturday                0.000000\n",
       "Sunday                 -1.552669\n",
       "Thursday                0.000000\n",
       "Tuesday                -0.000000\n",
       "Wednesday              -0.000000\n",
       "94041                   0.000000\n",
       "94063                   0.000000\n",
       "94107                  -0.000000\n",
       "94301                   0.000000\n",
       "95113                  -0.000000"
      ]
     },
     "execution_count": 35,
     "metadata": {},
     "output_type": "execute_result"
    }
   ],
   "source": [
    "df_lasso.columns = names\n",
    "df_lasso = df_lasso.T #transpose the columns\n",
    "df_lasso = df_lasso.rename(columns = {0:'corr_coeff'}) #rename the 0 column to corr_coeff\n",
    "df_lasso"
   ]
  },
  {
   "cell_type": "markdown",
   "id": "222ce64e",
   "metadata": {},
   "source": [
    "### Summary\n",
    "- This code showed how to perform a lasso regression and then display the results. \n",
    "- The model is first standardized with StandardScaler, and then split into training and testing data. This is done so that there is a set to train the data on and a set to test it's predictions against. \n",
    "- The lasso regression method requires an alpha penalty value, which introduces a certain degree of bias into the dataset to account for overfitting. The optimal alpha value was calculated, first in a rough way and then in a more fine manner, to arrive at an optimal value of 1.75. This alpha value is then used when conducting the lasso regression. \n",
    "- The resulting score of the lasso regression is .231324... meaning it accounts for about 23% of the variance of the dependent variable using the features. This is lower than the .6 threshold mentioned in the Professor's videos, and indicates that the model could likely be improved in some way to train a more useful model. \n",
    "- The dataframe that results shows which features had there coefficients reduced to 0, which is a key feature of the lasso regression method. Those features that did not have their coefficient's reduced to 0 are calculated to have a degree of influence on the trip time. "
   ]
  },
  {
   "cell_type": "markdown",
   "id": "6f1f7702",
   "metadata": {},
   "source": [
    "## Section 1.5: Ridge Regression with Scikit-Learn"
   ]
  },
  {
   "cell_type": "markdown",
   "id": "3c7584e4",
   "metadata": {},
   "source": [
    "### Description\n",
    "- This code shows how to create a Ridge regression. \n",
    "- The code calculates an optimal alpha value for the Ridge regression, and then runs the regression using the training data. \n",
    "- The code then generates predictions for the testing data using the trained model, and is then scored. \n",
    "- The coefficients of each feature is then provided in a dataframe. "
   ]
  },
  {
   "cell_type": "code",
   "execution_count": 36,
   "id": "56580647",
   "metadata": {
    "scrolled": false
   },
   "outputs": [
    {
     "name": "stdout",
     "output_type": "stream",
     "text": [
      "iteration 0.1 done\n",
      "iteration 1 done\n",
      "iteration 2 done\n",
      "iteration 3 done\n",
      "iteration 4 done\n",
      "iteration 5 done\n",
      "iteration 6 done\n",
      "iteration 7 done\n",
      "iteration 8 done\n",
      "iteration 9 done\n",
      "iteration 10 done\n"
     ]
    },
    {
     "data": {
      "image/png": "[encoded data removed]",
      "text/plain": [
       "<Figure size 640x480 with 1 Axes>"
      ]
     },
     "metadata": {},
     "output_type": "display_data"
    }
   ],
   "source": [
    "# Using ridge, conduct a regression\n",
    "alphas = [0.1, 1,2,3,4,5,6,7,8,9,10] # use a rough approach to approximate the alpha value. \n",
    "scores = []\n",
    "for a in alphas: \n",
    "    ridge = Ridge(alpha = a)\n",
    "    ridge.fit(X_train, y_train)\n",
    "    scores.append(ridge.score(X_test, y_test))\n",
    "    print(\"iteration {} done\".format(a))\n",
    "    \n",
    "plt.plot(alphas,scores, '-o')\n",
    "plt.xlabel('alpha, a')\n",
    "plt.ylabel('scores')\n",
    "plt.xticks(alphas)\n",
    "plt.show()"
   ]
  },
  {
   "cell_type": "code",
   "execution_count": 37,
   "id": "502e16c6",
   "metadata": {},
   "outputs": [
    {
     "name": "stdout",
     "output_type": "stream",
     "text": [
      "iteration 6.5 done\n",
      "iteration 6.75 done\n",
      "iteration 7 done\n",
      "iteration 7.25 done\n",
      "iteration 7.5 done\n"
     ]
    },
    {
     "data": {
      "image/png": "[encoded data removed]",
      "text/plain": [
       "<Figure size 640x480 with 1 Axes>"
      ]
     },
     "metadata": {},
     "output_type": "display_data"
    }
   ],
   "source": [
    "# Using ridge, conduct a regression\n",
    "alphas = [6.5,6.75,7,7.25,7.5] # use a more refined approach to find the best alpha value\n",
    "scores = []\n",
    "for a in alphas: \n",
    "    ridge = Ridge(alpha = a)\n",
    "    ridge.fit(X_train, y_train)\n",
    "    scores.append(ridge.score(X_test, y_test))\n",
    "    print(\"iteration {} done\".format(a))\n",
    "    \n",
    "plt.plot(alphas,scores, '-o')\n",
    "plt.xlabel('alpha, a')\n",
    "plt.ylabel('scores')\n",
    "plt.xticks(alphas)\n",
    "plt.show()"
   ]
  },
  {
   "cell_type": "code",
   "execution_count": 38,
   "id": "0830a5fe",
   "metadata": {
    "scrolled": false
   },
   "outputs": [],
   "source": [
    "ridge = Ridge(alpha=7.25) # set the alpha to 7.25. The normalize command is deprecated. \n",
    "ridge.fit(X_train, y_train) # fit the model to the training data\n",
    "ridge_pred = ridge.predict(X_test) #predict the test values"
   ]
  },
  {
   "cell_type": "code",
   "execution_count": 39,
   "id": "689e855e",
   "metadata": {},
   "outputs": [
    {
     "data": {
      "text/plain": [
       "0.23018597994309653"
      ]
     },
     "execution_count": 39,
     "metadata": {},
     "output_type": "execute_result"
    }
   ],
   "source": [
    "ridge.score(X_test, y_test) #compare the results with the actual values"
   ]
  },
  {
   "cell_type": "code",
   "execution_count": 40,
   "id": "1f18dbe5",
   "metadata": {},
   "outputs": [
    {
     "data": {
      "text/html": [
       "<div>\n",
       "<style scoped>\n",
       "    .dataframe tbody tr th:only-of-type {\n",
       "        vertical-align: middle;\n",
       "    }\n",
       "\n",
       "    .dataframe tbody tr th {\n",
       "        vertical-align: top;\n",
       "    }\n",
       "\n",
       "    .dataframe thead th {\n",
       "        text-align: right;\n",
       "    }\n",
       "</style>\n",
       "<table border=\"1\" class=\"dataframe\">\n",
       "  <thead>\n",
       "    <tr style=\"text-align: right;\">\n",
       "      <th></th>\n",
       "      <th>corr_coeff</th>\n",
       "    </tr>\n",
       "  </thead>\n",
       "  <tbody>\n",
       "    <tr>\n",
       "      <th>subscribe_%</th>\n",
       "      <td>-626.115838</td>\n",
       "    </tr>\n",
       "    <tr>\n",
       "      <th>station_id</th>\n",
       "      <td>0.690161</td>\n",
       "    </tr>\n",
       "    <tr>\n",
       "      <th>bikes_avail_median</th>\n",
       "      <td>21.381462</td>\n",
       "    </tr>\n",
       "    <tr>\n",
       "      <th>docks_avail_median</th>\n",
       "      <td>1.786653</td>\n",
       "    </tr>\n",
       "    <tr>\n",
       "      <th>bikes_avail_min</th>\n",
       "      <td>-42.796982</td>\n",
       "    </tr>\n",
       "    <tr>\n",
       "      <th>dock_count</th>\n",
       "      <td>23.168116</td>\n",
       "    </tr>\n",
       "    <tr>\n",
       "      <th>docks_avail_min</th>\n",
       "      <td>-22.886175</td>\n",
       "    </tr>\n",
       "    <tr>\n",
       "      <th>max_temperature_f</th>\n",
       "      <td>-0.526513</td>\n",
       "    </tr>\n",
       "    <tr>\n",
       "      <th>mean_temperature_f</th>\n",
       "      <td>0.194890</td>\n",
       "    </tr>\n",
       "    <tr>\n",
       "      <th>min_temperature_f</th>\n",
       "      <td>-0.124767</td>\n",
       "    </tr>\n",
       "    <tr>\n",
       "      <th>mean_dew_point_f</th>\n",
       "      <td>1.937815</td>\n",
       "    </tr>\n",
       "    <tr>\n",
       "      <th>mean_humidity</th>\n",
       "      <td>-0.520662</td>\n",
       "    </tr>\n",
       "    <tr>\n",
       "      <th>max_wind_Speed_mph</th>\n",
       "      <td>-0.527849</td>\n",
       "    </tr>\n",
       "    <tr>\n",
       "      <th>mean_wind_speed_mph</th>\n",
       "      <td>0.780021</td>\n",
       "    </tr>\n",
       "    <tr>\n",
       "      <th>max_gust_speed_mph</th>\n",
       "      <td>-0.154703</td>\n",
       "    </tr>\n",
       "    <tr>\n",
       "      <th>precipitation_inches</th>\n",
       "      <td>6.727112</td>\n",
       "    </tr>\n",
       "    <tr>\n",
       "      <th>cloud_cover</th>\n",
       "      <td>-2.092668</td>\n",
       "    </tr>\n",
       "    <tr>\n",
       "      <th>events</th>\n",
       "      <td>-5.395005</td>\n",
       "    </tr>\n",
       "    <tr>\n",
       "      <th>wind_dir_degrees</th>\n",
       "      <td>0.026323</td>\n",
       "    </tr>\n",
       "    <tr>\n",
       "      <th>Friday</th>\n",
       "      <td>26.949572</td>\n",
       "    </tr>\n",
       "    <tr>\n",
       "      <th>Monday</th>\n",
       "      <td>-5.276723</td>\n",
       "    </tr>\n",
       "    <tr>\n",
       "      <th>Saturday</th>\n",
       "      <td>2.073498</td>\n",
       "    </tr>\n",
       "    <tr>\n",
       "      <th>Sunday</th>\n",
       "      <td>-24.005783</td>\n",
       "    </tr>\n",
       "    <tr>\n",
       "      <th>Thursday</th>\n",
       "      <td>3.811763</td>\n",
       "    </tr>\n",
       "    <tr>\n",
       "      <th>Tuesday</th>\n",
       "      <td>0.373017</td>\n",
       "    </tr>\n",
       "    <tr>\n",
       "      <th>Wednesday</th>\n",
       "      <td>-3.925344</td>\n",
       "    </tr>\n",
       "    <tr>\n",
       "      <th>94041</th>\n",
       "      <td>-3.035086</td>\n",
       "    </tr>\n",
       "    <tr>\n",
       "      <th>94063</th>\n",
       "      <td>24.276093</td>\n",
       "    </tr>\n",
       "    <tr>\n",
       "      <th>94107</th>\n",
       "      <td>-17.231232</td>\n",
       "    </tr>\n",
       "    <tr>\n",
       "      <th>94301</th>\n",
       "      <td>13.637834</td>\n",
       "    </tr>\n",
       "    <tr>\n",
       "      <th>95113</th>\n",
       "      <td>-17.647609</td>\n",
       "    </tr>\n",
       "  </tbody>\n",
       "</table>\n",
       "</div>"
      ],
      "text/plain": [
       "                      corr_coeff\n",
       "subscribe_%          -626.115838\n",
       "station_id              0.690161\n",
       "bikes_avail_median     21.381462\n",
       "docks_avail_median      1.786653\n",
       "bikes_avail_min       -42.796982\n",
       "dock_count             23.168116\n",
       "docks_avail_min       -22.886175\n",
       "max_temperature_f      -0.526513\n",
       "mean_temperature_f      0.194890\n",
       "min_temperature_f      -0.124767\n",
       "mean_dew_point_f        1.937815\n",
       "mean_humidity          -0.520662\n",
       "max_wind_Speed_mph     -0.527849\n",
       "mean_wind_speed_mph     0.780021\n",
       "max_gust_speed_mph     -0.154703\n",
       "precipitation_inches    6.727112\n",
       "cloud_cover            -2.092668\n",
       "events                 -5.395005\n",
       "wind_dir_degrees        0.026323\n",
       "Friday                 26.949572\n",
       "Monday                 -5.276723\n",
       "Saturday                2.073498\n",
       "Sunday                -24.005783\n",
       "Thursday                3.811763\n",
       "Tuesday                 0.373017\n",
       "Wednesday              -3.925344\n",
       "94041                  -3.035086\n",
       "94063                  24.276093\n",
       "94107                 -17.231232\n",
       "94301                  13.637834\n",
       "95113                 -17.647609"
      ]
     },
     "execution_count": 40,
     "metadata": {},
     "output_type": "execute_result"
    }
   ],
   "source": [
    "# Create a dataframe that shows the name of the feature and coefficients\n",
    "ridge_coef = ridge.fit(X,y).coef_ #save the coefficients of the ridge model into a new ridge_coef variable\n",
    "\n",
    "df_ridge = pd.DataFrame(ridge_coef).T # create a new dataframe from the coefficients, and then transpose the dataframe\n",
    "df_ridge.columns = names # Sets the columns to the list of names of features\n",
    "df_ridge = df_ridge.T # transposes the dataframe again. \n",
    "df_ridge = df_ridge.rename(columns = {0:'corr_coeff'})\n",
    "df_ridge # displays the dataframe"
   ]
  },
  {
   "cell_type": "markdown",
   "id": "53f55834",
   "metadata": {},
   "source": [
    "### Summary\n",
    "- This code showed how to perform a Ridge regression and then display the results. \n",
    "- The Ridge regression method requires an alpha penalty value, which introduces a certain degree of bias into the dataset to account for overfitting. The optimal alpha value was calculated, first in a rough way and then in a more fine manner, to arrive at an optimal value of 7.25. This alpha value is then used when conducting the Ridge regression. \n",
    "- The resulting score of the lasso regression is .23018597994309653... meaning it accounts for about 23% of the variance of the dependent variable using the features. This is lower than the .6 value mentioned in the Professor's videos, and indicates that the model could likely be improved in some way to train a more useful model. \n",
    "- The dataframe that results shows the coefficients of the features, which are all greater than 0. This is the aspect of Ridge regression that differs from lasso regression. The largest absolute coefficient values are more weighty on the model then those closer to 0. "
   ]
  },
  {
   "cell_type": "markdown",
   "id": "171298a1",
   "metadata": {},
   "source": [
    "## Section 1.6: Summary of the results"
   ]
  },
  {
   "cell_type": "markdown",
   "id": "12c522ff",
   "metadata": {},
   "source": [
    "- About the tests \n",
    "     - Simple linear regression \n",
    "         - This test compared one independent variable, mean temperature with the dependent variable of trip time, and showed that it did not have a significant relationship. \n",
    "         - This method of analyzing relationships is simple, and has limitations due to only considering the relationship between one feature and the dependent variable. The simplicity makes the computation less than the other models and could be preferable when the interpretation of a relationship between two variables is more important than understanding a complex, multivariable model. \n",
    "     - Multiple regression & Backward Elimination\n",
    "         - This test split the data into X, 10 of the most appropriate non-trip-time variables, and y, trip time. \n",
    "         - The resulting model, est, showed which variables were statistically significant and which weren't. First, the mean number of docks available and the amount of precipitation were shown to be insufficient, and were removed. The second round demonstrated that number of docks was also statistically insignificant. \n",
    "         - est2, the model with all significant features, was still a rather poor model due to its R-squared value being .158. That means that less than 16% of the variance is explained by the model. \n",
    "         - This method of analyzing relationships is interesting, and given a better set of variables, it is possible that the value cold eventually reach .6, which is good according to Professor Apigian. \n",
    "      - Lasso Regresion \n",
    "           - This test standardized the data, and then split it into training and testing data. It then calculated the appropriate alpha penalty to introduce bias into the model. This was done to increase the fit of the model to the test data. \n",
    "           - Lasso regression eliminates the weight of some features, which helps build a more streamlined model with less features. The resulting score was ~.23, which means that the model accounted for around 23% of the variability. Much lower than then 60% needed for an acceptable model. \n",
    "           - The test was interesting because it could be very useful when building a model with the minimum number of features for the maximum accuraccy. \n",
    "       - Ridge Regression \n",
    "            - This test calculated its own alpha penalty, and then used it to build a model with bias. Unlike the lasso regression, it does not eliminate any features, but increases and decreases the weight of features. \n",
    "            - This test indicated a similar 23% value for R^2, and is still a ways off from being a good enough model for use on any testing data. \n",
    "            - This test was useful to know, because there may be models were all of the features are neccesary for calculating the dependent varible. \n",
    "- About the results\n",
    "    - Looking at the result of the multiple regression model, it appears that the number of trips, the weather events of the day (higher = less desirable), the amount of cloud cover, and the wind speed, all played role in the total trip time. This makes sense, as poor weather for biking would be the thing that keeps people from biking. These results are therefore not revolutionary in terms of their insight, simply that the worst the weather is, the higher the wind speeds are, and the degree of cloud cover, all negatively impact the amount of time spent riding bikes. \n",
    "    - The lasso regression model indicates that the subscription percentage had a heavy negative influence on the model. The higher the percentage of riders that were subscribers, the less time was spent riding. The minimum number of bikes and docks also had negative relationships, but this seems to be something directly related to the amount of time spent on bikes. The most interesting part of this model to me was the factor that Friday had on the model. It appears the Friday must be a time when bikes are accessed the most frequently. Given these findings, the day being Friday and having many docks available appear to be the two factors that add to trip time, while being a subscriber decreases trip time. \n",
    "    - The ridge regression model had similar results, but also included weighted values for the zip codes. The results indicate that some zip codes are a positive factor while others are negative. This may be due to the geography of their location, with more densely populated areas requiring less ride time overall. The days of the weekend also had different weights, with friday being the positive and sunday being a heavy negative. Like the lasso model, the subscription % also had a heavy negative pull on total trip time. \n",
    "    \n",
    "- Conclusions\n",
    "    - The models do not produce adequate accuracy to explain the data (23% is way less than 60%). \n",
    "    - Subscription % weighs negatively on total trip time. This is intersting to consider. Its likely subscribers are using the bikes for short, predetermined trips, while non-subscribers are paying for more meandering, single time trips. \n",
    "    - The weight of zip-codes in the Ridge model was interesting to consider, as the geographic distance is likely less in more densely populated areas. \n",
    "    - The factor of negative weather was noted in the multiple regression model, but played a much smaller role in the relatively more \"explanatory\" lasso and ridge regression models. \n",
    "   "
   ]
  }
 ],
 "metadata": {
  "kernelspec": {
   "display_name": "Python 3 (ipykernel)",
   "language": "python",
   "name": "python3"
  },
  "language_info": {
   "codemirror_mode": {
    "name": "ipython",
    "version": 3
   },
   "file_extension": ".py",
   "mimetype": "text/x-python",
   "name": "python",
   "nbconvert_exporter": "python",
   "pygments_lexer": "ipython3",
   "version": "3.11.5"
  }
 },
 "nbformat": 4,
 "nbformat_minor": 5
}
