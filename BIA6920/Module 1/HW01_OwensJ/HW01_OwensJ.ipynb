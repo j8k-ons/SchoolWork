{
 "cells": [
  {
   "cell_type": "markdown",
   "id": "54292f41",
   "metadata": {},
   "source": [
    "## Section 1. Import Libraries"
   ]
  },
  {
   "cell_type": "markdown",
   "id": "d729128f",
   "metadata": {},
   "source": [
    "### Description\n",
    "---\n",
    "This section includes code to import the following libraries into python. \n",
    "- #### [Numpy][Numpyid]  is a package that performs high-level mathematical functions \n",
    "[numpyid]: https://numpy.org/devdocs/user/absolute_beginners.html \"Numpy Docs\"\n",
    "- #### [Pandas][id] is a package that handles data structures for data analysis \n",
    "[id]: https://pandas.pydata.org/docs/getting_started/overview.html \"Pandas Docs\"\n",
    "- #### [datetime][datetimeid] is a package that provides code for manipulating dates and times\n",
    "[datetimeid]: https://docs.python.org/3/library/datetime.html \"datetime docs\""
   ]
  },
  {
   "cell_type": "code",
   "execution_count": 1,
   "id": "45a45f55",
   "metadata": {},
   "outputs": [],
   "source": [
    "# Importing libraries\n",
    "import numpy as np\n",
    "import pandas as pd \n",
    "import datetime as dt"
   ]
  },
  {
   "cell_type": "markdown",
   "id": "556560b2",
   "metadata": {},
   "source": [
    "### Summary\n",
    "---\n",
    "This code uses the import module to import **numpy**, **pandas**, and **datetime** and assigns them the aliases of **np**, **pd**, and **dt** respectively. \n",
    "\n",
    "- Python's [import module](https://docs.python.org/3/reference/import.html, \"import docs\") searches for the named module, then binds it to a name in the local scope. In this case, that name is either np, pd, or dt. \n",
    "- If the module is not found, it will invoke a ModuleNotFoundError. This likely means the module either needs to be imported using [pip](https://docs.python.org/3/installing/index.html, \"how to install with python\") or has a typo.\n",
    "\n",
    "\n"
   ]
  },
  {
   "cell_type": "markdown",
   "id": "b4dd34b1",
   "metadata": {},
   "source": [
    "---\n",
    "---"
   ]
  },
  {
   "cell_type": "markdown",
   "id": "cfa4ce6e",
   "metadata": {},
   "source": [
    "## Section 2. Import Data"
   ]
  },
  {
   "cell_type": "markdown",
   "id": "e496c74e",
   "metadata": {},
   "source": [
    "### Description\n",
    "---\n",
    "This section imports the weather data into a pandas DataFrame named **df_weather**. "
   ]
  },
  {
   "cell_type": "code",
   "execution_count": 2,
   "id": "ac07f9af",
   "metadata": {},
   "outputs": [],
   "source": [
    "# Importing data\n",
    "df_weather = pd.read_csv(\"data/weather.csv\",index_col=None,header=0);"
   ]
  },
  {
   "cell_type": "markdown",
   "id": "7b2e2e5b",
   "metadata": {},
   "source": [
    "### Summary\n",
    "---\n",
    "- This code creates a [DataFrame](https://pandas.pydata.org/pandas-docs/stable/reference/api/pandas.DataFrame.html, \"DataFrame Docs\"), df_weather, via the [read_csv](https://pandas.pydata.org/pandas-docs/stable/reference/api/pandas.read_csv.html, \"read_csv docs\") function in pandas to import a csv file, weather.csv, from the data directory. \n",
    "- The read_csv function takes many optional arguments, but in this case it uses:<br> \n",
    "    - **filepath_or_buffer**: Accepts any string path, or path object with a read() mehod.<br> \n",
    "    - **index_col**: Denotes the columns to use as row labels. If a series is given, a MultiIndex will be formed. In this case, index_col = None, which signifies that there is not an index provided.<br>\n",
    "    - **header**: Indicates the row number that contains the column labels and marks the start of the data. "
   ]
  },
  {
   "cell_type": "markdown",
   "id": "4ac5525b",
   "metadata": {},
   "source": [
    "---\n",
    "---"
   ]
  },
  {
   "cell_type": "markdown",
   "id": "054d3d38",
   "metadata": {},
   "source": [
    "## Section 3. View Data"
   ]
  },
  {
   "cell_type": "markdown",
   "id": "ab02f745",
   "metadata": {},
   "source": [
    "### Description\n",
    "---\n",
    "This section looks at the data in the **df_weather** DataFrame. <br>"
   ]
  },
  {
   "cell_type": "code",
   "execution_count": 3,
   "id": "a242c404",
   "metadata": {},
   "outputs": [
    {
     "data": {
      "text/html": [
       "<div>\n",
       "<style scoped>\n",
       "    .dataframe tbody tr th:only-of-type {\n",
       "        vertical-align: middle;\n",
       "    }\n",
       "\n",
       "    .dataframe tbody tr th {\n",
       "        vertical-align: top;\n",
       "    }\n",
       "\n",
       "    .dataframe thead th {\n",
       "        text-align: right;\n",
       "    }\n",
       "</style>\n",
       "<table border=\"1\" class=\"dataframe\">\n",
       "  <thead>\n",
       "    <tr style=\"text-align: right;\">\n",
       "      <th></th>\n",
       "      <th>Date</th>\n",
       "      <th>MaxTemp</th>\n",
       "      <th>MaxTime</th>\n",
       "      <th>MinTemp</th>\n",
       "      <th>MinTime</th>\n",
       "      <th>cloudCover</th>\n",
       "      <th>precipProbability</th>\n",
       "      <th>precipAmount</th>\n",
       "      <th>sunriseTime</th>\n",
       "      <th>sunsetTime</th>\n",
       "      <th>windSpeed</th>\n",
       "    </tr>\n",
       "  </thead>\n",
       "  <tbody>\n",
       "    <tr>\n",
       "      <th>0</th>\n",
       "      <td>3/1/17</td>\n",
       "      <td>68.48</td>\n",
       "      <td>3/1/17 5:00</td>\n",
       "      <td>51.69</td>\n",
       "      <td>2/28/17 9:18</td>\n",
       "      <td>0.96</td>\n",
       "      <td>0.91</td>\n",
       "      <td>0.0184</td>\n",
       "      <td>2/28/17 12:25</td>\n",
       "      <td>2/28/17 23:46</td>\n",
       "      <td>6.20</td>\n",
       "    </tr>\n",
       "    <tr>\n",
       "      <th>1</th>\n",
       "      <td>3/2/17</td>\n",
       "      <td>69.75</td>\n",
       "      <td>3/1/17 10:30</td>\n",
       "      <td>36.00</td>\n",
       "      <td>3/2/17 5:00</td>\n",
       "      <td>0.53</td>\n",
       "      <td>1.00</td>\n",
       "      <td>0.2422</td>\n",
       "      <td>3/1/17 12:24</td>\n",
       "      <td>3/1/17 23:47</td>\n",
       "      <td>9.69</td>\n",
       "    </tr>\n",
       "    <tr>\n",
       "      <th>2</th>\n",
       "      <td>3/3/17</td>\n",
       "      <td>51.93</td>\n",
       "      <td>3/2/17 21:49</td>\n",
       "      <td>30.87</td>\n",
       "      <td>3/2/17 11:39</td>\n",
       "      <td>0.18</td>\n",
       "      <td>0.36</td>\n",
       "      <td>0.0028</td>\n",
       "      <td>3/2/17 12:23</td>\n",
       "      <td>3/2/17 23:48</td>\n",
       "      <td>4.63</td>\n",
       "    </tr>\n",
       "    <tr>\n",
       "      <th>3</th>\n",
       "      <td>3/4/17</td>\n",
       "      <td>44.03</td>\n",
       "      <td>3/3/17 21:51</td>\n",
       "      <td>26.49</td>\n",
       "      <td>3/3/17 14:06</td>\n",
       "      <td>0.14</td>\n",
       "      <td>0.70</td>\n",
       "      <td>0.0017</td>\n",
       "      <td>3/3/17 12:21</td>\n",
       "      <td>3/3/17 23:49</td>\n",
       "      <td>2.26</td>\n",
       "    </tr>\n",
       "    <tr>\n",
       "      <th>4</th>\n",
       "      <td>3/5/17</td>\n",
       "      <td>65.98</td>\n",
       "      <td>3/4/17 21:24</td>\n",
       "      <td>27.40</td>\n",
       "      <td>3/4/17 10:06</td>\n",
       "      <td>0.03</td>\n",
       "      <td>0.00</td>\n",
       "      <td>0.0000</td>\n",
       "      <td>3/4/17 12:20</td>\n",
       "      <td>3/4/17 23:50</td>\n",
       "      <td>4.69</td>\n",
       "    </tr>\n",
       "  </tbody>\n",
       "</table>\n",
       "</div>"
      ],
      "text/plain": [
       "     Date  MaxTemp       MaxTime  MinTemp       MinTime  cloudCover  \\\n",
       "0  3/1/17    68.48   3/1/17 5:00    51.69  2/28/17 9:18        0.96   \n",
       "1  3/2/17    69.75  3/1/17 10:30    36.00   3/2/17 5:00        0.53   \n",
       "2  3/3/17    51.93  3/2/17 21:49    30.87  3/2/17 11:39        0.18   \n",
       "3  3/4/17    44.03  3/3/17 21:51    26.49  3/3/17 14:06        0.14   \n",
       "4  3/5/17    65.98  3/4/17 21:24    27.40  3/4/17 10:06        0.03   \n",
       "\n",
       "   precipProbability  precipAmount    sunriseTime     sunsetTime  windSpeed  \n",
       "0               0.91        0.0184  2/28/17 12:25  2/28/17 23:46       6.20  \n",
       "1               1.00        0.2422   3/1/17 12:24   3/1/17 23:47       9.69  \n",
       "2               0.36        0.0028   3/2/17 12:23   3/2/17 23:48       4.63  \n",
       "3               0.70        0.0017   3/3/17 12:21   3/3/17 23:49       2.26  \n",
       "4               0.00        0.0000   3/4/17 12:20   3/4/17 23:50       4.69  "
      ]
     },
     "execution_count": 3,
     "metadata": {},
     "output_type": "execute_result"
    }
   ],
   "source": [
    "# Viewing the top 5 rows of data\n",
    "df_weather.head(5)\n"
   ]
  },
  {
   "cell_type": "code",
   "execution_count": 4,
   "id": "5bfb7ace",
   "metadata": {},
   "outputs": [
    {
     "data": {
      "text/html": [
       "<div>\n",
       "<style scoped>\n",
       "    .dataframe tbody tr th:only-of-type {\n",
       "        vertical-align: middle;\n",
       "    }\n",
       "\n",
       "    .dataframe tbody tr th {\n",
       "        vertical-align: top;\n",
       "    }\n",
       "\n",
       "    .dataframe thead th {\n",
       "        text-align: right;\n",
       "    }\n",
       "</style>\n",
       "<table border=\"1\" class=\"dataframe\">\n",
       "  <thead>\n",
       "    <tr style=\"text-align: right;\">\n",
       "      <th></th>\n",
       "      <th>Date</th>\n",
       "      <th>MaxTemp</th>\n",
       "      <th>MaxTime</th>\n",
       "      <th>MinTemp</th>\n",
       "      <th>MinTime</th>\n",
       "      <th>cloudCover</th>\n",
       "      <th>precipProbability</th>\n",
       "      <th>precipAmount</th>\n",
       "      <th>sunriseTime</th>\n",
       "      <th>sunsetTime</th>\n",
       "      <th>windSpeed</th>\n",
       "    </tr>\n",
       "  </thead>\n",
       "  <tbody>\n",
       "    <tr>\n",
       "      <th>11</th>\n",
       "      <td>3/12/17</td>\n",
       "      <td>34.76</td>\n",
       "      <td>3/11/17 20:33</td>\n",
       "      <td>26.20</td>\n",
       "      <td>3/11/17 11:24</td>\n",
       "      <td>0.80</td>\n",
       "      <td>0.00</td>\n",
       "      <td>0.0000</td>\n",
       "      <td>3/11/17 12:10</td>\n",
       "      <td>3/11/17 23:57</td>\n",
       "      <td>5.29</td>\n",
       "    </tr>\n",
       "    <tr>\n",
       "      <th>13</th>\n",
       "      <td>3/14/17</td>\n",
       "      <td>37.77</td>\n",
       "      <td>3/13/17 22:24</td>\n",
       "      <td>29.11</td>\n",
       "      <td>3/13/17 10:45</td>\n",
       "      <td>0.70</td>\n",
       "      <td>0.85</td>\n",
       "      <td>0.0371</td>\n",
       "      <td>3/13/17 12:07</td>\n",
       "      <td>3/13/17 23:59</td>\n",
       "      <td>2.42</td>\n",
       "    </tr>\n",
       "    <tr>\n",
       "      <th>30</th>\n",
       "      <td>3/31/17</td>\n",
       "      <td>77.21</td>\n",
       "      <td>3/30/17 19:21</td>\n",
       "      <td>55.29</td>\n",
       "      <td>3/31/17 4:00</td>\n",
       "      <td>0.68</td>\n",
       "      <td>0.81</td>\n",
       "      <td>0.1021</td>\n",
       "      <td>3/30/17 11:41</td>\n",
       "      <td>3/31/17 0:14</td>\n",
       "      <td>7.25</td>\n",
       "    </tr>\n",
       "    <tr>\n",
       "      <th>48</th>\n",
       "      <td>4/18/17</td>\n",
       "      <td>68.70</td>\n",
       "      <td>4/17/17 16:57</td>\n",
       "      <td>57.82</td>\n",
       "      <td>4/18/17 2:12</td>\n",
       "      <td>0.88</td>\n",
       "      <td>0.91</td>\n",
       "      <td>0.0138</td>\n",
       "      <td>4/17/17 11:15</td>\n",
       "      <td>4/18/17 0:30</td>\n",
       "      <td>2.53</td>\n",
       "    </tr>\n",
       "    <tr>\n",
       "      <th>58</th>\n",
       "      <td>4/28/17</td>\n",
       "      <td>59.95</td>\n",
       "      <td>4/27/17 23:39</td>\n",
       "      <td>49.54</td>\n",
       "      <td>4/28/17 3:18</td>\n",
       "      <td>0.75</td>\n",
       "      <td>1.00</td>\n",
       "      <td>0.1001</td>\n",
       "      <td>4/27/17 11:02</td>\n",
       "      <td>4/28/17 0:39</td>\n",
       "      <td>5.66</td>\n",
       "    </tr>\n",
       "    <tr>\n",
       "      <th>23</th>\n",
       "      <td>3/24/17</td>\n",
       "      <td>55.70</td>\n",
       "      <td>3/23/17 22:51</td>\n",
       "      <td>31.01</td>\n",
       "      <td>3/23/17 10:48</td>\n",
       "      <td>0.48</td>\n",
       "      <td>0.91</td>\n",
       "      <td>0.0209</td>\n",
       "      <td>3/23/17 11:51</td>\n",
       "      <td>3/24/17 0:08</td>\n",
       "      <td>3.69</td>\n",
       "    </tr>\n",
       "    <tr>\n",
       "      <th>60</th>\n",
       "      <td>4/30/17</td>\n",
       "      <td>86.36</td>\n",
       "      <td>4/29/17 21:48</td>\n",
       "      <td>66.10</td>\n",
       "      <td>4/29/17 7:13</td>\n",
       "      <td>0.74</td>\n",
       "      <td>1.00</td>\n",
       "      <td>0.1351</td>\n",
       "      <td>4/29/17 11:00</td>\n",
       "      <td>4/30/17 0:41</td>\n",
       "      <td>5.98</td>\n",
       "    </tr>\n",
       "  </tbody>\n",
       "</table>\n",
       "</div>"
      ],
      "text/plain": [
       "       Date  MaxTemp        MaxTime  MinTemp        MinTime  cloudCover  \\\n",
       "11  3/12/17    34.76  3/11/17 20:33    26.20  3/11/17 11:24        0.80   \n",
       "13  3/14/17    37.77  3/13/17 22:24    29.11  3/13/17 10:45        0.70   \n",
       "30  3/31/17    77.21  3/30/17 19:21    55.29   3/31/17 4:00        0.68   \n",
       "48  4/18/17    68.70  4/17/17 16:57    57.82   4/18/17 2:12        0.88   \n",
       "58  4/28/17    59.95  4/27/17 23:39    49.54   4/28/17 3:18        0.75   \n",
       "23  3/24/17    55.70  3/23/17 22:51    31.01  3/23/17 10:48        0.48   \n",
       "60  4/30/17    86.36  4/29/17 21:48    66.10   4/29/17 7:13        0.74   \n",
       "\n",
       "    precipProbability  precipAmount    sunriseTime     sunsetTime  windSpeed  \n",
       "11               0.00        0.0000  3/11/17 12:10  3/11/17 23:57       5.29  \n",
       "13               0.85        0.0371  3/13/17 12:07  3/13/17 23:59       2.42  \n",
       "30               0.81        0.1021  3/30/17 11:41   3/31/17 0:14       7.25  \n",
       "48               0.91        0.0138  4/17/17 11:15   4/18/17 0:30       2.53  \n",
       "58               1.00        0.1001  4/27/17 11:02   4/28/17 0:39       5.66  \n",
       "23               0.91        0.0209  3/23/17 11:51   3/24/17 0:08       3.69  \n",
       "60               1.00        0.1351  4/29/17 11:00   4/30/17 0:41       5.98  "
      ]
     },
     "execution_count": 4,
     "metadata": {},
     "output_type": "execute_result"
    }
   ],
   "source": [
    "# Viewing a sample of 7 rows of df_weather\n",
    "df_weather.sample(7)"
   ]
  },
  {
   "cell_type": "code",
   "execution_count": 5,
   "id": "95d4a256",
   "metadata": {},
   "outputs": [
    {
     "data": {
      "text/html": [
       "<div>\n",
       "<style scoped>\n",
       "    .dataframe tbody tr th:only-of-type {\n",
       "        vertical-align: middle;\n",
       "    }\n",
       "\n",
       "    .dataframe tbody tr th {\n",
       "        vertical-align: top;\n",
       "    }\n",
       "\n",
       "    .dataframe thead th {\n",
       "        text-align: right;\n",
       "    }\n",
       "</style>\n",
       "<table border=\"1\" class=\"dataframe\">\n",
       "  <thead>\n",
       "    <tr style=\"text-align: right;\">\n",
       "      <th></th>\n",
       "      <th>Date</th>\n",
       "      <th>MaxTemp</th>\n",
       "      <th>MaxTime</th>\n",
       "      <th>MinTemp</th>\n",
       "      <th>MinTime</th>\n",
       "      <th>cloudCover</th>\n",
       "      <th>precipProbability</th>\n",
       "      <th>precipAmount</th>\n",
       "      <th>sunriseTime</th>\n",
       "      <th>sunsetTime</th>\n",
       "      <th>windSpeed</th>\n",
       "    </tr>\n",
       "  </thead>\n",
       "  <tbody>\n",
       "    <tr>\n",
       "      <th>60</th>\n",
       "      <td>4/30/17</td>\n",
       "      <td>86.36</td>\n",
       "      <td>4/29/17 21:48</td>\n",
       "      <td>66.1</td>\n",
       "      <td>4/29/17 7:13</td>\n",
       "      <td>0.74</td>\n",
       "      <td>1.0</td>\n",
       "      <td>0.1351</td>\n",
       "      <td>4/29/17 11:00</td>\n",
       "      <td>4/30/17 0:41</td>\n",
       "      <td>5.98</td>\n",
       "    </tr>\n",
       "    <tr>\n",
       "      <th>61</th>\n",
       "      <td>NaN</td>\n",
       "      <td>NaN</td>\n",
       "      <td>NaN</td>\n",
       "      <td>NaN</td>\n",
       "      <td>NaN</td>\n",
       "      <td>NaN</td>\n",
       "      <td>NaN</td>\n",
       "      <td>0.1780</td>\n",
       "      <td>NaN</td>\n",
       "      <td>NaN</td>\n",
       "      <td>NaN</td>\n",
       "    </tr>\n",
       "  </tbody>\n",
       "</table>\n",
       "</div>"
      ],
      "text/plain": [
       "       Date  MaxTemp        MaxTime  MinTemp       MinTime  cloudCover  \\\n",
       "60  4/30/17    86.36  4/29/17 21:48     66.1  4/29/17 7:13        0.74   \n",
       "61      NaN      NaN            NaN      NaN           NaN         NaN   \n",
       "\n",
       "    precipProbability  precipAmount    sunriseTime    sunsetTime  windSpeed  \n",
       "60                1.0        0.1351  4/29/17 11:00  4/30/17 0:41       5.98  \n",
       "61                NaN        0.1780            NaN           NaN        NaN  "
      ]
     },
     "execution_count": 5,
     "metadata": {},
     "output_type": "execute_result"
    }
   ],
   "source": [
    "# View the bottom 2 rows of df_weather\n",
    "df_weather.tail(2)"
   ]
  },
  {
   "cell_type": "markdown",
   "id": "0df24e4c",
   "metadata": {},
   "source": [
    "---\n",
    "---"
   ]
  },
  {
   "cell_type": "markdown",
   "id": "fe643be0",
   "metadata": {},
   "source": [
    "### Summary\n",
    "---\n",
    "This code provides methods to view the data within the df_weather DataFrame. \n",
    "- The first line **df_weather.head(5)**, uses the [.head(n)]( https://pandas.pydata.org/pandas-docs/stable/reference/api/pandas.DataFrame.head.html, \"head method docs\") method to return the first n rows of the df_weather DataFrame. The default value for n is 5, but I chose to include it explicitly to show its functionality.<br>\n",
    "- The second line, **df_weather.sample(7)**, uses the [.sample(n)]( https://pandas.pydata.org/pandas-docs/stable/reference/api/pandas.DataFrame.sample.html#pandas.DataFrame.sample, \"sample method docs\") method to retrieve a sample of 7 rows from df_weather. The default value of n is 1. This code allows you to visualize a section of the code that is not necessarily at the start or end of the table. \n",
    "- The third line, **df_weather.tail(2)**, uses the [.tail(n)]( https://pandas.pydata.org/pandas-docs/stable/reference/api/pandas.DataFrame.tail.html#pandas.DataFrame.tail, \"tail method docs\") method to retrieve the last n rows from df_weather. The default value of n is 5. In this case, the last row, 61, appears to have dirty data, as most of the values are NaN. "
   ]
  },
  {
   "cell_type": "markdown",
   "id": "469a7460",
   "metadata": {},
   "source": [
    "---\n",
    "---"
   ]
  },
  {
   "cell_type": "markdown",
   "id": "1373ab54",
   "metadata": {},
   "source": [
    "\n",
    "## Section 4. Variable & Celsius to Fahrenheit Conversion"
   ]
  },
  {
   "cell_type": "markdown",
   "id": "42e10619",
   "metadata": {},
   "source": [
    "### Description\n",
    "---\n",
    "This section converts a Fahrenheit value into a Celsius value using variables and a formula, then prints it out. "
   ]
  },
  {
   "cell_type": "code",
   "execution_count": 6,
   "id": "ad86f208",
   "metadata": {},
   "outputs": [],
   "source": [
    "# Variable for Fahrenheit\n",
    "f = 32"
   ]
  },
  {
   "cell_type": "code",
   "execution_count": 7,
   "id": "7b301baa",
   "metadata": {},
   "outputs": [],
   "source": [
    "# Variable for Celsius\n",
    "c = 0"
   ]
  },
  {
   "cell_type": "code",
   "execution_count": 8,
   "id": "6b415094",
   "metadata": {},
   "outputs": [
    {
     "name": "stdout",
     "output_type": "stream",
     "text": [
      "32\n",
      "0\n"
     ]
    }
   ],
   "source": [
    "# Display the fahrenheit and celsius variables\n",
    "print(f)\n",
    "print(c)"
   ]
  },
  {
   "cell_type": "code",
   "execution_count": 9,
   "id": "8fd7590c",
   "metadata": {},
   "outputs": [
    {
     "name": "stdout",
     "output_type": "stream",
     "text": [
      "30\n"
     ]
    }
   ],
   "source": [
    "# Create a formulate that converts f to c. \n",
    "f = 86\n",
    "c = int((f-32)*5/9) # Converted c to an integer to match hw guideline. To display decimal, I would remove int()\n",
    "print(c)"
   ]
  },
  {
   "cell_type": "code",
   "execution_count": 10,
   "id": "e78fcc5d",
   "metadata": {},
   "outputs": [
    {
     "name": "stdout",
     "output_type": "stream",
     "text": [
      "Fahrenheit 86 converts to 30 Celsius\n"
     ]
    }
   ],
   "source": [
    "# Print a statement and convert f and c to str type\n",
    "\n",
    "print(f\"Fahrenheit {str(f)} converts to {str(c)} Celsius\")"
   ]
  },
  {
   "cell_type": "markdown",
   "id": "10851954",
   "metadata": {},
   "source": [
    "### Summary\n",
    "---\n",
    "- The first line, f = 32, declares an integer variable, f, and assigns the value 32 to it. <br>\n",
    "- The second line, c = 0, establishes an integer value of 0 for the variable, c. <br>\n",
    "- The third code block prints both values to show they were properly assigned. <br>\n",
    "- The fourth code block assigns a new value of 86 to f, then changes c to be assigned a formula value. The formula (f-32_*5/9) is then cast as an integer to handle floating point values. The value of c is then returned.<br> \n",
    "- The fifth and final code block uses an fstring print statement to print out what the fourth code block did. \n"
   ]
  },
  {
   "cell_type": "markdown",
   "id": "2b6ced1d",
   "metadata": {},
   "source": [
    "---\n",
    "---"
   ]
  },
  {
   "cell_type": "markdown",
   "id": "14ed494a",
   "metadata": {},
   "source": [
    "## Section 5. Convert Objects to Dates using datetime"
   ]
  },
  {
   "cell_type": "markdown",
   "id": "22ced5ee",
   "metadata": {},
   "source": [
    "### Description\n",
    "---\n",
    "This section converts four columns from objects to datetime values."
   ]
  },
  {
   "cell_type": "code",
   "execution_count": 11,
   "id": "20db933e",
   "metadata": {},
   "outputs": [],
   "source": [
    "# Convert Maxtime, MinTime, sunriseTime, and sunsetTime from objects to datetime\n",
    "df_weather['MaxTime'] = pd.to_datetime(df_weather['MaxTime'], format=\"%m/%d/%y %H:%M\")\n",
    "df_weather['MinTime'] = pd.to_datetime(df_weather['MinTime'], format=\"%m/%d/%y %H:%M\")\n",
    "df_weather['sunriseTime'] = pd.to_datetime(df_weather['sunriseTime'], format=\"%m/%d/%y %H:%M\")\n",
    "df_weather['sunsetTime'] = pd.to_datetime(df_weather['sunsetTime'], format=\"%m/%d/%y %H:%M\")"
   ]
  },
  {
   "cell_type": "markdown",
   "id": "07dc2761",
   "metadata": {},
   "source": [
    "### Summary\n",
    "---\n",
    "- This code uses the pandas [to_datetime]( https://pandas.pydata.org/pandas-docs/stable/reference/api/pandas.to_datetime.html#pandas-to-datetime, \"to_datetime method docs\")  method to convert the MaxTime, MinTime, sunriseTime, and sunsetTime values from objects to datetime data types.<br>\n",
    "- Using the format=\"%m/%d/%y %H:%M\" parameter prevents the to_datetime method from using the dateutil function to guess the format of the object. This changed with version 2.0, and is indicated in the documentation. "
   ]
  },
  {
   "cell_type": "markdown",
   "id": "17c096f6",
   "metadata": {},
   "source": [
    "## Section 6. Create additional Data Features"
   ]
  },
  {
   "cell_type": "markdown",
   "id": "adef5e1a",
   "metadata": {},
   "source": [
    "### Description\n",
    "---\n",
    "This section creates three columns, MaxDay, MaxMonth, and MaxDayName from the MaxTime column. "
   ]
  },
  {
   "cell_type": "code",
   "execution_count": 12,
   "id": "5986956d",
   "metadata": {},
   "outputs": [],
   "source": [
    "# Create day of week for MaxTime\n",
    "df_weather['MaxDay'] = df_weather['MaxTime'].dt.dayofweek\n",
    "# Create Month for MaxTime\n",
    "df_weather['MaxMonth'] = df_weather['MaxTime'].dt.month\n",
    "# Save day name for day of week\n",
    "df_weather['MaxDayName'] = df_weather['MaxTime'].dt.day_name()"
   ]
  },
  {
   "cell_type": "code",
   "execution_count": 13,
   "id": "f9459c9f",
   "metadata": {},
   "outputs": [
    {
     "data": {
      "text/html": [
       "<div>\n",
       "<style scoped>\n",
       "    .dataframe tbody tr th:only-of-type {\n",
       "        vertical-align: middle;\n",
       "    }\n",
       "\n",
       "    .dataframe tbody tr th {\n",
       "        vertical-align: top;\n",
       "    }\n",
       "\n",
       "    .dataframe thead th {\n",
       "        text-align: right;\n",
       "    }\n",
       "</style>\n",
       "<table border=\"1\" class=\"dataframe\">\n",
       "  <thead>\n",
       "    <tr style=\"text-align: right;\">\n",
       "      <th></th>\n",
       "      <th>Date</th>\n",
       "      <th>MaxTemp</th>\n",
       "      <th>MaxTime</th>\n",
       "      <th>MinTemp</th>\n",
       "      <th>MinTime</th>\n",
       "      <th>cloudCover</th>\n",
       "      <th>precipProbability</th>\n",
       "      <th>precipAmount</th>\n",
       "      <th>sunriseTime</th>\n",
       "      <th>sunsetTime</th>\n",
       "      <th>windSpeed</th>\n",
       "      <th>MaxDay</th>\n",
       "      <th>MaxMonth</th>\n",
       "      <th>MaxDayName</th>\n",
       "    </tr>\n",
       "  </thead>\n",
       "  <tbody>\n",
       "    <tr>\n",
       "      <th>0</th>\n",
       "      <td>3/1/17</td>\n",
       "      <td>68.48</td>\n",
       "      <td>2017-03-01 05:00:00</td>\n",
       "      <td>51.69</td>\n",
       "      <td>2017-02-28 09:18:00</td>\n",
       "      <td>0.96</td>\n",
       "      <td>0.91</td>\n",
       "      <td>0.0184</td>\n",
       "      <td>2017-02-28 12:25:00</td>\n",
       "      <td>2017-02-28 23:46:00</td>\n",
       "      <td>6.20</td>\n",
       "      <td>2.0</td>\n",
       "      <td>3.0</td>\n",
       "      <td>Wednesday</td>\n",
       "    </tr>\n",
       "    <tr>\n",
       "      <th>1</th>\n",
       "      <td>3/2/17</td>\n",
       "      <td>69.75</td>\n",
       "      <td>2017-03-01 10:30:00</td>\n",
       "      <td>36.00</td>\n",
       "      <td>2017-03-02 05:00:00</td>\n",
       "      <td>0.53</td>\n",
       "      <td>1.00</td>\n",
       "      <td>0.2422</td>\n",
       "      <td>2017-03-01 12:24:00</td>\n",
       "      <td>2017-03-01 23:47:00</td>\n",
       "      <td>9.69</td>\n",
       "      <td>2.0</td>\n",
       "      <td>3.0</td>\n",
       "      <td>Wednesday</td>\n",
       "    </tr>\n",
       "    <tr>\n",
       "      <th>2</th>\n",
       "      <td>3/3/17</td>\n",
       "      <td>51.93</td>\n",
       "      <td>2017-03-02 21:49:00</td>\n",
       "      <td>30.87</td>\n",
       "      <td>2017-03-02 11:39:00</td>\n",
       "      <td>0.18</td>\n",
       "      <td>0.36</td>\n",
       "      <td>0.0028</td>\n",
       "      <td>2017-03-02 12:23:00</td>\n",
       "      <td>2017-03-02 23:48:00</td>\n",
       "      <td>4.63</td>\n",
       "      <td>3.0</td>\n",
       "      <td>3.0</td>\n",
       "      <td>Thursday</td>\n",
       "    </tr>\n",
       "    <tr>\n",
       "      <th>3</th>\n",
       "      <td>3/4/17</td>\n",
       "      <td>44.03</td>\n",
       "      <td>2017-03-03 21:51:00</td>\n",
       "      <td>26.49</td>\n",
       "      <td>2017-03-03 14:06:00</td>\n",
       "      <td>0.14</td>\n",
       "      <td>0.70</td>\n",
       "      <td>0.0017</td>\n",
       "      <td>2017-03-03 12:21:00</td>\n",
       "      <td>2017-03-03 23:49:00</td>\n",
       "      <td>2.26</td>\n",
       "      <td>4.0</td>\n",
       "      <td>3.0</td>\n",
       "      <td>Friday</td>\n",
       "    </tr>\n",
       "    <tr>\n",
       "      <th>4</th>\n",
       "      <td>3/5/17</td>\n",
       "      <td>65.98</td>\n",
       "      <td>2017-03-04 21:24:00</td>\n",
       "      <td>27.40</td>\n",
       "      <td>2017-03-04 10:06:00</td>\n",
       "      <td>0.03</td>\n",
       "      <td>0.00</td>\n",
       "      <td>0.0000</td>\n",
       "      <td>2017-03-04 12:20:00</td>\n",
       "      <td>2017-03-04 23:50:00</td>\n",
       "      <td>4.69</td>\n",
       "      <td>5.0</td>\n",
       "      <td>3.0</td>\n",
       "      <td>Saturday</td>\n",
       "    </tr>\n",
       "  </tbody>\n",
       "</table>\n",
       "</div>"
      ],
      "text/plain": [
       "     Date  MaxTemp             MaxTime  MinTemp             MinTime  \\\n",
       "0  3/1/17    68.48 2017-03-01 05:00:00    51.69 2017-02-28 09:18:00   \n",
       "1  3/2/17    69.75 2017-03-01 10:30:00    36.00 2017-03-02 05:00:00   \n",
       "2  3/3/17    51.93 2017-03-02 21:49:00    30.87 2017-03-02 11:39:00   \n",
       "3  3/4/17    44.03 2017-03-03 21:51:00    26.49 2017-03-03 14:06:00   \n",
       "4  3/5/17    65.98 2017-03-04 21:24:00    27.40 2017-03-04 10:06:00   \n",
       "\n",
       "   cloudCover  precipProbability  precipAmount         sunriseTime  \\\n",
       "0        0.96               0.91        0.0184 2017-02-28 12:25:00   \n",
       "1        0.53               1.00        0.2422 2017-03-01 12:24:00   \n",
       "2        0.18               0.36        0.0028 2017-03-02 12:23:00   \n",
       "3        0.14               0.70        0.0017 2017-03-03 12:21:00   \n",
       "4        0.03               0.00        0.0000 2017-03-04 12:20:00   \n",
       "\n",
       "           sunsetTime  windSpeed  MaxDay  MaxMonth MaxDayName  \n",
       "0 2017-02-28 23:46:00       6.20     2.0       3.0  Wednesday  \n",
       "1 2017-03-01 23:47:00       9.69     2.0       3.0  Wednesday  \n",
       "2 2017-03-02 23:48:00       4.63     3.0       3.0   Thursday  \n",
       "3 2017-03-03 23:49:00       2.26     4.0       3.0     Friday  \n",
       "4 2017-03-04 23:50:00       4.69     5.0       3.0   Saturday  "
      ]
     },
     "execution_count": 13,
     "metadata": {},
     "output_type": "execute_result"
    }
   ],
   "source": [
    "df_weather.head(5)"
   ]
  },
  {
   "cell_type": "markdown",
   "id": "2a537cfa",
   "metadata": {},
   "source": [
    "###  Summary\n",
    "---\n",
    "This section used pandas.datetime, abbreviated as dt, to produce three new columns. Code for each of these methods is found [here]( \"https://pandas.pydata.org/pandas-docs/stable/reference/api/pandas.DatetimeIndex.dayofweek.html\", \"dt docs\"). \n",
    "- The first line of code uses the dt.dayofweek method to create the MaxDay column from the datetime column \"MaxTime\" and append it to the df_weather DataFrame. \n",
    "- The second line of code uses the dt.month method to create the MaxMonth column from the datetime column \"MaxTime\" and append it to the df_weather DataFrame.  \n",
    "- The third line of code uses the dt.day_name() method to create a MaxDayName column from the datetime column \"MaxTime\" and append it to the df_weather DataFrame. \n",
    "- The last line of code displays the first five rows of df_weather. "
   ]
  },
  {
   "cell_type": "markdown",
   "id": "bff6b804",
   "metadata": {},
   "source": [
    "## Section 7. Create a new column\n"
   ]
  },
  {
   "cell_type": "markdown",
   "id": "22e04190",
   "metadata": {},
   "source": [
    "###  Description\n",
    "---\n",
    "This section creates a new calculated column and adds it to the DataFrame. "
   ]
  },
  {
   "cell_type": "code",
   "execution_count": 14,
   "id": "d11c549a",
   "metadata": {},
   "outputs": [],
   "source": [
    "# Create TempRange column by subtracting MinTemp from MaxTemp\n",
    "df_weather['TempRange'] = df_weather['MaxTemp'] - df_weather['MinTemp']"
   ]
  },
  {
   "cell_type": "code",
   "execution_count": 15,
   "id": "29f229a9",
   "metadata": {},
   "outputs": [
    {
     "data": {
      "text/html": [
       "<div>\n",
       "<style scoped>\n",
       "    .dataframe tbody tr th:only-of-type {\n",
       "        vertical-align: middle;\n",
       "    }\n",
       "\n",
       "    .dataframe tbody tr th {\n",
       "        vertical-align: top;\n",
       "    }\n",
       "\n",
       "    .dataframe thead th {\n",
       "        text-align: right;\n",
       "    }\n",
       "</style>\n",
       "<table border=\"1\" class=\"dataframe\">\n",
       "  <thead>\n",
       "    <tr style=\"text-align: right;\">\n",
       "      <th></th>\n",
       "      <th>Date</th>\n",
       "      <th>MaxTemp</th>\n",
       "      <th>MaxTime</th>\n",
       "      <th>MinTemp</th>\n",
       "      <th>MinTime</th>\n",
       "      <th>cloudCover</th>\n",
       "      <th>precipProbability</th>\n",
       "      <th>precipAmount</th>\n",
       "      <th>sunriseTime</th>\n",
       "      <th>sunsetTime</th>\n",
       "      <th>windSpeed</th>\n",
       "      <th>MaxDay</th>\n",
       "      <th>MaxMonth</th>\n",
       "      <th>MaxDayName</th>\n",
       "      <th>TempRange</th>\n",
       "    </tr>\n",
       "  </thead>\n",
       "  <tbody>\n",
       "    <tr>\n",
       "      <th>0</th>\n",
       "      <td>3/1/17</td>\n",
       "      <td>68.48</td>\n",
       "      <td>2017-03-01 05:00:00</td>\n",
       "      <td>51.69</td>\n",
       "      <td>2017-02-28 09:18:00</td>\n",
       "      <td>0.96</td>\n",
       "      <td>0.91</td>\n",
       "      <td>0.0184</td>\n",
       "      <td>2017-02-28 12:25:00</td>\n",
       "      <td>2017-02-28 23:46:00</td>\n",
       "      <td>6.20</td>\n",
       "      <td>2.0</td>\n",
       "      <td>3.0</td>\n",
       "      <td>Wednesday</td>\n",
       "      <td>16.79</td>\n",
       "    </tr>\n",
       "    <tr>\n",
       "      <th>1</th>\n",
       "      <td>3/2/17</td>\n",
       "      <td>69.75</td>\n",
       "      <td>2017-03-01 10:30:00</td>\n",
       "      <td>36.00</td>\n",
       "      <td>2017-03-02 05:00:00</td>\n",
       "      <td>0.53</td>\n",
       "      <td>1.00</td>\n",
       "      <td>0.2422</td>\n",
       "      <td>2017-03-01 12:24:00</td>\n",
       "      <td>2017-03-01 23:47:00</td>\n",
       "      <td>9.69</td>\n",
       "      <td>2.0</td>\n",
       "      <td>3.0</td>\n",
       "      <td>Wednesday</td>\n",
       "      <td>33.75</td>\n",
       "    </tr>\n",
       "    <tr>\n",
       "      <th>2</th>\n",
       "      <td>3/3/17</td>\n",
       "      <td>51.93</td>\n",
       "      <td>2017-03-02 21:49:00</td>\n",
       "      <td>30.87</td>\n",
       "      <td>2017-03-02 11:39:00</td>\n",
       "      <td>0.18</td>\n",
       "      <td>0.36</td>\n",
       "      <td>0.0028</td>\n",
       "      <td>2017-03-02 12:23:00</td>\n",
       "      <td>2017-03-02 23:48:00</td>\n",
       "      <td>4.63</td>\n",
       "      <td>3.0</td>\n",
       "      <td>3.0</td>\n",
       "      <td>Thursday</td>\n",
       "      <td>21.06</td>\n",
       "    </tr>\n",
       "    <tr>\n",
       "      <th>3</th>\n",
       "      <td>3/4/17</td>\n",
       "      <td>44.03</td>\n",
       "      <td>2017-03-03 21:51:00</td>\n",
       "      <td>26.49</td>\n",
       "      <td>2017-03-03 14:06:00</td>\n",
       "      <td>0.14</td>\n",
       "      <td>0.70</td>\n",
       "      <td>0.0017</td>\n",
       "      <td>2017-03-03 12:21:00</td>\n",
       "      <td>2017-03-03 23:49:00</td>\n",
       "      <td>2.26</td>\n",
       "      <td>4.0</td>\n",
       "      <td>3.0</td>\n",
       "      <td>Friday</td>\n",
       "      <td>17.54</td>\n",
       "    </tr>\n",
       "    <tr>\n",
       "      <th>4</th>\n",
       "      <td>3/5/17</td>\n",
       "      <td>65.98</td>\n",
       "      <td>2017-03-04 21:24:00</td>\n",
       "      <td>27.40</td>\n",
       "      <td>2017-03-04 10:06:00</td>\n",
       "      <td>0.03</td>\n",
       "      <td>0.00</td>\n",
       "      <td>0.0000</td>\n",
       "      <td>2017-03-04 12:20:00</td>\n",
       "      <td>2017-03-04 23:50:00</td>\n",
       "      <td>4.69</td>\n",
       "      <td>5.0</td>\n",
       "      <td>3.0</td>\n",
       "      <td>Saturday</td>\n",
       "      <td>38.58</td>\n",
       "    </tr>\n",
       "  </tbody>\n",
       "</table>\n",
       "</div>"
      ],
      "text/plain": [
       "     Date  MaxTemp             MaxTime  MinTemp             MinTime  \\\n",
       "0  3/1/17    68.48 2017-03-01 05:00:00    51.69 2017-02-28 09:18:00   \n",
       "1  3/2/17    69.75 2017-03-01 10:30:00    36.00 2017-03-02 05:00:00   \n",
       "2  3/3/17    51.93 2017-03-02 21:49:00    30.87 2017-03-02 11:39:00   \n",
       "3  3/4/17    44.03 2017-03-03 21:51:00    26.49 2017-03-03 14:06:00   \n",
       "4  3/5/17    65.98 2017-03-04 21:24:00    27.40 2017-03-04 10:06:00   \n",
       "\n",
       "   cloudCover  precipProbability  precipAmount         sunriseTime  \\\n",
       "0        0.96               0.91        0.0184 2017-02-28 12:25:00   \n",
       "1        0.53               1.00        0.2422 2017-03-01 12:24:00   \n",
       "2        0.18               0.36        0.0028 2017-03-02 12:23:00   \n",
       "3        0.14               0.70        0.0017 2017-03-03 12:21:00   \n",
       "4        0.03               0.00        0.0000 2017-03-04 12:20:00   \n",
       "\n",
       "           sunsetTime  windSpeed  MaxDay  MaxMonth MaxDayName  TempRange  \n",
       "0 2017-02-28 23:46:00       6.20     2.0       3.0  Wednesday      16.79  \n",
       "1 2017-03-01 23:47:00       9.69     2.0       3.0  Wednesday      33.75  \n",
       "2 2017-03-02 23:48:00       4.63     3.0       3.0   Thursday      21.06  \n",
       "3 2017-03-03 23:49:00       2.26     4.0       3.0     Friday      17.54  \n",
       "4 2017-03-04 23:50:00       4.69     5.0       3.0   Saturday      38.58  "
      ]
     },
     "execution_count": 15,
     "metadata": {},
     "output_type": "execute_result"
    }
   ],
   "source": [
    "# Display the first 5 records\n",
    "df_weather.head(5)"
   ]
  },
  {
   "cell_type": "markdown",
   "id": "fadd1523",
   "metadata": {},
   "source": [
    "### Summary\n",
    "---\n",
    "This section added a new \"TempRange\" column to the df_weather DataFrame by performing a calculation between two other columns. The code then runs the .head(5) method in order to verify the new column's presence at the end of the DataFrame."
   ]
  },
  {
   "cell_type": "markdown",
   "id": "9fbc0caf",
   "metadata": {},
   "source": [
    "## Section 8. Slice and Filter Data"
   ]
  },
  {
   "cell_type": "markdown",
   "id": "e3c57cf2",
   "metadata": {},
   "source": [
    "### Description\n",
    "---\n",
    "This sections slices the data to show just the first five values for MaxDay and MaxMonth. <br>\n",
    "It then creates a new DataFrame using the slice, and shows the descriptive statistics of the new DataFrame"
   ]
  },
  {
   "cell_type": "code",
   "execution_count": 16,
   "id": "89fd0c3b",
   "metadata": {},
   "outputs": [
    {
     "data": {
      "text/html": [
       "<div>\n",
       "<style scoped>\n",
       "    .dataframe tbody tr th:only-of-type {\n",
       "        vertical-align: middle;\n",
       "    }\n",
       "\n",
       "    .dataframe tbody tr th {\n",
       "        vertical-align: top;\n",
       "    }\n",
       "\n",
       "    .dataframe thead th {\n",
       "        text-align: right;\n",
       "    }\n",
       "</style>\n",
       "<table border=\"1\" class=\"dataframe\">\n",
       "  <thead>\n",
       "    <tr style=\"text-align: right;\">\n",
       "      <th></th>\n",
       "      <th>MaxDay</th>\n",
       "    </tr>\n",
       "  </thead>\n",
       "  <tbody>\n",
       "    <tr>\n",
       "      <th>0</th>\n",
       "      <td>2.0</td>\n",
       "    </tr>\n",
       "    <tr>\n",
       "      <th>1</th>\n",
       "      <td>2.0</td>\n",
       "    </tr>\n",
       "    <tr>\n",
       "      <th>2</th>\n",
       "      <td>3.0</td>\n",
       "    </tr>\n",
       "    <tr>\n",
       "      <th>3</th>\n",
       "      <td>4.0</td>\n",
       "    </tr>\n",
       "    <tr>\n",
       "      <th>4</th>\n",
       "      <td>5.0</td>\n",
       "    </tr>\n",
       "  </tbody>\n",
       "</table>\n",
       "</div>"
      ],
      "text/plain": [
       "   MaxDay\n",
       "0     2.0\n",
       "1     2.0\n",
       "2     3.0\n",
       "3     4.0\n",
       "4     5.0"
      ]
     },
     "execution_count": 16,
     "metadata": {},
     "output_type": "execute_result"
    }
   ],
   "source": [
    "# Display the MaxDay column only \n",
    "df_weather[['MaxDay']].head()"
   ]
  },
  {
   "cell_type": "code",
   "execution_count": 17,
   "id": "e5f08d51",
   "metadata": {},
   "outputs": [
    {
     "data": {
      "text/html": [
       "<div>\n",
       "<style scoped>\n",
       "    .dataframe tbody tr th:only-of-type {\n",
       "        vertical-align: middle;\n",
       "    }\n",
       "\n",
       "    .dataframe tbody tr th {\n",
       "        vertical-align: top;\n",
       "    }\n",
       "\n",
       "    .dataframe thead th {\n",
       "        text-align: right;\n",
       "    }\n",
       "</style>\n",
       "<table border=\"1\" class=\"dataframe\">\n",
       "  <thead>\n",
       "    <tr style=\"text-align: right;\">\n",
       "      <th></th>\n",
       "      <th>MaxMonth</th>\n",
       "    </tr>\n",
       "  </thead>\n",
       "  <tbody>\n",
       "    <tr>\n",
       "      <th>0</th>\n",
       "      <td>3.0</td>\n",
       "    </tr>\n",
       "    <tr>\n",
       "      <th>1</th>\n",
       "      <td>3.0</td>\n",
       "    </tr>\n",
       "    <tr>\n",
       "      <th>2</th>\n",
       "      <td>3.0</td>\n",
       "    </tr>\n",
       "    <tr>\n",
       "      <th>3</th>\n",
       "      <td>3.0</td>\n",
       "    </tr>\n",
       "    <tr>\n",
       "      <th>4</th>\n",
       "      <td>3.0</td>\n",
       "    </tr>\n",
       "  </tbody>\n",
       "</table>\n",
       "</div>"
      ],
      "text/plain": [
       "   MaxMonth\n",
       "0       3.0\n",
       "1       3.0\n",
       "2       3.0\n",
       "3       3.0\n",
       "4       3.0"
      ]
     },
     "execution_count": 17,
     "metadata": {},
     "output_type": "execute_result"
    }
   ],
   "source": [
    "# Display the MaxMonth column only using iloc\n",
    "df_weather.iloc[:,[-3]].head()"
   ]
  },
  {
   "cell_type": "code",
   "execution_count": 18,
   "id": "4101cef9",
   "metadata": {},
   "outputs": [],
   "source": [
    "# Create a Dataframe named df_temp that includes MaxTemp, MinTemp, TempRange, and precipAmount\n",
    "df_temp = df_weather.iloc[:,[1,3,-1,6,]]"
   ]
  },
  {
   "cell_type": "code",
   "execution_count": 19,
   "id": "93b54ac6",
   "metadata": {
    "scrolled": true
   },
   "outputs": [
    {
     "data": {
      "text/html": [
       "<div>\n",
       "<style scoped>\n",
       "    .dataframe tbody tr th:only-of-type {\n",
       "        vertical-align: middle;\n",
       "    }\n",
       "\n",
       "    .dataframe tbody tr th {\n",
       "        vertical-align: top;\n",
       "    }\n",
       "\n",
       "    .dataframe thead th {\n",
       "        text-align: right;\n",
       "    }\n",
       "</style>\n",
       "<table border=\"1\" class=\"dataframe\">\n",
       "  <thead>\n",
       "    <tr style=\"text-align: right;\">\n",
       "      <th></th>\n",
       "      <th>MaxTemp</th>\n",
       "      <th>MinTemp</th>\n",
       "      <th>TempRange</th>\n",
       "      <th>precipProbability</th>\n",
       "    </tr>\n",
       "  </thead>\n",
       "  <tbody>\n",
       "    <tr>\n",
       "      <th>count</th>\n",
       "      <td>61.000000</td>\n",
       "      <td>61.000000</td>\n",
       "      <td>61.000000</td>\n",
       "      <td>61.000000</td>\n",
       "    </tr>\n",
       "    <tr>\n",
       "      <th>mean</th>\n",
       "      <td>65.899672</td>\n",
       "      <td>44.517869</td>\n",
       "      <td>21.381803</td>\n",
       "      <td>0.374754</td>\n",
       "    </tr>\n",
       "    <tr>\n",
       "      <th>std</th>\n",
       "      <td>13.686520</td>\n",
       "      <td>12.397472</td>\n",
       "      <td>7.482015</td>\n",
       "      <td>0.435797</td>\n",
       "    </tr>\n",
       "    <tr>\n",
       "      <th>min</th>\n",
       "      <td>29.530000</td>\n",
       "      <td>16.390000</td>\n",
       "      <td>8.220000</td>\n",
       "      <td>0.000000</td>\n",
       "    </tr>\n",
       "    <tr>\n",
       "      <th>25%</th>\n",
       "      <td>56.630000</td>\n",
       "      <td>36.000000</td>\n",
       "      <td>15.750000</td>\n",
       "      <td>0.000000</td>\n",
       "    </tr>\n",
       "    <tr>\n",
       "      <th>50%</th>\n",
       "      <td>68.700000</td>\n",
       "      <td>45.700000</td>\n",
       "      <td>20.890000</td>\n",
       "      <td>0.000000</td>\n",
       "    </tr>\n",
       "    <tr>\n",
       "      <th>75%</th>\n",
       "      <td>76.190000</td>\n",
       "      <td>52.690000</td>\n",
       "      <td>25.610000</td>\n",
       "      <td>0.890000</td>\n",
       "    </tr>\n",
       "    <tr>\n",
       "      <th>max</th>\n",
       "      <td>86.360000</td>\n",
       "      <td>66.100000</td>\n",
       "      <td>38.580000</td>\n",
       "      <td>1.000000</td>\n",
       "    </tr>\n",
       "  </tbody>\n",
       "</table>\n",
       "</div>"
      ],
      "text/plain": [
       "         MaxTemp    MinTemp  TempRange  precipProbability\n",
       "count  61.000000  61.000000  61.000000          61.000000\n",
       "mean   65.899672  44.517869  21.381803           0.374754\n",
       "std    13.686520  12.397472   7.482015           0.435797\n",
       "min    29.530000  16.390000   8.220000           0.000000\n",
       "25%    56.630000  36.000000  15.750000           0.000000\n",
       "50%    68.700000  45.700000  20.890000           0.000000\n",
       "75%    76.190000  52.690000  25.610000           0.890000\n",
       "max    86.360000  66.100000  38.580000           1.000000"
      ]
     },
     "execution_count": 19,
     "metadata": {},
     "output_type": "execute_result"
    }
   ],
   "source": [
    "# Show descriptive statistics about df_temp\n",
    "df_temp.describe()"
   ]
  },
  {
   "cell_type": "markdown",
   "id": "691dd010",
   "metadata": {},
   "source": [
    "### Summary\n",
    "---\n",
    "This sections uses various techniques to slice and filter the data, and creates a new DataFrame. \n",
    "- The first line of code uses the .head() method to view only one column of the df_weather DataFrame, 'MaxDay'\n",
    "- The second line of code uses the [iloc]( https://pandas.pydata.org/pandas-docs/stable/reference/api/pandas.DataFrame.iloc.html, \"iloc docs\") method to display the MaxMonth column of the df_weather DataFrame. \n",
    "- The third line of code creates a new DataFrame, df_temp, composed of 4 columns, MaxTemp, MinTemp, TempRange, and precipAmount, which are located at column index numbers 1,3,-1,and 6 respectively. \n",
    "- The final line of code runs the [.describe()](https://pandas.pydata.org/pandas-docs/stable/reference/api/pandas.Series.describe.html#pandas.Series.describe, \"describe docs\") method, which provides general statistics about the DataFrame. "
   ]
  }
 ],
 "metadata": {
  "kernelspec": {
   "display_name": "Python 3 (ipykernel)",
   "language": "python",
   "name": "python3"
  },
  "language_info": {
   "codemirror_mode": {
    "name": "ipython",
    "version": 3
   },
   "file_extension": ".py",
   "mimetype": "text/x-python",
   "name": "python",
   "nbconvert_exporter": "python",
   "pygments_lexer": "ipython3",
   "version": "3.11.5"
  }
 },
 "nbformat": 4,
 "nbformat_minor": 5
}
